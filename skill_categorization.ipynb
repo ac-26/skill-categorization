{
  "nbformat": 4,
  "nbformat_minor": 0,
  "metadata": {
    "colab": {
      "provenance": [],
      "mount_file_id": "1Zsa8lNQZfpAbJlbHcfZFKff9BW7XqitM",
      "authorship_tag": "ABX9TyN52J3zdeciT7BW2WQGZk9b",
      "include_colab_link": true
    },
    "kernelspec": {
      "name": "python3",
      "display_name": "Python 3"
    },
    "language_info": {
      "name": "python"
    }
  },
  "cells": [
    {
      "cell_type": "markdown",
      "metadata": {
        "id": "view-in-github",
        "colab_type": "text"
      },
      "source": [
        "<a href=\"https://colab.research.google.com/github/ac-26/skill-categorization/blob/main/skill_categorization.ipynb\" target=\"_parent\"><img src=\"https://colab.research.google.com/assets/colab-badge.svg\" alt=\"Open In Colab\"/></a>"
      ]
    },
    {
      "cell_type": "code",
      "source": [
        "import random\n",
        "import pandas as pd\n",
        "from itertools import permutations\n",
        "import re\n",
        "from nltk.corpus import stopwords\n",
        "import nltk\n",
        "nltk.download('stopwords')\n",
        "stopwords.words('english')"
      ],
      "metadata": {
        "id": "Q1Zwk5dhgRAh",
        "collapsed": true
      },
      "execution_count": null,
      "outputs": []
    },
    {
      "cell_type": "code",
      "source": [
        "pd.set_option('display.max_rows',None)\n",
        "pd.set_option('display.max_columns',None)\n",
        "pd.set_option('display.width',None)"
      ],
      "metadata": {
        "id": "mR-GXdirRB0i"
      },
      "execution_count": 3,
      "outputs": []
    },
    {
      "cell_type": "code",
      "source": [
        "# Defining random skill categories\n",
        "categories = {\n",
        "    \"Technical Skills\": [\"Python\", \"Java\", \"JavaScript\", \"C++\", \"C#\", \"Swift\", \"Go\", \"Kotlin\", \"Ruby\", \"PHP\",\n",
        "                         \"TypeScript\", \"Rust\", \"Dart\", \"Scala\", \"Perl\", \"Assembly Language\", \"SQL\", \"NoSQL\", \"GraphQL\",\n",
        "                         \"HTML\", \"CSS\", \"Data Structures & Algorithms\", \"Object-Oriented Programming (OOP)\",\n",
        "                         \"Functional Programming\", \"API Development\", \"RESTful Services\", \"Microservices Architecture\",\n",
        "                         \"Cloud Computing (AWS, Azure, GCP)\", \"Docker & Kubernetes\", \"CI/CD Pipelines\", \"DevOps Practices\",\n",
        "                         \"Linux System Administration\", \"Version Control (Git, GitHub, GitLab)\", \"Cybersecurity Principles\",\n",
        "                         \"Blockchain Development\", \"Machine Learning & AI\", \"Deep Learning Frameworks (TensorFlow, PyTorch)\",\n",
        "                         \"Data Engineering (ETL, Apache Spark)\", \"Big Data Technologies (Hadoop, Kafka)\", \"Computer Vision\",\n",
        "                         \"Natural Language Processing (NLP)\", \"Internet of Things (IoT)\", \"Embedded Systems Development\",\n",
        "                         \"Mobile App Development (Android, iOS)\", \"Web Development (Frontend & Backend)\", \"Game Development (Unity, Unreal Engine)\",\n",
        "                         \"Quantum Computing Basics\", \"Augmented & Virtual Reality (AR/VR)\", \"Software Testing & Automation\",\n",
        "                         \"Penetration Testing & Ethical Hacking\"],\n",
        "\n",
        "    \"Data & Analytical Skills\": [\"Data Analysis\", \"Data Mining\", \"Data Visualization\", \"Machine Learning\", \"Deep Learning\",\n",
        "                        \"NLP (Natural Language Processing)\", \"Computer Vision\", \"Statistical Modeling\", \"Data Cleaning & Preprocessing\",\n",
        "                        \"Feature Engineering\", \"Exploratory Data Analysis (EDA)\", \"Hypothesis Testing\", \"Predictive Analytics\",\n",
        "                        \"Time Series Analysis\", \"A/B Testing\", \"Model Evaluation & Validation\", \"Supervised Learning\",\n",
        "                        \"Unsupervised Learning\", \"Reinforcement Learning\", \"Regression Analysis\", \"Classification Algorithms\",\n",
        "                        \"Clustering Algorithms\", \"Decision Trees & Random Forests\", \"Support Vector Machines (SVM)\",\n",
        "                        \"K-Nearest Neighbors (KNN)\", \"Neural Networks\", \"Dimensionality Reduction (PCA, LDA)\", \"Bayesian Analysis\",\n",
        "                        \"Text Mining\", \"Speech Recognition\", \"Sentiment Analysis\", \"Deep Neural Networks (DNN)\",\n",
        "                        \"Convolutional Neural Networks (CNN)\", \"Recurrent Neural Networks (RNN)\", \"Generative Adversarial Networks (GAN)\",\n",
        "                        \"Gradient Boosting Algorithms (XGBoost, LightGBM)\", \"Natural Language Generation (NLG)\", \"Data Warehousing\",\n",
        "                        \"Data Architecture & Modeling\", \"SQL for Data Analysis\", \"NoSQL for Data Storage\", \"Big Data Analysis (Hadoop, Spark)\",\n",
        "                        \"Data Ethics & Privacy\", \"Cloud-Based Analytics (AWS, GCP, Azure)\", \"Real-Time Analytics\", \"Data Governance & Compliance\",\n",
        "                        \"Dashboard Creation (Power BI, Tableau)\", \"Data Reporting & Presentation\", \"Statistical Programming (R, SAS)\",\n",
        "                        \"Business Intelligence (BI) Tools\"],\n",
        "\n",
        "    \"Business & Management Skills\": [\"Project Management\", \"Agile Methodologies\", \"Leadership\", \"Finance\", \"Marketing\",\n",
        "                        \"Strategic Planning\", \"Team Management\", \"Change Management\", \"Risk Management\", \"Budgeting\",\n",
        "                        \"Time Management\", \"Negotiation\", \"Business Development\", \"Sales Management\", \"Client Relations\",\n",
        "                        \"Performance Management\", \"Conflict Resolution\", \"Operational Efficiency\", \"Process Improvement\",\n",
        "                        \"Customer Relationship Management (CRM)\", \"Vendor Management\", \"Supply Chain Management\",\n",
        "                        \"Resource Allocation\", \"Talent Acquisition\", \"Employee Development\", \"Staff Training\", \"Compliance Management\",\n",
        "                        \"Mergers & Acquisitions\", \"Market Research\", \"Brand Management\", \"Product Development\", \"Product Lifecycle Management\",\n",
        "                        \"Forecasting\", \"Business Analytics\", \"Market Segmentation\", \"Sales Forecasting\", \"Public Relations\",\n",
        "                        \"Customer Retention\", \"Corporate Social Responsibility (CSR)\", \"Business Communication\", \"Stakeholder Management\",\n",
        "                        \"Decision Making\", \"Problem Solving\", \"SWOT Analysis\", \"Financial Analysis\", \"Cash Flow Management\",\n",
        "                        \"Fundraising\", \"Investor Relations\", \"Strategic Partnerships\", \"Crisis Management\", \"Business Process Outsourcing (BPO)\"],\n",
        "\n",
        "    \"Creative Skills\": [\"Graphic Design\", \"UX/UI Design\", \"Video Editing\", \"Photography\", \"Illustration\",\n",
        "                        \"Animation\", \"3D Modeling\", \"Creative Writing\", \"Storytelling\", \"Copywriting\",\n",
        "                        \"Branding\", \"Typography\", \"Color Theory\", \"Visual Communication\", \"Art Direction\",\n",
        "                        \"Logo Design\", \"Concept Art\", \"Motion Graphics\", \"Digital Painting\", \"Character Design\",\n",
        "                        \"Game Design\", \"Sound Design\", \"Music Composition\", \"Scriptwriting\", \"Cinematography\",\n",
        "                        \"Photo Manipulation\", \"Print Design\", \"User Research\", \"Wireframing\", \"Prototyping\",\n",
        "                        \"Infographic Design\", \"Editorial Design\", \"Advertising Design\", \"Social Media Content Creation\",\n",
        "                        \"Creative Problem-Solving\", \"Idea Generation\", \"Brainstorming\", \"Design Thinking\",\n",
        "                        \"Experiential Design\", \"Environmental Design\", \"Interior Design\", \"Fashion Design\",\n",
        "                        \"Hand Lettering\", \"Calligraphy\", \"Stop Motion Animation\", \"Augmented Reality (AR) Design\",\n",
        "                        \"Virtual Reality (VR) Design\", \"Interactive Media\", \"Web Design\", \"Illustration for Publishing\",\n",
        "                        \"Set Design\", \"Creative Direction\"],\n",
        "\n",
        "    \"Soft Skills\": [\"Communication\", \"Teamwork\", \"Problem-Solving\", \"Critical Thinking\", \"Adaptability\", \"Active Listening\",\n",
        "                    \"Verbal Communication\", \"Written Communication\", \"Public Speaking\",\"Negotiation\", \"Persuasion\", \"Storytelling\",\n",
        "                    \"Constructive Feedback\", \"Nonverbal Communication\",\"Empathy\", \"Conflict Resolution\", \"Relationship Building\",\n",
        "                    \"Emotional Intelligence\", \"Teamwork\",\"Collaboration\", \"Diplomacy\", \"Tactfulness\", \"Respectfulness\",\n",
        "                    \"Adaptability\", \"Decision-Making\",\"Strategic Thinking\", \"Delegation\", \"Motivation\", \"Coaching & Mentoring\",\n",
        "                    \"Accountability\",\"Confidence\", \"Inspiring Others\", \"Ethical Leadership\", \"Visionary Thinking\",\n",
        "                    \"Analytical Thinking\",\"Creativity\", \"Innovation\", \"Logical Reasoning\", \"Resourcefulness\", \"Troubleshooting\",\n",
        "                    \"Risk Management\",\"Data-Driven Decision-Making\", \"Open-Mindedness\", \"Lateral Thinking\", \"Prioritization\",\n",
        "                    \"Goal Setting\",\"Multitasking\", \"Meeting Deadlines\", \"Planning & Organizing\", \"Self-Discipline\", \"Focus & Concentration\",\n",
        "                    \"Stress Management\", \"Time Management\", \"Work-Life Balance\", \"Flexibility\", \"Emotional Resilience\"]\n",
        "}"
      ],
      "metadata": {
        "id": "xAu7-9CcgXcn",
        "collapsed": true
      },
      "execution_count": 64,
      "outputs": []
    },
    {
      "cell_type": "code",
      "source": [
        "# Data Augmentation Functions\n",
        "def generate_variations(skill, category):\n",
        "    variations = [\n",
        "        (skill, category),\n",
        "        (f\"Expert in {skill}\", category),\n",
        "        (f\"Proficient in {skill}\", category),\n",
        "        (f\"{skill} Specialist\", category),\n",
        "        (f\"Experience with {skill}\", category)\n",
        "    ]\n",
        "    return variations\n"
      ],
      "metadata": {
        "id": "aUstg9MgFdm9"
      },
      "execution_count": 5,
      "outputs": []
    },
    {
      "cell_type": "code",
      "source": [
        "# Generating synthetic dataset\n",
        "synthetic_data = []\n",
        "for category, skills in categories.items():\n",
        "    for skill in skills:\n",
        "        synthetic_data.extend(generate_variations(skill, category))"
      ],
      "metadata": {
        "id": "4RYDQXnfFgSu"
      },
      "execution_count": 6,
      "outputs": []
    },
    {
      "cell_type": "code",
      "source": [
        "df = pd.DataFrame(synthetic_data, columns=[\"Skill\", \"Category\"])\n",
        "\n",
        "df = df.sample(frac=1, random_state=42).reset_index(drop=True)\n",
        "\n",
        "df.to_csv(\"synthetic_skills_dataset.csv\", index=False)\n",
        "\n",
        "print(df.head())"
      ],
      "metadata": {
        "colab": {
          "base_uri": "https://localhost:8080/"
        },
        "id": "Fq9QmWiQFi4t",
        "outputId": "07f8c8e9-b61f-4c7a-e35f-0a60a08228cc"
      },
      "execution_count": 7,
      "outputs": [
        {
          "output_type": "stream",
          "name": "stdout",
          "text": [
            "                                         Skill                  Category\n",
            "0                  Experience with Logo Design           Creative Skills\n",
            "1  Proficient in Model Evaluation & Validation  Data & Analytical Skills\n",
            "2                  Experience with Concept Art           Creative Skills\n",
            "3                        Expert in Tactfulness               Soft Skills\n",
            "4              Expert in Stop Motion Animation           Creative Skills\n"
          ]
        }
      ]
    },
    {
      "cell_type": "code",
      "source": [
        "print(df.shape)"
      ],
      "metadata": {
        "colab": {
          "base_uri": "https://localhost:8080/"
        },
        "id": "STc5CVL7FmCG",
        "outputId": "2c37ddc5-8479-4c79-c60d-cf9b891c34f1"
      },
      "execution_count": 8,
      "outputs": [
        {
          "output_type": "stream",
          "name": "stdout",
          "text": [
            "(1295, 2)\n"
          ]
        }
      ]
    },
    {
      "cell_type": "code",
      "source": [
        "category_counts = df[\"Category\"].value_counts()"
      ],
      "metadata": {
        "id": "RBRaMRICFr3x"
      },
      "execution_count": 9,
      "outputs": []
    },
    {
      "cell_type": "code",
      "source": [
        "category_counts"
      ],
      "metadata": {
        "colab": {
          "base_uri": "https://localhost:8080/",
          "height": 264
        },
        "id": "WCCjrx3wF-xF",
        "outputId": "3ff6ee83-b057-4c4c-b9c4-ef95173f8c4d"
      },
      "execution_count": 10,
      "outputs": [
        {
          "output_type": "execute_result",
          "data": {
            "text/plain": [
              "Category\n",
              "Soft Skills                     280\n",
              "Creative Skills                 260\n",
              "Business & Management Skills    255\n",
              "Data & Analytical Skills        250\n",
              "Technical Skills                250\n",
              "Name: count, dtype: int64"
            ],
            "text/html": [
              "<div>\n",
              "<style scoped>\n",
              "    .dataframe tbody tr th:only-of-type {\n",
              "        vertical-align: middle;\n",
              "    }\n",
              "\n",
              "    .dataframe tbody tr th {\n",
              "        vertical-align: top;\n",
              "    }\n",
              "\n",
              "    .dataframe thead th {\n",
              "        text-align: right;\n",
              "    }\n",
              "</style>\n",
              "<table border=\"1\" class=\"dataframe\">\n",
              "  <thead>\n",
              "    <tr style=\"text-align: right;\">\n",
              "      <th></th>\n",
              "      <th>count</th>\n",
              "    </tr>\n",
              "    <tr>\n",
              "      <th>Category</th>\n",
              "      <th></th>\n",
              "    </tr>\n",
              "  </thead>\n",
              "  <tbody>\n",
              "    <tr>\n",
              "      <th>Soft Skills</th>\n",
              "      <td>280</td>\n",
              "    </tr>\n",
              "    <tr>\n",
              "      <th>Creative Skills</th>\n",
              "      <td>260</td>\n",
              "    </tr>\n",
              "    <tr>\n",
              "      <th>Business &amp; Management Skills</th>\n",
              "      <td>255</td>\n",
              "    </tr>\n",
              "    <tr>\n",
              "      <th>Data &amp; Analytical Skills</th>\n",
              "      <td>250</td>\n",
              "    </tr>\n",
              "    <tr>\n",
              "      <th>Technical Skills</th>\n",
              "      <td>250</td>\n",
              "    </tr>\n",
              "  </tbody>\n",
              "</table>\n",
              "</div><br><label><b>dtype:</b> int64</label>"
            ]
          },
          "metadata": {},
          "execution_count": 10
        }
      ]
    },
    {
      "cell_type": "markdown",
      "source": [
        "### ***Till this step I have created a sysnthetic data set and applied basic data augmentation to increased the size of our dataset. We can also have applied LLM's for advanced data augmwntation which would give us exponential growth using LLM based data augmentaion. But as of now this small dataset should be suffiecient to showcase my model building skills. This way of Data Acquisition also shows my creativity and problem solving skills to obtain workable data.***"
      ],
      "metadata": {
        "id": "sRW3B5pLLoh-"
      }
    },
    {
      "cell_type": "code",
      "source": [
        "print(df.head(100))"
      ],
      "metadata": {
        "collapsed": true,
        "id": "RP-KBFJdGxrr"
      },
      "execution_count": null,
      "outputs": []
    },
    {
      "cell_type": "markdown",
      "source": [
        "### Now as **Data Acquisition** is **complete**. We start with **Text Pre-Processing**"
      ],
      "metadata": {
        "id": "vLcsdzeseDo1"
      }
    },
    {
      "cell_type": "markdown",
      "source": [
        "## Converting all to **lowercase** and performing other **uniformity operations**.\n",
        "### This shows my **data pre-processing** and **EDA** skills\n"
      ],
      "metadata": {
        "id": "lIWaB_po-eQd"
      }
    },
    {
      "cell_type": "code",
      "source": [
        "df['Skill'] = df['Skill'].str.lower()"
      ],
      "metadata": {
        "id": "McmfkSieNTm0"
      },
      "execution_count": 12,
      "outputs": []
    },
    {
      "cell_type": "code",
      "source": [
        "df['Category'] = df['Category'].str.lower()"
      ],
      "metadata": {
        "id": "EEZCjOmB-uY3"
      },
      "execution_count": 13,
      "outputs": []
    },
    {
      "cell_type": "code",
      "source": [
        "df.columns = ['skill', 'category']"
      ],
      "metadata": {
        "id": "JZPa0GrQ_DXB"
      },
      "execution_count": 14,
      "outputs": []
    },
    {
      "cell_type": "code",
      "source": [
        "df['skill'] = df['skill'].apply(lambda x: x.replace('C++', 'c plus plus').replace('c++', 'c plus plus') if isinstance(x, str) else x)"
      ],
      "metadata": {
        "id": "yvb5E4q_B9XB"
      },
      "execution_count": 15,
      "outputs": []
    },
    {
      "cell_type": "code",
      "source": [
        "df['skill'] = df['skill'].apply(lambda x: x.replace('c#', 'c hash').replace('c#', 'c hash') if isinstance(x, str) else x)"
      ],
      "metadata": {
        "id": "s5SfIfc4FkbZ"
      },
      "execution_count": 16,
      "outputs": []
    },
    {
      "cell_type": "code",
      "source": [
        "df['skill'] = df['skill'].apply(lambda x: x.replace('&', 'and').replace('&', 'and') if isinstance(x, str) else x)\n",
        "df['category'] = df['category'].apply(lambda x: x.replace('&', 'and').replace('&', 'and') if isinstance(x, str) else x)"
      ],
      "metadata": {
        "id": "azN4YNIHGU5d"
      },
      "execution_count": 17,
      "outputs": []
    },
    {
      "cell_type": "code",
      "source": [
        "df"
      ],
      "metadata": {
        "id": "5-8JSi-DGmno"
      },
      "execution_count": null,
      "outputs": []
    },
    {
      "cell_type": "code",
      "source": [
        "#What special charecters are still present in my data\n",
        "special_chars = set()\n",
        "df['skill'].dropna().apply(lambda x: special_chars.update(re.findall(r'[^a-zA-Z0-9\\s]', x)))\n",
        "\n",
        "print(\"Special symbols present in the data:\", special_chars)\n"
      ],
      "metadata": {
        "colab": {
          "base_uri": "https://localhost:8080/"
        },
        "id": "uDXzcBsvHJk0",
        "outputId": "3b129c41-13fe-4607-bb8c-1841b5c1483c"
      },
      "execution_count": 19,
      "outputs": [
        {
          "output_type": "stream",
          "name": "stdout",
          "text": [
            "Special symbols present in the data: {'-', '(', ',', '/', ')'}\n"
          ]
        }
      ]
    },
    {
      "cell_type": "markdown",
      "source": [
        "### Removed all **special charecters**"
      ],
      "metadata": {
        "id": "xcQNgxhPJIuS"
      }
    },
    {
      "cell_type": "code",
      "source": [
        "special_chars_to_remove = r\"[\\(\\)\\-,/]\"\n",
        "\n",
        "df['skill'] = df['skill'].apply(lambda x: re.sub(special_chars_to_remove, '', x) if isinstance(x, str) else x)\n"
      ],
      "metadata": {
        "id": "g-mpbenRHha2"
      },
      "execution_count": 20,
      "outputs": []
    },
    {
      "cell_type": "markdown",
      "source": [
        "### Handling **Stop Words** -> I am not removing stop words as my data depends on them, eg -> phrases like Expert **in** Python"
      ],
      "metadata": {
        "id": "YMLKQiblKDW7"
      }
    },
    {
      "cell_type": "code",
      "source": [
        "df"
      ],
      "metadata": {
        "id": "jObQk7RZLgA0"
      },
      "execution_count": null,
      "outputs": []
    },
    {
      "cell_type": "markdown",
      "source": [
        "### **Not handling synonyms** right now because my data size depends on it"
      ],
      "metadata": {
        "id": "mzcNJRC4P9f1"
      }
    },
    {
      "cell_type": "markdown",
      "source": [
        "### **Continuing to Tokenization**"
      ],
      "metadata": {
        "id": "F_1QJj3HPfe1"
      }
    },
    {
      "cell_type": "code",
      "source": [
        "pip install nltk\n",
        "import nltk\n",
        "\n",
        "nltk.download('punkt_tab')\n",
        "import spacy\n",
        "from nltk.tokenize import word_tokenize\n",
        "from spacy.lang.en import English\n",
        "\n",
        "nlp = English()\n",
        "tokenizer = nlp.tokenizer\n",
        "\n",
        "def nltk_tokenization(skills_list):\n",
        "    return [word_tokenize(skill.lower()) for skill in skills_list]\n",
        "\n",
        "\n",
        "def spacy_tokenization(skills_list):\n",
        "    return [[token.text.lower() for token in tokenizer(skill)] for skill in skills_list]\n",
        "\n",
        "nltk_tokens = nltk_tokenization(df['skill'])\n",
        "spacy_tokens = spacy_tokenization(df['skill'])\n",
        "\n",
        "# print(\"NLTK Tokenization:\", nltk_tokens)\n",
        "print(\"SpaCy Tokenization:\", spacy_tokens)"
      ],
      "metadata": {
        "colab": {
          "base_uri": "https://localhost:8080/"
        },
        "id": "0Rj0yoXYMZrW",
        "outputId": "713c2930-d8f9-4296-b00d-78fffb879005",
        "collapsed": true
      },
      "execution_count": 22,
      "outputs": [
        {
          "output_type": "stream",
          "name": "stdout",
          "text": [
            "Requirement already satisfied: nltk in /usr/local/lib/python3.11/dist-packages (3.9.1)\n",
            "Requirement already satisfied: click in /usr/local/lib/python3.11/dist-packages (from nltk) (8.1.8)\n",
            "Requirement already satisfied: joblib in /usr/local/lib/python3.11/dist-packages (from nltk) (1.4.2)\n",
            "Requirement already satisfied: regex>=2021.8.3 in /usr/local/lib/python3.11/dist-packages (from nltk) (2024.11.6)\n",
            "Requirement already satisfied: tqdm in /usr/local/lib/python3.11/dist-packages (from nltk) (4.67.1)\n"
          ]
        },
        {
          "output_type": "stream",
          "name": "stderr",
          "text": [
            "[nltk_data] Downloading package punkt_tab to /root/nltk_data...\n",
            "[nltk_data]   Unzipping tokenizers/punkt_tab.zip.\n"
          ]
        },
        {
          "output_type": "stream",
          "name": "stdout",
          "text": [
            "SpaCy Tokenization: [['experience', 'with', 'logo', 'design'], ['proficient', 'in', 'model', 'evaluation', 'and', 'validation'], ['experience', 'with', 'concept', 'art'], ['expert', 'in', 'tactfulness'], ['expert', 'in', 'stop', 'motion', 'animation'], ['expert', 'in', 'change', 'management'], ['proficient', 'in', 'data', 'governance', 'and', 'compliance'], ['constructive', 'feedback', 'specialist'], ['experience', 'with', 'print', 'design'], ['expert', 'in', 'assembly', 'language'], ['proficient', 'in', 'creativity'], ['respectfulness'], ['statistical', 'programming', 'r', 'sas'], ['expert', 'in', 'data', 'ethics', 'and', 'privacy'], ['proficient', 'in', 'classification', 'algorithms'], ['experience', 'with', 'ruby'], ['scala'], ['fundraising'], ['project', 'management', 'specialist'], ['data', 'reporting', 'and', 'presentation'], ['natural', 'language', 'generation', 'nlg'], ['recurrent', 'neural', 'networks', 'rnn'], ['experience', 'with', 'verbal', 'communication'], ['expert', 'in', 'css'], ['data', 'governance', 'and', 'compliance', 'specialist'], ['machine', 'learning'], ['calligraphy'], ['mobile', 'app', 'development', 'android', 'ios', 'specialist'], ['stress', 'management'], ['experience', 'with', 'stakeholder', 'management'], ['planning', 'and', 'organizing'], ['dimensionality', 'reduction', 'pca', 'lda'], ['proficient', 'in', 'video', 'editing'], ['experience', 'with', 'leadership'], ['collaboration', 'specialist'], ['dart', 'specialist'], ['expert', 'in', 'forecasting'], ['proficient', 'in', 'dimensionality', 'reduction', 'pca', 'lda'], ['swot', 'analysis'], ['leadership', 'specialist'], ['assembly', 'language', 'specialist'], ['relationship', 'building', 'specialist'], ['experience', 'with', 'hypothesis', 'testing'], ['expert', 'in', 'market', 'segmentation'], ['experience', 'with', 'text', 'mining'], ['proficient', 'in', 'data', 'ethics', 'and', 'privacy'], ['expert', 'in', 'storytelling'], ['computer', 'vision', 'specialist'], ['critical', 'thinking'], ['proficient', 'in', 'vendor', 'management'], ['internet', 'of', 'things', 'iot', 'specialist'], ['experience', 'with', 'user', 'research'], ['environmental', 'design'], ['corporate', 'social', 'responsibility', 'csr', 'specialist'], ['proficient', 'in', 'strategic', 'planning'], ['c', 'hash', 'specialist'], ['interactive', 'media'], ['proficient', 'in', 'stress', 'management'], ['business', 'analytics'], ['expert', 'in', 'typescript'], ['employee', 'development'], ['ruby', 'specialist'], ['expert', 'in', 'computer', 'vision'], ['proficient', 'in', 'adaptability'], ['visionary', 'thinking', 'specialist'], ['experience', 'with', 'deep', 'learning', 'frameworks', 'tensorflow', 'pytorch'], ['expert', 'in', 'customer', 'relationship', 'management', 'crm'], ['experience', 'with', 'photography'], ['diplomacy'], ['expert', 'in', 'troubleshooting'], ['expert', 'in', 'design', 'thinking'], ['expert', 'in', 'worklife', 'balance'], ['expert', 'in', 'data', 'visualization'], ['communication'], ['social', 'media', 'content', 'creation', 'specialist'], ['expert', 'in', 'decision', 'making'], ['expert', 'in', 'teamwork'], ['conflict', 'resolution'], ['resourcefulness'], ['expert', 'in', 'swot', 'analysis'], ['speech', 'recognition', 'specialist'], ['proficient', 'in', 'natural', 'language', 'generation', 'nlg'], ['proficient', 'in', 'data', 'architecture', 'and', 'modeling'], ['experience', 'with', 'design', 'thinking'], ['proficient', 'in', 'go'], ['experience', 'with', 'reinforcement', 'learning'], ['experience', 'with', 'financial', 'analysis'], ['proficient', 'in', 'talent', 'acquisition'], ['expert', 'in', 'sql'], ['proficient', 'in', 'market', 'segmentation'], ['proficient', 'in', 'emotional', 'resilience'], ['proficient', 'in', 'persuasion'], ['process', 'improvement'], ['delegation'], ['expert', 'in', 'statistical', 'modeling'], ['quantum', 'computing', 'basics', 'specialist'], ['expert', 'in', 'motion', 'graphics'], ['proficient', 'in', 'penetration', 'testing', 'and', 'ethical', 'hacking'], ['experience', 'with', 'stop', 'motion', 'animation'], ['experience', 'with', 'data', 'analysis'], ['functional', 'programming'], ['animation', 'specialist'], ['experience', 'with', 'software', 'testing', 'and', 'automation'], ['data', 'warehousing', 'specialist'], ['expert', 'in', 'quantum', 'computing', 'basics'], ['experience', 'with', 'unsupervised', 'learning'], ['expert', 'in', 'character', 'design'], ['graphic', 'design'], ['proficient', 'in', 'big', 'data', 'technologies', 'hadoop', 'kafka'], ['regression', 'analysis', 'specialist'], ['software', 'testing', 'and', 'automation'], ['proficient', 'in', 'brainstorming'], ['expert', 'in', 'financial', 'analysis'], ['rust', 'specialist'], ['experience', 'with', 'innovation'], ['proficient', 'in', 'datadriven', 'decisionmaking'], ['decision', 'trees', 'and', 'random', 'forests', 'specialist'], ['proficient', 'in', 'dashboard', 'creation', 'power', 'bi', 'tableau'], ['expert', 'in', 'art', 'direction'], ['motion', 'graphics', 'specialist'], ['expert', 'in', 'strategic', 'planning'], ['proficient', 'in', 'customer', 'relationship', 'management', 'crm'], ['experience', 'with', 'php'], ['emotional', 'resilience'], ['flexibility', 'specialist'], ['experience', 'with', 'team', 'management'], ['expert', 'in', 'nosql'], ['expert', 'in', 'verbal', 'communication'], ['api', 'development', 'specialist'], ['software', 'testing', 'and', 'automation', 'specialist'], ['critical', 'thinking', 'specialist'], ['crisis', 'management'], ['proficient', 'in', 'worklife', 'balance'], ['expert', 'in', 'motivation'], ['experience', 'with', 'business', 'process', 'outsourcing', 'bpo'], ['typography', 'specialist'], ['restful', 'services', 'specialist'], ['generative', 'adversarial', 'networks', 'gan'], ['nlp', 'natural', 'language', 'processing'], ['expert', 'in', 'experiential', 'design'], ['expert', 'in', 'knearest', 'neighbors', 'knn'], ['proficient', 'in', 'branding'], ['experience', 'with', 'persuasion'], ['illustration', 'for', 'publishing'], ['proficient', 'in', 'innovation'], ['video', 'editing'], ['expert', 'in', 'strategic', 'partnerships'], ['experience', 'with', 'swift'], ['proficient', 'in', 'client', 'relations'], ['fashion', 'design', 'specialist'], ['expert', 'in', 'go'], ['expert', 'in', 'time', 'series', 'analysis'], ['proficient', 'in', 'nlp', 'natural', 'language', 'processing'], ['resourcefulness', 'specialist'], ['web', 'development', 'frontend', 'and', 'backend'], ['perl'], ['time', 'management', 'specialist'], ['experience', 'with', 'augmented', 'and', 'virtual', 'reality', 'arvr'], ['prototyping', 'specialist'], ['experience', 'with', 'strategic', 'planning'], ['experience', 'with', 'time', 'management'], ['experience', 'with', 'data', 'mining'], ['experience', 'with', 'analytical', 'thinking'], ['experience', 'with', 'deep', 'neural', 'networks', 'dnn'], ['budgeting', 'specialist'], ['php', 'specialist'], ['objectoriented', 'programming', 'oop', 'specialist'], ['linux', 'system', 'administration'], ['expert', 'in', 'collaboration'], ['expert', 'in', 'logical', 'reasoning'], ['print', 'design', 'specialist'], ['expert', 'in', 'web', 'development', 'frontend', 'and', 'backend'], ['clustering', 'algorithms', 'specialist'], ['flexibility'], ['proficient', 'in', 'time', 'management'], ['expert', 'in', 'negotiation'], ['proficient', 'in', 'data', 'structures', 'and', 'algorithms'], ['expert', 'in', 'realtime', 'analytics'], ['communication', 'specialist'], ['expert', 'in', 'inspiring', 'others'], ['art', 'direction', 'specialist'], ['lateral', 'thinking'], ['experience', 'with', 'creativity'], ['worklife', 'balance'], ['proficient', 'in', 'print', 'design'], ['coaching', 'and', 'mentoring'], ['embedded', 'systems', 'development'], ['experience', 'with', 'conflict', 'resolution'], ['change', 'management', 'specialist'], ['proficient', 'in', 'sales', 'forecasting'], ['cybersecurity', 'principles', 'specialist'], ['proficient', 'in', 'time', 'management'], ['proficient', 'in', 'business', 'analytics'], ['statistical', 'programming', 'r', 'sas', 'specialist'], ['proficient', 'in', 'gradient', 'boosting', 'algorithms', 'xgboost', 'lightgbm'], ['resource', 'allocation'], ['expert', 'in', 'accountability'], ['experience', 'with', 'blockchain', 'development'], ['experience', 'with', 'knearest', 'neighbors', 'knn'], ['expert', 'in', 'active', 'listening'], ['expert', 'in', 'classification', 'algorithms'], ['expert', 'in', 'relationship', 'building'], ['experience', 'with', 'typescript'], ['proficient', 'in', 'focus', 'and', 'concentration'], ['proficient', 'in', 'illustration', 'for', 'publishing'], ['proficient', 'in', 'respectfulness'], ['expert', 'in', 'rust'], ['proficient', 'in', 'investor', 'relations'], ['version', 'control', 'git', 'github', 'gitlab', 'specialist'], ['experience', 'with', 'data', 'structures', 'and', 'algorithms'], ['business', 'communication'], ['expert', 'in', 'animation'], ['expert', 'in', 'regression', 'analysis'], ['copywriting', 'specialist'], ['expert', 'in', 'supervised', 'learning'], ['confidence', 'specialist'], ['proficient', 'in', 'logo', 'design'], ['experience', 'with', 'web', 'design'], ['compliance', 'management'], ['proficient', 'in', 'infographic', 'design'], ['experience', 'with', 'prioritization'], ['expert', 'in', 'problem', 'solving'], ['branding', 'specialist'], ['user', 'research', 'specialist'], ['expert', 'in', 'mergers', 'and', 'acquisitions'], ['experience', 'with', 'product', 'development'], ['experience', 'with', 'fashion', 'design'], ['experience', 'with', 'budgeting'], ['financial', 'analysis', 'specialist'], ['experience', 'with', 'performance', 'management'], ['illustration', 'specialist'], ['expert', 'in', 'advertising', 'design'], ['advertising', 'design'], ['proficient', 'in', 'sql', 'for', 'data', 'analysis'], ['proficient', 'in', 'character', 'design'], ['ethical', 'leadership', 'specialist'], ['music', 'composition', 'specialist'], ['blockchain', 'development'], ['customer', 'relationship', 'management', 'crm', 'specialist'], ['expert', 'in', 'interactive', 'media'], ['proficient', 'in', 'resourcefulness'], ['feature', 'engineering', 'specialist'], ['supply', 'chain', 'management'], ['experience', 'with', 'internet', 'of', 'things', 'iot'], ['market', 'segmentation', 'specialist'], ['expert', 'in', 'feature', 'engineering'], ['docker', 'and', 'kubernetes'], ['proficient', 'in', 'music', 'composition'], ['game', 'design'], ['expert', 'in', 'agile', 'methodologies'], ['proficient', 'in', 'problem', 'solving'], ['proficient', 'in', 'support', 'vector', 'machines', 'svm'], ['stakeholder', 'management'], ['exploratory', 'data', 'analysis', 'eda', 'specialist'], ['experience', 'with', 'computer', 'vision'], ['proficient', 'in', 'cloudbased', 'analytics', 'aws', 'gcp', 'azure'], ['creative', 'problemsolving'], ['proficient', 'in', 'computer', 'vision'], ['javascript'], ['proficient', 'in', 'cicd', 'pipelines'], ['decision', 'making', 'specialist'], ['marketing', 'specialist'], ['expert', 'in', 'analytical', 'thinking'], ['experience', 'with', 'sound', 'design'], ['classification', 'algorithms'], ['expert', 'in', 'dimensionality', 'reduction', 'pca', 'lda'], ['proficient', 'in', 'social', 'media', 'content', 'creation'], ['deep', 'learning'], ['expert', 'in', 'decision', 'trees', 'and', 'random', 'forests'], ['cloud', 'computing', 'aws', 'azure', 'gcp'], ['expert', 'in', 'creative', 'direction'], ['experience', 'with', 'statistical', 'modeling'], ['budgeting'], ['experience', 'with', 'strategic', 'partnerships'], ['big', 'data', 'analysis', 'hadoop', 'spark', 'specialist'], ['linux', 'system', 'administration', 'specialist'], ['proficient', 'in', 'neural', 'networks'], ['experience', 'with', 'worklife', 'balance'], ['expert', 'in', 'conflict', 'resolution'], ['game', 'design', 'specialist'], ['sales', 'forecasting', 'specialist'], ['proficient', 'in', 'copywriting'], ['idea', 'generation'], ['expert', 'in', 'html'], ['proficient', 'in', 'reinforcement', 'learning'], ['expert', 'in', 'hypothesis', 'testing'], ['operational', 'efficiency', 'specialist'], ['expert', 'in', 'linux', 'system', 'administration'], ['performance', 'management'], ['experience', 'with', 'data', 'ethics', 'and', 'privacy'], ['proficient', 'in', 'predictive', 'analytics'], ['business', 'development'], ['operational', 'efficiency'], ['text', 'mining'], ['visual', 'communication', 'specialist'], ['public', 'speaking', 'specialist'], ['proficient', 'in', 'feature', 'engineering'], ['hypothesis', 'testing', 'specialist'], ['proficient', 'in', 'team', 'management'], ['expert', 'in', 'nosql', 'for', 'data', 'storage'], ['proficient', 'in', 'storytelling'], ['experience', 'with', 'brand', 'management'], ['expert', 'in', 'color', 'theory'], ['photography'], ['proficient', 'in', 'environmental', 'design'], ['machine', 'learning', 'and', 'ai', 'specialist'], ['expert', 'in', 'set', 'design'], ['experience', 'with', 'data', 'governance', 'and', 'compliance'], ['openmindedness', 'specialist'], ['experience', 'with', 'data', 'cleaning', 'and', 'preprocessing'], ['expert', 'in', 'convolutional', 'neural', 'networks', 'cnn'], ['data', 'warehousing'], ['music', 'composition'], ['inspiring', 'others'], ['nosql', 'specialist'], ['goal', 'setting', 'specialist'], ['expert', 'in', 'nonverbal', 'communication'], ['experience', 'with', 'accountability'], ['proficient', 'in', 'marketing'], ['problem', 'solving'], ['forecasting'], ['data', 'cleaning', 'and', 'preprocessing'], ['statistical', 'modeling'], ['experience', 'with', 'problem', 'solving'], ['proficient', 'in', 'openmindedness'], ['experience', 'with', 'hand', 'lettering'], ['expert', 'in', 'machine', 'learning'], ['risk', 'management', 'specialist'], ['experience', 'with', 'rust'], ['support', 'vector', 'machines', 'svm'], ['datadriven', 'decisionmaking', 'specialist'], ['experience', 'with', 'experiential', 'design'], ['expert', 'in', 'typography'], ['experience', 'with', 'graphic', 'design'], ['deep', 'neural', 'networks', 'dnn'], ['supervised', 'learning', 'specialist'], ['natural', 'language', 'generation', 'nlg', 'specialist'], ['convolutional', 'neural', 'networks', 'cnn'], ['performance', 'management', 'specialist'], ['expert', 'in', 'product', 'development'], ['business', 'analytics', 'specialist'], ['proficient', 'in', 'meeting', 'deadlines'], ['proficient', 'in', 'generative', 'adversarial', 'networks', 'gan'], ['concept', 'art', 'specialist'], ['expert', 'in', 'employee', 'development'], ['model', 'evaluation', 'and', 'validation', 'specialist'], ['experience', 'with', 'gradient', 'boosting', 'algorithms', 'xgboost', 'lightgbm'], ['proficient', 'in', 'business', 'process', 'outsourcing', 'bpo'], ['proficient', 'in', 'delegation'], ['sql', 'specialist'], ['experience', 'with', 'restful', 'services'], ['expert', 'in', 'graphic', 'design'], ['expert', 'in', 'selfdiscipline'], ['expert', 'in', 'blockchain', 'development'], ['experience', 'with', 'employee', 'development'], ['data', 'visualization'], ['talent', 'acquisition', 'specialist'], ['experience', 'with', 'delegation'], ['expert', 'in', 'prioritization'], ['experience', 'with', 'market', 'research'], ['proficient', 'in', 'supervised', 'learning'], ['clustering', 'algorithms'], ['cloud', 'computing', 'aws', 'azure', 'gcp', 'specialist'], ['proficient', 'in', 'data', 'cleaning', 'and', 'preprocessing'], ['written', 'communication', 'specialist'], ['gradient', 'boosting', 'algorithms', 'xgboost', 'lightgbm'], ['expert', 'in', 'docker', 'and', 'kubernetes'], ['experience', 'with', 'compliance', 'management'], ['proficient', 'in', 'problemsolving'], ['lateral', 'thinking', 'specialist'], ['experience', 'with', 'cloud', 'computing', 'aws', 'azure', 'gcp'], ['proficient', 'in', 'business', 'intelligence', 'bi', 'tools'], ['calligraphy', 'specialist'], ['experience', 'with', 'web', 'development', 'frontend', 'and', 'backend'], ['expert', 'in', 'compliance', 'management'], ['experience', 'with', 'deep', 'learning'], ['ab', 'testing', 'specialist'], ['proficient', 'in', 'employee', 'development'], ['model', 'evaluation', 'and', 'validation'], ['expert', 'in', 'web', 'design'], ['nosql', 'for', 'data', 'storage', 'specialist'], ['design', 'thinking', 'specialist'], ['experience', 'with', 'staff', 'training'], ['public', 'relations'], ['proficient', 'in', 'logical', 'reasoning'], ['problem', 'solving', 'specialist'], ['expert', 'in', 'photography'], ['creative', 'direction'], ['persuasion'], ['proficient', 'in', 'public', 'speaking'], ['expert', 'in', 'business', 'analytics'], ['expert', 'in', 'time', 'management'], ['convolutional', 'neural', 'networks', 'cnn', 'specialist'], ['experience', 'with', 'process', 'improvement'], ['strategic', 'thinking', 'specialist'], ['expert', 'in', 'ab', 'testing'], ['gradient', 'boosting', 'algorithms', 'xgboost', 'lightgbm', 'specialist'], ['experience', 'with', 'game', 'design'], ['experience', 'with', 'selfdiscipline'], ['expert', 'in', 'business', 'development'], ['experience', 'with', 'kotlin'], ['go'], ['proficient', 'in', 'software', 'testing', 'and', 'automation'], ['experience', 'with', 'meeting', 'deadlines'], ['proficient', 'in', 'hand', 'lettering'], ['expert', 'in', 'cloud', 'computing', 'aws', 'azure', 'gcp'], ['predictive', 'analytics'], ['nonverbal', 'communication'], ['team', 'management', 'specialist'], ['proficient', 'in', 'verbal', 'communication'], ['experience', 'with', 'strategic', 'thinking'], ['expert', 'in', 'flexibility'], ['proficient', 'in', 'risk', 'management'], ['python', 'specialist'], ['expert', 'in', 'objectoriented', 'programming', 'oop'], ['expert', 'in', 'idea', 'generation'], ['proficient', 'in', 'diplomacy'], ['creative', 'writing', 'specialist'], ['proficient', 'in', 'decisionmaking'], ['expert', 'in', 'sound', 'design'], ['expert', 'in', 'neural', 'networks'], ['motivation', 'specialist'], ['expert', 'in', 'dashboard', 'creation', 'power', 'bi', 'tableau'], ['experience', 'with', 'predictive', 'analytics'], ['verbal', 'communication', 'specialist'], ['experience', 'with', 'time', 'series', 'analysis'], ['digital', 'painting'], ['experience', 'with', 'statistical', 'programming', 'r', 'sas'], ['java'], ['css'], ['experience', 'with', 'generative', 'adversarial', 'networks', 'gan'], ['expert', 'in', 'investor', 'relations'], ['logical', 'reasoning', 'specialist'], ['client', 'relations'], ['experience', 'with', 'advertising', 'design'], ['generative', 'adversarial', 'networks', 'gan', 'specialist'], ['experience', 'with', 'brainstorming'], ['experience', 'with', 'data', 'warehousing'], ['proficient', 'in', 'conflict', 'resolution'], ['expert', 'in', 'digital', 'painting'], ['proficient', 'in', 'game', 'development', 'unity', 'unreal', 'engine'], ['conflict', 'resolution', 'specialist'], ['coaching', 'and', 'mentoring', 'specialist'], ['proficient', 'in', '3d', 'modeling'], ['financial', 'analysis'], ['expert', 'in', 'scala'], ['expert', 'in', 'infographic', 'design'], ['proficient', 'in', 'scala'], ['experience', 'with', 'music', 'composition'], ['expert', 'in', 'embedded', 'systems', 'development'], ['proficient', 'in', 'javascript'], ['expert', 'in', 'process', 'improvement'], ['expert', 'in', 'crisis', 'management'], ['experience', 'with', 'feature', 'engineering'], ['proficient', 'in', 'web', 'design'], ['storytelling'], ['accountability', 'specialist'], ['proficient', 'in', 'photography'], ['experience', 'with', 'cinematography'], ['experience', 'with', 'editorial', 'design'], ['experience', 'with', 'openmindedness'], ['expert', 'in', 'data', 'reporting', 'and', 'presentation'], ['experience', 'with', 'resource', 'allocation'], ['3d', 'modeling', 'specialist'], ['troubleshooting'], ['virtual', 'reality', 'vr', 'design', 'specialist'], ['proficient', 'in', 'cash', 'flow', 'management'], ['tactfulness'], ['deep', 'learning', 'specialist'], ['experience', 'with', 'storytelling'], ['proficient', 'in', 'decision', 'trees', 'and', 'random', 'forests'], ['proficient', 'in', 'augmented', 'and', 'virtual', 'reality', 'arvr'], ['proficient', 'in', 'analytical', 'thinking'], ['change', 'management'], ['proficient', 'in', 'python'], ['expert', 'in', 'java'], ['knearest', 'neighbors', 'knn'], ['expert', 'in', 'predictive', 'analytics'], ['proficient', 'in', 'collaboration'], ['decisionmaking', 'specialist'], ['proficient', 'in', 'coaching', 'and', 'mentoring'], ['decision', 'making'], ['web', 'design', 'specialist'], ['mobile', 'app', 'development', 'android', 'ios'], ['proficient', 'in', 'motion', 'graphics'], ['market', 'research', 'specialist'], ['proficient', 'in', 'swift'], ['teamwork', 'specialist'], ['experience', 'with', 'multitasking'], ['expert', 'in', 'branding'], ['proficient', 'in', 'goal', 'setting'], ['infographic', 'design'], ['proficient', 'in', 'sales', 'management'], ['expert', 'in', 'sales', 'management'], ['character', 'design'], ['conflict', 'resolution', 'specialist'], ['experience', 'with', 'classification', 'algorithms'], ['experience', 'with', 'adaptability'], ['proficient', 'in', 'public', 'relations'], ['expert', 'in', 'data', 'mining'], ['expert', 'in', 'data', 'cleaning', 'and', 'preprocessing'], ['swift'], ['expert', 'in', 'unsupervised', 'learning'], ['product', 'development'], ['proficient', 'in', 'php'], ['time', 'series', 'analysis', 'specialist'], ['expert', 'in', 'data', 'structures', 'and', 'algorithms'], ['expert', 'in', 'creativity'], ['rust'], ['experience', 'with', 'supply', 'chain', 'management'], ['embedded', 'systems', 'development', 'specialist'], ['api', 'development'], ['hand', 'lettering', 'specialist'], ['experience', 'with', 'time', 'management'], ['proficient', 'in', 'perl'], ['experience', 'with', 'operational', 'efficiency'], ['php'], ['expert', 'in', 'editorial', 'design'], ['experience', 'with', 'calligraphy'], ['proficient', 'in', 'decision', 'making'], ['experience', 'with', 'customer', 'relationship', 'management', 'crm'], ['cloudbased', 'analytics', 'aws', 'gcp', 'azure'], ['talent', 'acquisition'], ['proficient', 'in', 'teamwork'], ['proficient', 'in', 'constructive', 'feedback'], ['dart'], ['proficient', 'in', 'graphql'], ['strategic', 'planning', 'specialist'], ['experience', 'with', 'big', 'data', 'technologies', 'hadoop', 'kafka'], ['computer', 'vision'], ['experience', 'with', 'clustering', 'algorithms'], ['experience', 'with', 'finance'], ['resource', 'allocation', 'specialist'], ['print', 'design'], ['proficient', 'in', 'deep', 'learning', 'frameworks', 'tensorflow', 'pytorch'], ['objectoriented', 'programming', 'oop'], ['persuasion', 'specialist'], ['accountability'], ['experience', 'with', 'natural', 'language', 'processing', 'nlp'], ['expert', 'in', 'brainstorming'], ['brainstorming', 'specialist'], ['ethical', 'leadership'], ['market', 'segmentation'], ['proficient', 'in', 'adaptability'], ['editorial', 'design'], ['deep', 'learning', 'frameworks', 'tensorflow', 'pytorch', 'specialist'], ['proficient', 'in', 'cloud', 'computing', 'aws', 'azure', 'gcp'], ['expert', 'in', 'fundraising'], ['sql'], ['proficient', 'in', 'teamwork'], ['expert', 'in', 'risk', 'management'], ['negotiation', 'specialist'], ['dashboard', 'creation', 'power', 'bi', 'tableau'], ['cybersecurity', 'principles'], ['penetration', 'testing', 'and', 'ethical', 'hacking', 'specialist'], ['proficient', 'in', 'hypothesis', 'testing'], ['expert', 'in', 'print', 'design'], ['proficient', 'in', 'typography'], ['experience', 'with', 'supervised', 'learning'], ['proficient', 'in', 'html'], ['client', 'relations', 'specialist'], ['expert', 'in', 'delegation'], ['experience', 'with', 'idea', 'generation'], ['public', 'speaking'], ['storytelling', 'specialist'], ['proficient', 'in', 'digital', 'painting'], ['proficient', 'in', 'inspiring', 'others'], ['proficient', 'in', 'exploratory', 'data', 'analysis', 'eda'], ['proficient', 'in', 'negotiation'], ['bayesian', 'analysis', 'specialist'], ['augmented', 'and', 'virtual', 'reality', 'arvr'], ['set', 'design'], ['art', 'direction'], ['hypothesis', 'testing'], ['wireframing'], ['written', 'communication'], ['experience', 'with', 'penetration', 'testing', 'and', 'ethical', 'hacking'], ['expert', 'in', 'conflict', 'resolution'], ['teamwork'], ['expert', 'in', 'perl'], ['experience', 'with', 'graphql'], ['expert', 'in', 'social', 'media', 'content', 'creation'], ['go', 'specialist'], ['proficient', 'in', 'user', 'research'], ['sql', 'for', 'data', 'analysis', 'specialist'], ['sql', 'for', 'data', 'analysis'], ['selfdiscipline'], ['expert', 'in', 'sales', 'forecasting'], ['user', 'research'], ['proficient', 'in', 'assembly', 'language'], ['experience', 'with', 'sql'], ['staff', 'training', 'specialist'], ['proficient', 'in', 'sql'], ['proficient', 'in', 'big', 'data', 'analysis', 'hadoop', 'spark'], ['strategic', 'partnerships', 'specialist'], ['proficient', 'in', 'game', 'design'], ['expert', 'in', 'data', 'warehousing'], ['experience', 'with', 'sales', 'forecasting'], ['adaptability'], ['experience', 'with', 'sentiment', 'analysis'], ['experience', 'with', 'lateral', 'thinking'], ['expert', 'in', 'stakeholder', 'management'], ['experience', 'with', 'logical', 'reasoning'], ['experience', 'with', 'css'], ['expert', 'in', 'staff', 'training'], ['experience', 'with', 'ethical', 'leadership'], ['proficient', 'in', 'dart'], ['expert', 'in', 'computer', 'vision'], ['experience', 'with', 'uxui', 'design'], ['augmented', 'and', 'virtual', 'reality', 'arvr', 'specialist'], ['web', 'development', 'frontend', 'and', 'backend', 'specialist'], ['cicd', 'pipelines'], ['experience', 'with', 'resourcefulness'], ['knearest', 'neighbors', 'knn', 'specialist'], ['functional', 'programming', 'specialist'], ['brainstorming'], ['data', 'analysis'], ['multitasking', 'specialist'], ['experience', 'with', 'java'], ['experience', 'with', 'sql', 'for', 'data', 'analysis'], ['expert', 'in', 'confidence'], ['process', 'improvement', 'specialist'], ['experience', 'with', 'bayesian', 'analysis'], ['proficient', 'in', 'financial', 'analysis'], ['experience', 'with', 'adaptability'], ['proficient', 'in', 'negotiation'], ['data', 'ethics', 'and', 'privacy'], ['creativity', 'specialist'], ['experience', 'with', 'docker', 'and', 'kubernetes'], ['expert', 'in', 'project', 'management'], ['expert', 'in', 'innovation'], ['experience', 'with', 'change', 'management'], ['proficient', 'in', 'machine', 'learning', 'and', 'ai'], ['meeting', 'deadlines'], ['experience', 'with', 'branding'], ['planning', 'and', 'organizing', 'specialist'], ['experience', 'with', 'flexibility'], ['proficient', 'in', 'java'], ['expert', 'in', 'planning', 'and', 'organizing'], ['expert', 'in', 'diplomacy'], ['proficient', 'in', 'clustering', 'algorithms'], ['experience', 'with', 'model', 'evaluation', 'and', 'validation'], ['augmented', 'reality', 'ar', 'design', 'specialist'], ['expert', 'in', 'hand', 'lettering'], ['data', 'mining', 'specialist'], ['creative', 'direction', 'specialist'], ['proficient', 'in', 'knearest', 'neighbors', 'knn'], ['prototyping'], ['proficient', 'in', 'multitasking'], ['hand', 'lettering'], ['strategic', 'planning'], ['proficient', 'in', 'experiential', 'design'], ['proficient', 'in', 'conflict', 'resolution'], ['proficient', 'in', 'scriptwriting'], ['proficient', 'in', 'lateral', 'thinking'], ['data', 'architecture', 'and', 'modeling'], ['expert', 'in', 'team', 'management'], ['expert', 'in', 'game', 'development', 'unity', 'unreal', 'engine'], ['game', 'development', 'unity', 'unreal', 'engine', 'specialist'], ['experience', 'with', 'tactfulness'], ['proficient', 'in', 'embedded', 'systems', 'development'], ['experience', 'with', 'assembly', 'language'], ['cicd', 'pipelines', 'specialist'], ['experience', 'with', 'set', 'design'], ['visual', 'communication'], ['experiential', 'design'], ['microservices', 'architecture', 'specialist'], ['infographic', 'design', 'specialist'], ['deep', 'neural', 'networks', 'dnn', 'specialist'], ['proficient', 'in', 'illustration'], ['proficient', 'in', 'agile', 'methodologies'], ['expert', 'in', 'problemsolving'], ['experience', 'with', 'project', 'management'], ['animation'], ['proficient', 'in', 'regression', 'analysis'], ['expert', 'in', 'bayesian', 'analysis'], ['python'], ['decision', 'trees', 'and', 'random', 'forests'], ['openmindedness'], ['data', 'governance', 'and', 'compliance'], ['collaboration'], ['proficient', 'in', 'stop', 'motion', 'animation'], ['experience', 'with', 'empathy'], ['experience', 'with', 'scriptwriting'], ['swot', 'analysis', 'specialist'], ['proficient', 'in', 'blockchain', 'development'], ['nosql', 'for', 'data', 'storage'], ['restful', 'services'], ['experience', 'with', 'investor', 'relations'], ['team', 'management'], ['graphql'], ['meeting', 'deadlines', 'specialist'], ['expert', 'in', 'deep', 'learning', 'frameworks', 'tensorflow', 'pytorch'], ['digital', 'painting', 'specialist'], ['experience', 'with', 'convolutional', 'neural', 'networks', 'cnn'], ['expert', 'in', 'data', 'analysis'], ['experience', 'with', 'scala'], ['expert', 'in', 'microservices', 'architecture'], ['exploratory', 'data', 'analysis', 'eda'], ['proficient', 'in', 'idea', 'generation'], ['expert', 'in', 'model', 'evaluation', 'and', 'validation'], ['expert', 'in', 'focus', 'and', 'concentration'], ['proficient', 'in', 'advertising', 'design'], ['experience', 'with', 'business', 'intelligence', 'bi', 'tools'], ['experience', 'with', 'motion', 'graphics'], ['experience', 'with', 'decision', 'trees', 'and', 'random', 'forests'], ['business', 'intelligence', 'bi', 'tools'], ['expert', 'in', 'resourcefulness'], ['unsupervised', 'learning', 'specialist'], ['expert', 'in', 'generative', 'adversarial', 'networks', 'gan'], ['experience', 'with', 'version', 'control', 'git', 'github', 'gitlab'], ['swift', 'specialist'], ['expert', 'in', 'finance'], ['big', 'data', 'technologies', 'hadoop', 'kafka', 'specialist'], ['proficient', 'in', 'fundraising'], ['experience', 'with', 'prototyping'], ['experience', 'with', 'cybersecurity', 'principles'], ['expert', 'in', 'creative', 'problemsolving'], ['proficient', 'in', 'product', 'development'], ['blockchain', 'development', 'specialist'], ['finance', 'specialist'], ['proficient', 'in', 'written', 'communication'], ['experience', 'with', 'typography'], ['expert', 'in', 'statistical', 'programming', 'r', 'sas'], ['perl', 'specialist'], ['experience', 'with', 'nonverbal', 'communication'], ['proficient', 'in', 'operational', 'efficiency'], ['proficient', 'in', 'product', 'lifecycle', 'management'], ['experience', 'with', 'quantum', 'computing', 'basics'], ['experience', 'with', 'embedded', 'systems', 'development'], ['proficient', 'in', 'version', 'control', 'git', 'github', 'gitlab'], ['proficient', 'in', 'microservices', 'architecture'], ['expert', 'in', 'prototyping'], ['experience', 'with', 'digital', 'painting'], ['proficient', 'in', 'troubleshooting'], ['data', 'engineering', 'etl', 'apache', 'spark'], ['expert', 'in', 'ruby'], ['proficient', 'in', 'corporate', 'social', 'responsibility', 'csr'], ['data', 'structures', 'and', 'algorithms', 'specialist'], ['experience', 'with', 'virtual', 'reality', 'vr', 'design'], ['sales', 'management', 'specialist'], ['experience', 'with', 'wireframing'], ['proficient', 'in', 'relationship', 'building'], ['expert', 'in', 'multitasking'], ['dashboard', 'creation', 'power', 'bi', 'tableau', 'specialist'], ['cloudbased', 'analytics', 'aws', 'gcp', 'azure', 'specialist'], ['experience', 'with', 'c', 'hash'], ['proficient', 'in', 'uxui', 'design'], ['3d', 'modeling'], ['scriptwriting', 'specialist'], ['expert', 'in', 'emotional', 'resilience'], ['expert', 'in', 'support', 'vector', 'machines', 'svm'], ['stop', 'motion', 'animation', 'specialist'], ['experience', 'with', 'decisionmaking'], ['dimensionality', 'reduction', 'pca', 'lda', 'specialist'], ['empathy'], ['proficient', 'in', 'swot', 'analysis'], ['experience', 'with', 'nosql', 'for', 'data', 'storage'], ['experience', 'with', 'data', 'visualization'], ['expert', 'in', 'photo', 'manipulation'], ['proficient', 'in', 'quantum', 'computing', 'basics'], ['experience', 'with', 'data', 'architecture', 'and', 'modeling'], ['speech', 'recognition'], ['proficient', 'in', 'sound', 'design'], ['expert', 'in', 'machine', 'learning', 'and', 'ai'], ['c', 'plus', 'plus', 'specialist'], ['decisionmaking'], ['color', 'theory', 'specialist'], ['experiential', 'design', 'specialist'], ['experience', 'with', 'inspiring', 'others'], ['customer', 'relationship', 'management', 'crm'], ['expert', 'in', 'dart'], ['proficient', 'in', 'deep', 'learning'], ['proficient', 'in', 'risk', 'management'], ['nlp', 'natural', 'language', 'processing', 'specialist'], ['experience', 'with', 'teamwork'], ['experience', 'with', 'corporate', 'social', 'responsibility', 'csr'], ['support', 'vector', 'machines', 'svm', 'specialist'], ['expert', 'in', 'kotlin'], ['investor', 'relations'], ['environmental', 'design', 'specialist'], ['illustration', 'for', 'publishing', 'specialist'], ['proficient', 'in', 'fashion', 'design'], ['multitasking'], ['proficient', 'in', 'budgeting'], ['experience', 'with', 'critical', 'thinking'], ['customer', 'retention', 'specialist'], ['investor', 'relations', 'specialist'], ['expert', 'in', 'big', 'data', 'technologies', 'hadoop', 'kafka'], ['expert', 'in', 'big', 'data', 'analysis', 'hadoop', 'spark'], ['text', 'mining', 'specialist'], ['sales', 'forecasting'], ['uxui', 'design'], ['time', 'management'], ['cash', 'flow', 'management', 'specialist'], ['experience', 'with', 'recurrent', 'neural', 'networks', 'rnn'], ['neural', 'networks'], ['proficient', 'in', 'convolutional', 'neural', 'networks', 'cnn'], ['experience', 'with', 'perl'], ['troubleshooting', 'specialist'], ['proficient', 'in', 'set', 'design'], ['project', 'management'], ['idea', 'generation', 'specialist'], ['expert', 'in', 'talent', 'acquisition'], ['experience', 'with', 'objectoriented', 'programming', 'oop'], ['proficient', 'in', 'recurrent', 'neural', 'networks', 'rnn'], ['expert', 'in', 'vendor', 'management'], ['experience', 'with', 'vendor', 'management'], ['expert', 'in', 'calligraphy'], ['experience', 'with', 'nosql'], ['proficient', 'in', 'visionary', 'thinking'], ['goal', 'setting'], ['business', 'process', 'outsourcing', 'bpo', 'specialist'], ['business', 'intelligence', 'bi', 'tools', 'specialist'], ['proficient', 'in', 'prioritization'], ['expert', 'in', 'critical', 'thinking'], ['experience', 'with', 'problemsolving'], ['expert', 'in', 'javascript'], ['expert', 'in', 'speech', 'recognition'], ['cinematography'], ['negotiation'], ['proficient', 'in', 'ruby'], ['proficient', 'in', 'cybersecurity', 'principles'], ['expert', 'in', 'recurrent', 'neural', 'networks', 'rnn'], ['expert', 'in', 'performance', 'management'], ['proficient', 'in', 'machine', 'learning'], ['design', 'thinking'], ['expert', 'in', 'gradient', 'boosting', 'algorithms', 'xgboost', 'lightgbm'], ['corporate', 'social', 'responsibility', 'csr'], ['experience', 'with', 'risk', 'management'], ['experience', 'with', 'troubleshooting'], ['experience', 'with', 'market', 'segmentation'], ['experience', 'with', 'customer', 'retention'], ['proficient', 'in', 'strategic', 'thinking'], ['focus', 'and', 'concentration', 'specialist'], ['experience', 'with', 'linux', 'system', 'administration'], ['proficient', 'in', 'critical', 'thinking'], ['proficient', 'in', 'data', 'mining'], ['expert', 'in', 'virtual', 'reality', 'vr', 'design'], ['unsupervised', 'learning'], ['set', 'design', 'specialist'], ['c', 'plus', 'plus'], ['finance'], ['experience', 'with', 'ab', 'testing'], ['video', 'editing', 'specialist'], ['proficient', 'in', 'supply', 'chain', 'management'], ['strategic', 'thinking'], ['advertising', 'design', 'specialist'], ['experience', 'with', 'focus', 'and', 'concentration'], ['proficient', 'in', 'web', 'development', 'frontend', 'and', 'backend'], ['experience', 'with', 'machine', 'learning', 'and', 'ai'], ['wireframing', 'specialist'], ['experience', 'with', 'html'], ['expert', 'in', 'concept', 'art'], ['proficient', 'in', 'graphic', 'design'], ['expert', 'in', 'marketing'], ['expert', 'in', 'uxui', 'design'], ['proficient', 'in', 'c', 'hash'], ['expert', 'in', 'clustering', 'algorithms'], ['fundraising', 'specialist'], ['constructive', 'feedback'], ['logical', 'reasoning'], ['expert', 'in', 'resource', 'allocation'], ['proficient', 'in', 'emotional', 'intelligence'], ['reinforcement', 'learning'], ['expert', 'in', 'natural', 'language', 'generation', 'nlg'], ['experience', 'with', 'infographic', 'design'], ['proficient', 'in', 'mobile', 'app', 'development', 'android', 'ios'], ['natural', 'language', 'processing', 'nlp', 'specialist'], ['active', 'listening', 'specialist'], ['experience', 'with', 'written', 'communication'], ['graphql', 'specialist'], ['experience', 'with', 'interactive', 'media'], ['scala', 'specialist'], ['expert', 'in', 'adaptability'], ['experience', 'with', 'computer', 'vision'], ['expert', 'in', 'business', 'communication'], ['nosql'], ['experience', 'with', 'natural', 'language', 'generation', 'nlg'], ['experience', 'with', 'social', 'media', 'content', 'creation'], ['devops', 'practices', 'specialist'], ['assembly', 'language'], ['experience', 'with', 'emotional', 'resilience'], ['emotional', 'resilience', 'specialist'], ['experience', 'with', '3d', 'modeling'], ['conflict', 'resolution'], ['expert', 'in', 'sql', 'for', 'data', 'analysis'], ['stakeholder', 'management', 'specialist'], ['data', 'engineering', 'etl', 'apache', 'spark', 'specialist'], ['expert', 'in', 'deep', 'learning'], ['experience', 'with', 'photo', 'manipulation'], ['expert', 'in', 'augmented', 'and', 'virtual', 'reality', 'arvr'], ['proficient', 'in', 'data', 'reporting', 'and', 'presentation'], ['expert', 'in', 'meeting', 'deadlines'], ['experience', 'with', 'negotiation'], ['proficient', 'in', 'functional', 'programming'], ['proficient', 'in', 'mergers', 'and', 'acquisitions'], ['confidence'], ['expert', 'in', 'copywriting'], ['business', 'process', 'outsourcing', 'bpo'], ['proficient', 'in', 'leadership'], ['compliance', 'management', 'specialist'], ['proficient', 'in', 'editorial', 'design'], ['experience', 'with', 'relationship', 'building'], ['interactive', 'media', 'specialist'], ['expert', 'in', 'restful', 'services'], ['creative', 'writing'], ['experience', 'with', 'art', 'direction'], ['expert', 'in', 'functional', 'programming'], ['realtime', 'analytics', 'specialist'], ['strategic', 'partnerships'], ['experience', 'with', 'conflict', 'resolution'], ['proficient', 'in', 'rust'], ['vendor', 'management', 'specialist'], ['expert', 'in', '3d', 'modeling'], ['logo', 'design'], ['experience', 'with', 'functional', 'programming'], ['expert', 'in', 'product', 'lifecycle', 'management'], ['active', 'listening'], ['experience', 'with', 'business', 'analytics'], ['data', 'structures', 'and', 'algorithms'], ['mergers', 'and', 'acquisitions'], ['experience', 'with', 'support', 'vector', 'machines', 'svm'], ['machine', 'learning', 'specialist'], ['product', 'lifecycle', 'management'], ['experience', 'with', 'color', 'theory'], ['proficient', 'in', 'visual', 'communication'], ['experience', 'with', 'augmented', 'reality', 'ar', 'design'], ['expert', 'in', 'php'], ['experience', 'with', 'regression', 'analysis'], ['diplomacy', 'specialist'], ['expert', 'in', 'cinematography'], ['photography', 'specialist'], ['computer', 'vision'], ['proficient', 'in', 'css'], ['experience', 'with', 'python'], ['experience', 'with', 'talent', 'acquisition'], ['expert', 'in', 'client', 'relations'], ['proficient', 'in', 'typescript'], ['data', 'visualization', 'specialist'], ['expert', 'in', 'visionary', 'thinking'], ['data', 'architecture', 'and', 'modeling', 'specialist'], ['experience', 'with', 'constructive', 'feedback'], ['proficient', 'in', 'animation'], ['proficient', 'in', 'concept', 'art'], ['proficient', 'in', 'virtual', 'reality', 'vr', 'design'], ['expert', 'in', 'corporate', 'social', 'responsibility', 'csr'], ['experience', 'with', 'exploratory', 'data', 'analysis', 'eda'], ['expert', 'in', 'reinforcement', 'learning'], ['proficient', 'in', 'planning', 'and', 'organizing'], ['predictive', 'analytics', 'specialist'], ['experience', 'with', 'cicd', 'pipelines'], ['experience', 'with', 'api', 'development'], ['motivation'], ['experience', 'with', 'client', 'relations'], ['proficient', 'in', 'business', 'communication'], ['experience', 'with', 'forecasting'], ['typescript'], ['experience', 'with', 'illustration', 'for', 'publishing'], ['interior', 'design', 'specialist'], ['expert', 'in', 'cash', 'flow', 'management'], ['experience', 'with', 'storytelling'], ['logo', 'design', 'specialist'], ['classification', 'algorithms', 'specialist'], ['experience', 'with', 'goal', 'setting'], ['proficient', 'in', 'docker', 'and', 'kubernetes'], ['realtime', 'analytics'], ['proficient', 'in', 'photo', 'manipulation'], ['product', 'development', 'specialist'], ['experience', 'with', 'speech', 'recognition'], ['expert', 'in', 'leadership'], ['expert', 'in', 'goal', 'setting'], ['ab', 'testing'], ['experience', 'with', 'c', 'plus', 'plus'], ['experience', 'with', 'public', 'relations'], ['kotlin'], ['experience', 'with', 'visual', 'communication'], ['proficient', 'in', 'prototyping'], ['agile', 'methodologies'], ['proficient', 'in', 'art', 'direction'], ['experience', 'with', 'coaching', 'and', 'mentoring'], ['proficient', 'in', 'deep', 'neural', 'networks', 'dnn'], ['social', 'media', 'content', 'creation'], ['proficient', 'in', 'color', 'theory'], ['expert', 'in', 'music', 'composition'], ['proficient', 'in', 'change', 'management'], ['graphic', 'design', 'specialist'], ['expert', 'in', 'coaching', 'and', 'mentoring'], ['expert', 'in', 'adaptability'], ['kotlin', 'specialist'], ['machine', 'learning', 'and', 'ai'], ['penetration', 'testing', 'and', 'ethical', 'hacking'], ['typography'], ['inspiring', 'others', 'specialist'], ['emotional', 'intelligence', 'specialist'], ['respectfulness', 'specialist'], ['experience', 'with', 'animation'], ['virtual', 'reality', 'vr', 'design'], ['time', 'management', 'specialist'], ['experience', 'with', 'data', 'reporting', 'and', 'presentation'], ['experience', 'with', 'devops', 'practices'], ['mergers', 'and', 'acquisitions', 'specialist'], ['expert', 'in', 'fashion', 'design'], ['proficient', 'in', 'forecasting'], ['character', 'design', 'specialist'], ['proficient', 'in', 'design', 'thinking'], ['proficient', 'in', 'statistical', 'modeling'], ['staff', 'training'], ['risk', 'management', 'specialist'], ['customer', 'retention'], ['emotional', 'intelligence'], ['proficient', 'in', 'active', 'listening'], ['experience', 'with', 'sales', 'management'], ['prioritization'], ['experience', 'with', 'fundraising'], ['expert', 'in', 'illustration', 'for', 'publishing'], ['proficient', 'in', 'creative', 'writing'], ['proficient', 'in', 'c', 'plus', 'plus'], ['proficient', 'in', 'restful', 'services'], ['proficient', 'in', 'ab', 'testing'], ['data', 'mining'], ['expert', 'in', 'persuasion'], ['proficient', 'in', 'augmented', 'reality', 'ar', 'design'], ['proficient', 'in', 'creative', 'problemsolving'], ['augmented', 'reality', 'ar', 'design'], ['expert', 'in', 'stress', 'management'], ['big', 'data', 'technologies', 'hadoop', 'kafka'], ['proficient', 'in', 'interactive', 'media'], ['focus', 'and', 'concentration'], ['expert', 'in', 'supply', 'chain', 'management'], ['deep', 'learning', 'frameworks', 'tensorflow', 'pytorch'], ['expert', 'in', 'exploratory', 'data', 'analysis', 'eda'], ['expert', 'in', 'business', 'intelligence', 'bi', 'tools'], ['experience', 'with', 'diplomacy'], ['storytelling', 'specialist'], ['proficient', 'in', 'finance'], ['expert', 'in', 'data', 'governance', 'and', 'compliance'], ['proficient', 'in', 'linux', 'system', 'administration'], ['expert', 'in', 'c', 'plus', 'plus'], ['expert', 'in', 'budgeting'], ['product', 'lifecycle', 'management', 'specialist'], ['negotiation', 'specialist'], ['experience', 'with', 'communication'], ['proficient', 'in', 'empathy'], ['experience', 'with', 'interior', 'design'], ['datadriven', 'decisionmaking'], ['computer', 'vision', 'specialist'], ['proficient', 'in', 'storytelling'], ['game', 'development', 'unity', 'unreal', 'engine'], ['expert', 'in', 'swift'], ['proficient', 'in', 'data', 'warehousing'], ['experience', 'with', 'planning', 'and', 'organizing'], ['experience', 'with', 'game', 'development', 'unity', 'unreal', 'engine'], ['proficient', 'in', 'kotlin'], ['experience', 'with', 'crisis', 'management'], ['verbal', 'communication'], ['experience', 'with', 'cloudbased', 'analytics', 'aws', 'gcp', 'azure'], ['teamwork', 'specialist'], ['stress', 'management', 'specialist'], ['proficient', 'in', 'customer', 'retention'], ['creativity'], ['experience', 'with', 'mergers', 'and', 'acquisitions'], ['proficient', 'in', 'tactfulness'], ['nonverbal', 'communication', 'specialist'], ['expert', 'in', 'ethical', 'leadership'], ['copywriting'], ['version', 'control', 'git', 'github', 'gitlab'], ['expert', 'in', 'interior', 'design'], ['expert', 'in', 'visual', 'communication'], ['expert', 'in', 'emotional', 'intelligence'], ['proficient', 'in', 'cinematography'], ['editorial', 'design', 'specialist'], ['proficient', 'in', 'devops', 'practices'], ['analytical', 'thinking'], ['experience', 'with', 'agile', 'methodologies'], ['empathy', 'specialist'], ['css', 'specialist'], ['expert', 'in', 'operational', 'efficiency'], ['delegation', 'specialist'], ['typescript', 'specialist'], ['expert', 'in', 'devops', 'practices'], ['sentiment', 'analysis', 'specialist'], ['proficient', 'in', 'internet', 'of', 'things', 'iot'], ['expert', 'in', 'openmindedness'], ['java', 'specialist'], ['experience', 'with', 'creative', 'direction'], ['negotiation'], ['proficient', 'in', 'nosql', 'for', 'data', 'storage'], ['data', 'analysis', 'specialist'], ['expert', 'in', 'wireframing'], ['adaptability', 'specialist'], ['photo', 'manipulation'], ['experience', 'with', 'datadriven', 'decisionmaking'], ['employee', 'development', 'specialist'], ['regression', 'analysis'], ['experience', 'with', 'collaboration'], ['proficient', 'in', 'data', 'visualization'], ['devops', 'practices'], ['proficient', 'in', 'realtime', 'analytics'], ['market', 'research'], ['worklife', 'balance', 'specialist'], ['expert', 'in', 'datadriven', 'decisionmaking'], ['time', 'management'], ['creative', 'problemsolving', 'specialist'], ['data', 'reporting', 'and', 'presentation', 'specialist'], ['experience', 'with', 'confidence'], ['expert', 'in', 'cicd', 'pipelines'], ['proficient', 'in', 'sentiment', 'analysis'], ['experience', 'with', 'environmental', 'design'], ['expert', 'in', 'risk', 'management'], ['experience', 'with', 'product', 'lifecycle', 'management'], ['data', 'ethics', 'and', 'privacy', 'specialist'], ['expert', 'in', 'data', 'engineering', 'etl', 'apache', 'spark'], ['supply', 'chain', 'management', 'specialist'], ['docker', 'and', 'kubernetes', 'specialist'], ['expert', 'in', 'business', 'process', 'outsourcing', 'bpo'], ['expert', 'in', 'augmented', 'reality', 'ar', 'design'], ['proficient', 'in', 'computer', 'vision'], ['photo', 'manipulation', 'specialist'], ['experience', 'with', 'nlp', 'natural', 'language', 'processing'], ['data', 'cleaning', 'and', 'preprocessing', 'specialist'], ['proficient', 'in', 'ethical', 'leadership'], ['sentiment', 'analysis'], ['proficient', 'in', 'api', 'development'], ['proficient', 'in', 'natural', 'language', 'processing', 'nlp'], ['concept', 'art'], ['expert', 'in', 'penetration', 'testing', 'and', 'ethical', 'hacking'], ['expert', 'in', 'lateral', 'thinking'], ['experience', 'with', 'risk', 'management'], ['experience', 'with', 'dimensionality', 'reduction', 'pca', 'lda'], ['experience', 'with', 'character', 'design'], ['experience', 'with', 'mobile', 'app', 'development', 'android', 'ios'], ['expert', 'in', 'market', 'research'], ['expert', 'in', 'python'], ['proficient', 'in', 'objectoriented', 'programming', 'oop'], ['business', 'communication', 'specialist'], ['proficient', 'in', 'flexibility'], ['expert', 'in', 'environmental', 'design'], ['expert', 'in', 'strategic', 'thinking'], ['proficient', 'in', 'confidence'], ['expert', 'in', 'data', 'architecture', 'and', 'modeling'], ['expert', 'in', 'decisionmaking'], ['forecasting', 'specialist'], ['experience', 'with', 'stress', 'management'], ['proficient', 'in', 'time', 'series', 'analysis'], ['brand', 'management', 'specialist'], ['experience', 'with', 'decision', 'making'], ['proficient', 'in', 'calligraphy'], ['proficient', 'in', 'staff', 'training'], ['proficient', 'in', 'compliance', 'management'], ['selfdiscipline', 'specialist'], ['innovation'], ['storytelling'], ['brand', 'management'], ['proficient', 'in', 'creative', 'direction'], ['expert', 'in', 'negotiation'], ['expert', 'in', 'public', 'relations'], ['proficient', 'in', 'performance', 'management'], ['experience', 'with', 'teamwork'], ['experience', 'with', 'marketing'], ['experience', 'with', 'public', 'speaking'], ['risk', 'management'], ['crisis', 'management', 'specialist'], ['innovation', 'specialist'], ['experience', 'with', 'dashboard', 'creation', 'power', 'bi', 'tableau'], ['html'], ['teamwork'], ['business', 'development', 'specialist'], ['proficient', 'in', 'strategic', 'partnerships'], ['sound', 'design', 'specialist'], ['expert', 'in', 'user', 'research'], ['adaptability', 'specialist'], ['expert', 'in', 'internet', 'of', 'things', 'iot'], ['proficient', 'in', 'text', 'mining'], ['experience', 'with', 'creative', 'writing'], ['scriptwriting'], ['proficient', 'in', 'speech', 'recognition'], ['expert', 'in', 'video', 'editing'], ['analytical', 'thinking', 'specialist'], ['problemsolving', 'specialist'], ['proficient', 'in', 'market', 'research'], ['proficient', 'in', 'resource', 'allocation'], ['fashion', 'design'], ['cash', 'flow', 'management'], ['public', 'relations', 'specialist'], ['html', 'specialist'], ['experience', 'with', 'copywriting'], ['expert', 'in', 'deep', 'neural', 'networks', 'dnn'], ['proficient', 'in', 'project', 'management'], ['expert', 'in', 'storytelling'], ['expert', 'in', 'public', 'speaking'], ['experience', 'with', 'creative', 'problemsolving'], ['experience', 'with', 'illustration'], ['natural', 'language', 'processing', 'nlp'], ['experience', 'with', 'microservices', 'architecture'], ['expert', 'in', 'written', 'communication'], ['ruby'], ['proficient', 'in', 'communication'], ['quantum', 'computing', 'basics'], ['neural', 'networks', 'specialist'], ['statistical', 'modeling', 'specialist'], ['recurrent', 'neural', 'networks', 'rnn', 'specialist'], ['expert', 'in', 'text', 'mining'], ['proficient', 'in', 'process', 'improvement'], ['proficient', 'in', 'accountability'], ['expert', 'in', 'empathy'], ['proficient', 'in', 'brand', 'management'], ['proficient', 'in', 'motivation'], ['marketing'], ['experience', 'with', 'dart'], ['experience', 'with', 'javascript'], ['visionary', 'thinking'], ['experience', 'with', 'negotiation'], ['proficient', 'in', 'statistical', 'programming', 'r', 'sas'], ['experience', 'with', 'neural', 'networks'], ['proficient', 'in', 'data', 'engineering', 'etl', 'apache', 'spark'], ['uxui', 'design', 'specialist'], ['expert', 'in', 'mobile', 'app', 'development', 'android', 'ios'], ['expert', 'in', 'creative', 'writing'], ['expert', 'in', 'constructive', 'feedback'], ['cinematography', 'specialist'], ['proficient', 'in', 'unsupervised', 'learning'], ['experience', 'with', 'swot', 'analysis'], ['feature', 'engineering'], ['expert', 'in', 'communication'], ['big', 'data', 'analysis', 'hadoop', 'spark'], ['color', 'theory'], ['experience', 'with', 'machine', 'learning'], ['web', 'design'], ['expert', 'in', 'natural', 'language', 'processing', 'nlp'], ['expert', 'in', 'version', 'control', 'git', 'github', 'gitlab'], ['experience', 'with', 'cash', 'flow', 'management'], ['expert', 'in', 'sentiment', 'analysis'], ['proficient', 'in', 'stakeholder', 'management'], ['experience', 'with', 'respectfulness'], ['sales', 'management'], ['expert', 'in', 'teamwork'], ['problemsolving'], ['experience', 'with', 'emotional', 'intelligence'], ['internet', 'of', 'things', 'iot'], ['experience', 'with', 'go'], ['illustration'], ['agile', 'methodologies', 'specialist'], ['expert', 'in', 'time', 'management'], ['expert', 'in', 'graphql'], ['proficient', 'in', 'wireframing'], ['experience', 'with', 'business', 'development'], ['expert', 'in', 'illustration'], ['expert', 'in', 'software', 'testing', 'and', 'automation'], ['javascript', 'specialist'], ['time', 'series', 'analysis'], ['vendor', 'management'], ['proficient', 'in', 'bayesian', 'analysis'], ['expert', 'in', 'cybersecurity', 'principles'], ['motion', 'graphics'], ['c', 'hash'], ['expert', 'in', 'brand', 'management'], ['experience', 'with', 'motivation'], ['expert', 'in', 'logo', 'design'], ['proficient', 'in', 'business', 'development'], ['proficient', 'in', 'selfdiscipline'], ['expert', 'in', 'customer', 'retention'], ['proficient', 'in', 'interior', 'design'], ['experience', 'with', 'data', 'engineering', 'etl', 'apache', 'spark'], ['stop', 'motion', 'animation'], ['experience', 'with', 'business', 'communication'], ['leadership'], ['proficient', 'in', 'nonverbal', 'communication'], ['experience', 'with', 'realtime', 'analytics'], ['expert', 'in', 'game', 'design'], ['proficient', 'in', 'crisis', 'management'], ['proficient', 'in', 'data', 'analysis'], ['expert', 'in', 'c', 'hash'], ['experience', 'with', 'big', 'data', 'analysis', 'hadoop', 'spark'], ['experience', 'with', 'visionary', 'thinking'], ['expert', 'in', 'nlp', 'natural', 'language', 'processing'], ['interior', 'design'], ['risk', 'management'], ['bayesian', 'analysis'], ['branding'], ['reinforcement', 'learning', 'specialist'], ['experience', 'with', 'video', 'editing'], ['microservices', 'architecture'], ['expert', 'in', 'scriptwriting'], ['tactfulness', 'specialist'], ['proficient', 'in', 'nosql'], ['supervised', 'learning'], ['prioritization', 'specialist'], ['expert', 'in', 'cloudbased', 'analytics', 'aws', 'gcp', 'azure'], ['expert', 'in', 'api', 'development'], ['experience', 'with', 'active', 'listening'], ['relationship', 'building'], ['adaptability'], ['sound', 'design'], ['expert', 'in', 'respectfulness']]\n"
          ]
        }
      ]
    },
    {
      "cell_type": "markdown",
      "source": [
        "### **Vectorization** --> According to my dataset and our problem statement I decide that an ML model will be a good fit for our project keeping in mind our data constraints and other aims. Thus, an ML model requires data to be in numerical format. We convert this categorical data to numbers using vectorization."
      ],
      "metadata": {
        "id": "J6Ui4n0wUhkr"
      }
    },
    {
      "cell_type": "code",
      "source": [
        "from sklearn.feature_extraction.text import TfidfVectorizer\n",
        "\n",
        "vectorizer = TfidfVectorizer()\n",
        "\n",
        "skills_copy = df['skill']\n",
        "\n",
        "X_tfidf = vectorizer.fit_transform(skills_copy)\n",
        "\n",
        "X_tfidf_array = X_tfidf.toarray()\n",
        "X_tfidf_array\n"
      ],
      "metadata": {
        "id": "nt7E0UGMNmp4",
        "colab": {
          "base_uri": "https://localhost:8080/"
        },
        "outputId": "afdf1850-a61c-44cb-e16f-5e98bfdf6649"
      },
      "execution_count": 23,
      "outputs": [
        {
          "output_type": "execute_result",
          "data": {
            "text/plain": [
              "array([[0., 0., 0., ..., 0., 0., 0.],\n",
              "       [0., 0., 0., ..., 0., 0., 0.],\n",
              "       [0., 0., 0., ..., 0., 0., 0.],\n",
              "       ...,\n",
              "       [0., 0., 0., ..., 0., 0., 0.],\n",
              "       [0., 0., 0., ..., 0., 0., 0.],\n",
              "       [0., 0., 0., ..., 0., 0., 0.]])"
            ]
          },
          "metadata": {},
          "execution_count": 23
        }
      ]
    },
    {
      "cell_type": "markdown",
      "source": [
        "### Checking **TF_IDF matrix** once"
      ],
      "metadata": {
        "id": "9sKYF15_VXIj"
      }
    },
    {
      "cell_type": "code",
      "source": [
        "X_tfidf_array[990]"
      ],
      "metadata": {
        "colab": {
          "base_uri": "https://localhost:8080/"
        },
        "collapsed": true,
        "id": "6HiPR9p5Uz3t",
        "outputId": "e5b8f209-751f-4c4e-d053-455013e88c6c"
      },
      "execution_count": 24,
      "outputs": [
        {
          "output_type": "execute_result",
          "data": {
            "text/plain": [
              "array([0.        , 0.        , 0.        , 0.        , 0.        ,\n",
              "       0.        , 0.        , 0.        , 0.        , 0.        ,\n",
              "       0.        , 0.61260139, 0.        , 0.        , 0.        ,\n",
              "       0.        , 0.        , 0.35132269, 0.        , 0.        ,\n",
              "       0.        , 0.        , 0.        , 0.        , 0.        ,\n",
              "       0.        , 0.        , 0.        , 0.        , 0.        ,\n",
              "       0.        , 0.        , 0.        , 0.        , 0.        ,\n",
              "       0.        , 0.        , 0.        , 0.        , 0.        ,\n",
              "       0.        , 0.        , 0.        , 0.        , 0.        ,\n",
              "       0.        , 0.        , 0.        , 0.        , 0.        ,\n",
              "       0.        , 0.        , 0.        , 0.        , 0.        ,\n",
              "       0.        , 0.        , 0.        , 0.        , 0.        ,\n",
              "       0.        , 0.        , 0.        , 0.        , 0.        ,\n",
              "       0.        , 0.        , 0.        , 0.        , 0.        ,\n",
              "       0.        , 0.        , 0.        , 0.        , 0.        ,\n",
              "       0.        , 0.        , 0.        , 0.        , 0.        ,\n",
              "       0.        , 0.        , 0.        , 0.        , 0.        ,\n",
              "       0.        , 0.        , 0.        , 0.        , 0.        ,\n",
              "       0.        , 0.        , 0.        , 0.        , 0.        ,\n",
              "       0.        , 0.        , 0.        , 0.        , 0.        ,\n",
              "       0.        , 0.        , 0.        , 0.        , 0.        ,\n",
              "       0.        , 0.        , 0.        , 0.        , 0.        ,\n",
              "       0.        , 0.        , 0.        , 0.        , 0.        ,\n",
              "       0.        , 0.        , 0.        , 0.        , 0.        ,\n",
              "       0.        , 0.        , 0.        , 0.        , 0.        ,\n",
              "       0.        , 0.        , 0.        , 0.        , 0.        ,\n",
              "       0.        , 0.        , 0.        , 0.        , 0.        ,\n",
              "       0.        , 0.        , 0.        , 0.        , 0.        ,\n",
              "       0.        , 0.        , 0.        , 0.        , 0.        ,\n",
              "       0.        , 0.        , 0.        , 0.        , 0.        ,\n",
              "       0.        , 0.        , 0.        , 0.        , 0.        ,\n",
              "       0.        , 0.        , 0.        , 0.        , 0.        ,\n",
              "       0.        , 0.        , 0.        , 0.        , 0.        ,\n",
              "       0.        , 0.        , 0.        , 0.        , 0.        ,\n",
              "       0.        , 0.        , 0.        , 0.        , 0.        ,\n",
              "       0.        , 0.        , 0.        , 0.        , 0.        ,\n",
              "       0.        , 0.        , 0.        , 0.        , 0.        ,\n",
              "       0.        , 0.        , 0.44043097, 0.        , 0.        ,\n",
              "       0.        , 0.        , 0.        , 0.        , 0.        ,\n",
              "       0.55435771, 0.        , 0.        , 0.        , 0.        ,\n",
              "       0.        , 0.        , 0.        , 0.        , 0.        ,\n",
              "       0.        , 0.        , 0.        , 0.        , 0.        ,\n",
              "       0.        , 0.        , 0.        , 0.        , 0.        ,\n",
              "       0.        , 0.        , 0.        , 0.        , 0.        ,\n",
              "       0.        , 0.        , 0.        , 0.        , 0.        ,\n",
              "       0.        , 0.        , 0.        , 0.        , 0.        ,\n",
              "       0.        , 0.        , 0.        , 0.        , 0.        ,\n",
              "       0.        , 0.        , 0.        , 0.        , 0.        ,\n",
              "       0.        , 0.        , 0.        , 0.        , 0.        ,\n",
              "       0.        , 0.        , 0.        , 0.        , 0.        ,\n",
              "       0.        , 0.        , 0.        , 0.        , 0.        ,\n",
              "       0.        , 0.        , 0.        , 0.        , 0.        ,\n",
              "       0.        , 0.        , 0.        , 0.        , 0.        ,\n",
              "       0.        , 0.        , 0.        , 0.        , 0.        ,\n",
              "       0.        , 0.        , 0.        , 0.        , 0.        ,\n",
              "       0.        , 0.        , 0.        , 0.        , 0.        ,\n",
              "       0.        , 0.        , 0.        , 0.        , 0.        ,\n",
              "       0.        , 0.        , 0.        , 0.        , 0.        ,\n",
              "       0.        , 0.        , 0.        , 0.        , 0.        ,\n",
              "       0.        , 0.        , 0.        , 0.        , 0.        ,\n",
              "       0.        , 0.        , 0.        , 0.        , 0.        ,\n",
              "       0.        , 0.        , 0.        , 0.        , 0.        ,\n",
              "       0.        , 0.        , 0.        , 0.        , 0.        ,\n",
              "       0.        , 0.        , 0.        , 0.        , 0.        ,\n",
              "       0.        , 0.        , 0.        , 0.        , 0.        ,\n",
              "       0.        , 0.        , 0.        , 0.        , 0.        ,\n",
              "       0.        , 0.        , 0.        , 0.        , 0.        ,\n",
              "       0.        , 0.        , 0.        , 0.        , 0.        ,\n",
              "       0.        , 0.        , 0.        , 0.        , 0.        ,\n",
              "       0.        , 0.        , 0.        , 0.        , 0.        ,\n",
              "       0.        , 0.        , 0.        , 0.        , 0.        ,\n",
              "       0.        , 0.        , 0.        , 0.        , 0.        ,\n",
              "       0.        , 0.        , 0.        , 0.        , 0.        ,\n",
              "       0.        , 0.        , 0.        , 0.        , 0.        ,\n",
              "       0.        , 0.        , 0.        , 0.        , 0.        ])"
            ]
          },
          "metadata": {},
          "execution_count": 24
        }
      ]
    },
    {
      "cell_type": "markdown",
      "source": [
        "\n",
        "### **Spliting the data into training and testing sets (80% train, 20% test)**"
      ],
      "metadata": {
        "id": "m5ZoGrW6Wos7"
      }
    },
    {
      "cell_type": "code",
      "source": [
        "from sklearn.model_selection import train_test_split\n",
        "\n",
        "X = X_tfidf_array\n",
        "y = df['category']\n",
        "\n",
        "X_train, X_test, y_train, y_test = train_test_split(X, y, test_size=0.2, random_state=42)"
      ],
      "metadata": {
        "id": "1PrY2_MWVgm8"
      },
      "execution_count": 25,
      "outputs": []
    },
    {
      "cell_type": "markdown",
      "source": [
        "### **Trying out some ML algorithms using Scikit-learn and selecting the best**"
      ],
      "metadata": {
        "id": "ACRJle0FW1tc"
      }
    },
    {
      "cell_type": "markdown",
      "source": [
        "### **Logistic Regression**\n",
        "### **Accuracy: 95.37%**"
      ],
      "metadata": {
        "id": "h2aHmgUtWVGb"
      }
    },
    {
      "cell_type": "code",
      "source": [
        "from sklearn.linear_model import LogisticRegression\n",
        "\n",
        "model = LogisticRegression(max_iter=1000)\n",
        "\n",
        "model.fit(X_train, y_train)\n"
      ],
      "metadata": {
        "colab": {
          "base_uri": "https://localhost:8080/",
          "height": 78
        },
        "id": "tfU7eph0WJB7",
        "outputId": "e0509c7b-c20d-48cc-e2cf-9bdaf1a24a31"
      },
      "execution_count": 26,
      "outputs": [
        {
          "output_type": "execute_result",
          "data": {
            "text/plain": [
              "LogisticRegression(max_iter=1000)"
            ],
            "text/html": [
              "<style>#sk-container-id-1 {\n",
              "  /* Definition of color scheme common for light and dark mode */\n",
              "  --sklearn-color-text: #000;\n",
              "  --sklearn-color-text-muted: #666;\n",
              "  --sklearn-color-line: gray;\n",
              "  /* Definition of color scheme for unfitted estimators */\n",
              "  --sklearn-color-unfitted-level-0: #fff5e6;\n",
              "  --sklearn-color-unfitted-level-1: #f6e4d2;\n",
              "  --sklearn-color-unfitted-level-2: #ffe0b3;\n",
              "  --sklearn-color-unfitted-level-3: chocolate;\n",
              "  /* Definition of color scheme for fitted estimators */\n",
              "  --sklearn-color-fitted-level-0: #f0f8ff;\n",
              "  --sklearn-color-fitted-level-1: #d4ebff;\n",
              "  --sklearn-color-fitted-level-2: #b3dbfd;\n",
              "  --sklearn-color-fitted-level-3: cornflowerblue;\n",
              "\n",
              "  /* Specific color for light theme */\n",
              "  --sklearn-color-text-on-default-background: var(--sg-text-color, var(--theme-code-foreground, var(--jp-content-font-color1, black)));\n",
              "  --sklearn-color-background: var(--sg-background-color, var(--theme-background, var(--jp-layout-color0, white)));\n",
              "  --sklearn-color-border-box: var(--sg-text-color, var(--theme-code-foreground, var(--jp-content-font-color1, black)));\n",
              "  --sklearn-color-icon: #696969;\n",
              "\n",
              "  @media (prefers-color-scheme: dark) {\n",
              "    /* Redefinition of color scheme for dark theme */\n",
              "    --sklearn-color-text-on-default-background: var(--sg-text-color, var(--theme-code-foreground, var(--jp-content-font-color1, white)));\n",
              "    --sklearn-color-background: var(--sg-background-color, var(--theme-background, var(--jp-layout-color0, #111)));\n",
              "    --sklearn-color-border-box: var(--sg-text-color, var(--theme-code-foreground, var(--jp-content-font-color1, white)));\n",
              "    --sklearn-color-icon: #878787;\n",
              "  }\n",
              "}\n",
              "\n",
              "#sk-container-id-1 {\n",
              "  color: var(--sklearn-color-text);\n",
              "}\n",
              "\n",
              "#sk-container-id-1 pre {\n",
              "  padding: 0;\n",
              "}\n",
              "\n",
              "#sk-container-id-1 input.sk-hidden--visually {\n",
              "  border: 0;\n",
              "  clip: rect(1px 1px 1px 1px);\n",
              "  clip: rect(1px, 1px, 1px, 1px);\n",
              "  height: 1px;\n",
              "  margin: -1px;\n",
              "  overflow: hidden;\n",
              "  padding: 0;\n",
              "  position: absolute;\n",
              "  width: 1px;\n",
              "}\n",
              "\n",
              "#sk-container-id-1 div.sk-dashed-wrapped {\n",
              "  border: 1px dashed var(--sklearn-color-line);\n",
              "  margin: 0 0.4em 0.5em 0.4em;\n",
              "  box-sizing: border-box;\n",
              "  padding-bottom: 0.4em;\n",
              "  background-color: var(--sklearn-color-background);\n",
              "}\n",
              "\n",
              "#sk-container-id-1 div.sk-container {\n",
              "  /* jupyter's `normalize.less` sets `[hidden] { display: none; }`\n",
              "     but bootstrap.min.css set `[hidden] { display: none !important; }`\n",
              "     so we also need the `!important` here to be able to override the\n",
              "     default hidden behavior on the sphinx rendered scikit-learn.org.\n",
              "     See: https://github.com/scikit-learn/scikit-learn/issues/21755 */\n",
              "  display: inline-block !important;\n",
              "  position: relative;\n",
              "}\n",
              "\n",
              "#sk-container-id-1 div.sk-text-repr-fallback {\n",
              "  display: none;\n",
              "}\n",
              "\n",
              "div.sk-parallel-item,\n",
              "div.sk-serial,\n",
              "div.sk-item {\n",
              "  /* draw centered vertical line to link estimators */\n",
              "  background-image: linear-gradient(var(--sklearn-color-text-on-default-background), var(--sklearn-color-text-on-default-background));\n",
              "  background-size: 2px 100%;\n",
              "  background-repeat: no-repeat;\n",
              "  background-position: center center;\n",
              "}\n",
              "\n",
              "/* Parallel-specific style estimator block */\n",
              "\n",
              "#sk-container-id-1 div.sk-parallel-item::after {\n",
              "  content: \"\";\n",
              "  width: 100%;\n",
              "  border-bottom: 2px solid var(--sklearn-color-text-on-default-background);\n",
              "  flex-grow: 1;\n",
              "}\n",
              "\n",
              "#sk-container-id-1 div.sk-parallel {\n",
              "  display: flex;\n",
              "  align-items: stretch;\n",
              "  justify-content: center;\n",
              "  background-color: var(--sklearn-color-background);\n",
              "  position: relative;\n",
              "}\n",
              "\n",
              "#sk-container-id-1 div.sk-parallel-item {\n",
              "  display: flex;\n",
              "  flex-direction: column;\n",
              "}\n",
              "\n",
              "#sk-container-id-1 div.sk-parallel-item:first-child::after {\n",
              "  align-self: flex-end;\n",
              "  width: 50%;\n",
              "}\n",
              "\n",
              "#sk-container-id-1 div.sk-parallel-item:last-child::after {\n",
              "  align-self: flex-start;\n",
              "  width: 50%;\n",
              "}\n",
              "\n",
              "#sk-container-id-1 div.sk-parallel-item:only-child::after {\n",
              "  width: 0;\n",
              "}\n",
              "\n",
              "/* Serial-specific style estimator block */\n",
              "\n",
              "#sk-container-id-1 div.sk-serial {\n",
              "  display: flex;\n",
              "  flex-direction: column;\n",
              "  align-items: center;\n",
              "  background-color: var(--sklearn-color-background);\n",
              "  padding-right: 1em;\n",
              "  padding-left: 1em;\n",
              "}\n",
              "\n",
              "\n",
              "/* Toggleable style: style used for estimator/Pipeline/ColumnTransformer box that is\n",
              "clickable and can be expanded/collapsed.\n",
              "- Pipeline and ColumnTransformer use this feature and define the default style\n",
              "- Estimators will overwrite some part of the style using the `sk-estimator` class\n",
              "*/\n",
              "\n",
              "/* Pipeline and ColumnTransformer style (default) */\n",
              "\n",
              "#sk-container-id-1 div.sk-toggleable {\n",
              "  /* Default theme specific background. It is overwritten whether we have a\n",
              "  specific estimator or a Pipeline/ColumnTransformer */\n",
              "  background-color: var(--sklearn-color-background);\n",
              "}\n",
              "\n",
              "/* Toggleable label */\n",
              "#sk-container-id-1 label.sk-toggleable__label {\n",
              "  cursor: pointer;\n",
              "  display: flex;\n",
              "  width: 100%;\n",
              "  margin-bottom: 0;\n",
              "  padding: 0.5em;\n",
              "  box-sizing: border-box;\n",
              "  text-align: center;\n",
              "  align-items: start;\n",
              "  justify-content: space-between;\n",
              "  gap: 0.5em;\n",
              "}\n",
              "\n",
              "#sk-container-id-1 label.sk-toggleable__label .caption {\n",
              "  font-size: 0.6rem;\n",
              "  font-weight: lighter;\n",
              "  color: var(--sklearn-color-text-muted);\n",
              "}\n",
              "\n",
              "#sk-container-id-1 label.sk-toggleable__label-arrow:before {\n",
              "  /* Arrow on the left of the label */\n",
              "  content: \"▸\";\n",
              "  float: left;\n",
              "  margin-right: 0.25em;\n",
              "  color: var(--sklearn-color-icon);\n",
              "}\n",
              "\n",
              "#sk-container-id-1 label.sk-toggleable__label-arrow:hover:before {\n",
              "  color: var(--sklearn-color-text);\n",
              "}\n",
              "\n",
              "/* Toggleable content - dropdown */\n",
              "\n",
              "#sk-container-id-1 div.sk-toggleable__content {\n",
              "  max-height: 0;\n",
              "  max-width: 0;\n",
              "  overflow: hidden;\n",
              "  text-align: left;\n",
              "  /* unfitted */\n",
              "  background-color: var(--sklearn-color-unfitted-level-0);\n",
              "}\n",
              "\n",
              "#sk-container-id-1 div.sk-toggleable__content.fitted {\n",
              "  /* fitted */\n",
              "  background-color: var(--sklearn-color-fitted-level-0);\n",
              "}\n",
              "\n",
              "#sk-container-id-1 div.sk-toggleable__content pre {\n",
              "  margin: 0.2em;\n",
              "  border-radius: 0.25em;\n",
              "  color: var(--sklearn-color-text);\n",
              "  /* unfitted */\n",
              "  background-color: var(--sklearn-color-unfitted-level-0);\n",
              "}\n",
              "\n",
              "#sk-container-id-1 div.sk-toggleable__content.fitted pre {\n",
              "  /* unfitted */\n",
              "  background-color: var(--sklearn-color-fitted-level-0);\n",
              "}\n",
              "\n",
              "#sk-container-id-1 input.sk-toggleable__control:checked~div.sk-toggleable__content {\n",
              "  /* Expand drop-down */\n",
              "  max-height: 200px;\n",
              "  max-width: 100%;\n",
              "  overflow: auto;\n",
              "}\n",
              "\n",
              "#sk-container-id-1 input.sk-toggleable__control:checked~label.sk-toggleable__label-arrow:before {\n",
              "  content: \"▾\";\n",
              "}\n",
              "\n",
              "/* Pipeline/ColumnTransformer-specific style */\n",
              "\n",
              "#sk-container-id-1 div.sk-label input.sk-toggleable__control:checked~label.sk-toggleable__label {\n",
              "  color: var(--sklearn-color-text);\n",
              "  background-color: var(--sklearn-color-unfitted-level-2);\n",
              "}\n",
              "\n",
              "#sk-container-id-1 div.sk-label.fitted input.sk-toggleable__control:checked~label.sk-toggleable__label {\n",
              "  background-color: var(--sklearn-color-fitted-level-2);\n",
              "}\n",
              "\n",
              "/* Estimator-specific style */\n",
              "\n",
              "/* Colorize estimator box */\n",
              "#sk-container-id-1 div.sk-estimator input.sk-toggleable__control:checked~label.sk-toggleable__label {\n",
              "  /* unfitted */\n",
              "  background-color: var(--sklearn-color-unfitted-level-2);\n",
              "}\n",
              "\n",
              "#sk-container-id-1 div.sk-estimator.fitted input.sk-toggleable__control:checked~label.sk-toggleable__label {\n",
              "  /* fitted */\n",
              "  background-color: var(--sklearn-color-fitted-level-2);\n",
              "}\n",
              "\n",
              "#sk-container-id-1 div.sk-label label.sk-toggleable__label,\n",
              "#sk-container-id-1 div.sk-label label {\n",
              "  /* The background is the default theme color */\n",
              "  color: var(--sklearn-color-text-on-default-background);\n",
              "}\n",
              "\n",
              "/* On hover, darken the color of the background */\n",
              "#sk-container-id-1 div.sk-label:hover label.sk-toggleable__label {\n",
              "  color: var(--sklearn-color-text);\n",
              "  background-color: var(--sklearn-color-unfitted-level-2);\n",
              "}\n",
              "\n",
              "/* Label box, darken color on hover, fitted */\n",
              "#sk-container-id-1 div.sk-label.fitted:hover label.sk-toggleable__label.fitted {\n",
              "  color: var(--sklearn-color-text);\n",
              "  background-color: var(--sklearn-color-fitted-level-2);\n",
              "}\n",
              "\n",
              "/* Estimator label */\n",
              "\n",
              "#sk-container-id-1 div.sk-label label {\n",
              "  font-family: monospace;\n",
              "  font-weight: bold;\n",
              "  display: inline-block;\n",
              "  line-height: 1.2em;\n",
              "}\n",
              "\n",
              "#sk-container-id-1 div.sk-label-container {\n",
              "  text-align: center;\n",
              "}\n",
              "\n",
              "/* Estimator-specific */\n",
              "#sk-container-id-1 div.sk-estimator {\n",
              "  font-family: monospace;\n",
              "  border: 1px dotted var(--sklearn-color-border-box);\n",
              "  border-radius: 0.25em;\n",
              "  box-sizing: border-box;\n",
              "  margin-bottom: 0.5em;\n",
              "  /* unfitted */\n",
              "  background-color: var(--sklearn-color-unfitted-level-0);\n",
              "}\n",
              "\n",
              "#sk-container-id-1 div.sk-estimator.fitted {\n",
              "  /* fitted */\n",
              "  background-color: var(--sklearn-color-fitted-level-0);\n",
              "}\n",
              "\n",
              "/* on hover */\n",
              "#sk-container-id-1 div.sk-estimator:hover {\n",
              "  /* unfitted */\n",
              "  background-color: var(--sklearn-color-unfitted-level-2);\n",
              "}\n",
              "\n",
              "#sk-container-id-1 div.sk-estimator.fitted:hover {\n",
              "  /* fitted */\n",
              "  background-color: var(--sklearn-color-fitted-level-2);\n",
              "}\n",
              "\n",
              "/* Specification for estimator info (e.g. \"i\" and \"?\") */\n",
              "\n",
              "/* Common style for \"i\" and \"?\" */\n",
              "\n",
              ".sk-estimator-doc-link,\n",
              "a:link.sk-estimator-doc-link,\n",
              "a:visited.sk-estimator-doc-link {\n",
              "  float: right;\n",
              "  font-size: smaller;\n",
              "  line-height: 1em;\n",
              "  font-family: monospace;\n",
              "  background-color: var(--sklearn-color-background);\n",
              "  border-radius: 1em;\n",
              "  height: 1em;\n",
              "  width: 1em;\n",
              "  text-decoration: none !important;\n",
              "  margin-left: 0.5em;\n",
              "  text-align: center;\n",
              "  /* unfitted */\n",
              "  border: var(--sklearn-color-unfitted-level-1) 1pt solid;\n",
              "  color: var(--sklearn-color-unfitted-level-1);\n",
              "}\n",
              "\n",
              ".sk-estimator-doc-link.fitted,\n",
              "a:link.sk-estimator-doc-link.fitted,\n",
              "a:visited.sk-estimator-doc-link.fitted {\n",
              "  /* fitted */\n",
              "  border: var(--sklearn-color-fitted-level-1) 1pt solid;\n",
              "  color: var(--sklearn-color-fitted-level-1);\n",
              "}\n",
              "\n",
              "/* On hover */\n",
              "div.sk-estimator:hover .sk-estimator-doc-link:hover,\n",
              ".sk-estimator-doc-link:hover,\n",
              "div.sk-label-container:hover .sk-estimator-doc-link:hover,\n",
              ".sk-estimator-doc-link:hover {\n",
              "  /* unfitted */\n",
              "  background-color: var(--sklearn-color-unfitted-level-3);\n",
              "  color: var(--sklearn-color-background);\n",
              "  text-decoration: none;\n",
              "}\n",
              "\n",
              "div.sk-estimator.fitted:hover .sk-estimator-doc-link.fitted:hover,\n",
              ".sk-estimator-doc-link.fitted:hover,\n",
              "div.sk-label-container:hover .sk-estimator-doc-link.fitted:hover,\n",
              ".sk-estimator-doc-link.fitted:hover {\n",
              "  /* fitted */\n",
              "  background-color: var(--sklearn-color-fitted-level-3);\n",
              "  color: var(--sklearn-color-background);\n",
              "  text-decoration: none;\n",
              "}\n",
              "\n",
              "/* Span, style for the box shown on hovering the info icon */\n",
              ".sk-estimator-doc-link span {\n",
              "  display: none;\n",
              "  z-index: 9999;\n",
              "  position: relative;\n",
              "  font-weight: normal;\n",
              "  right: .2ex;\n",
              "  padding: .5ex;\n",
              "  margin: .5ex;\n",
              "  width: min-content;\n",
              "  min-width: 20ex;\n",
              "  max-width: 50ex;\n",
              "  color: var(--sklearn-color-text);\n",
              "  box-shadow: 2pt 2pt 4pt #999;\n",
              "  /* unfitted */\n",
              "  background: var(--sklearn-color-unfitted-level-0);\n",
              "  border: .5pt solid var(--sklearn-color-unfitted-level-3);\n",
              "}\n",
              "\n",
              ".sk-estimator-doc-link.fitted span {\n",
              "  /* fitted */\n",
              "  background: var(--sklearn-color-fitted-level-0);\n",
              "  border: var(--sklearn-color-fitted-level-3);\n",
              "}\n",
              "\n",
              ".sk-estimator-doc-link:hover span {\n",
              "  display: block;\n",
              "}\n",
              "\n",
              "/* \"?\"-specific style due to the `<a>` HTML tag */\n",
              "\n",
              "#sk-container-id-1 a.estimator_doc_link {\n",
              "  float: right;\n",
              "  font-size: 1rem;\n",
              "  line-height: 1em;\n",
              "  font-family: monospace;\n",
              "  background-color: var(--sklearn-color-background);\n",
              "  border-radius: 1rem;\n",
              "  height: 1rem;\n",
              "  width: 1rem;\n",
              "  text-decoration: none;\n",
              "  /* unfitted */\n",
              "  color: var(--sklearn-color-unfitted-level-1);\n",
              "  border: var(--sklearn-color-unfitted-level-1) 1pt solid;\n",
              "}\n",
              "\n",
              "#sk-container-id-1 a.estimator_doc_link.fitted {\n",
              "  /* fitted */\n",
              "  border: var(--sklearn-color-fitted-level-1) 1pt solid;\n",
              "  color: var(--sklearn-color-fitted-level-1);\n",
              "}\n",
              "\n",
              "/* On hover */\n",
              "#sk-container-id-1 a.estimator_doc_link:hover {\n",
              "  /* unfitted */\n",
              "  background-color: var(--sklearn-color-unfitted-level-3);\n",
              "  color: var(--sklearn-color-background);\n",
              "  text-decoration: none;\n",
              "}\n",
              "\n",
              "#sk-container-id-1 a.estimator_doc_link.fitted:hover {\n",
              "  /* fitted */\n",
              "  background-color: var(--sklearn-color-fitted-level-3);\n",
              "}\n",
              "</style><div id=\"sk-container-id-1\" class=\"sk-top-container\"><div class=\"sk-text-repr-fallback\"><pre>LogisticRegression(max_iter=1000)</pre><b>In a Jupyter environment, please rerun this cell to show the HTML representation or trust the notebook. <br />On GitHub, the HTML representation is unable to render, please try loading this page with nbviewer.org.</b></div><div class=\"sk-container\" hidden><div class=\"sk-item\"><div class=\"sk-estimator fitted sk-toggleable\"><input class=\"sk-toggleable__control sk-hidden--visually\" id=\"sk-estimator-id-1\" type=\"checkbox\" checked><label for=\"sk-estimator-id-1\" class=\"sk-toggleable__label fitted sk-toggleable__label-arrow\"><div><div>LogisticRegression</div></div><div><a class=\"sk-estimator-doc-link fitted\" rel=\"noreferrer\" target=\"_blank\" href=\"https://scikit-learn.org/1.6/modules/generated/sklearn.linear_model.LogisticRegression.html\">?<span>Documentation for LogisticRegression</span></a><span class=\"sk-estimator-doc-link fitted\">i<span>Fitted</span></span></div></label><div class=\"sk-toggleable__content fitted\"><pre>LogisticRegression(max_iter=1000)</pre></div> </div></div></div></div>"
            ]
          },
          "metadata": {},
          "execution_count": 26
        }
      ]
    },
    {
      "cell_type": "code",
      "source": [
        "from sklearn.metrics import accuracy_score, classification_report\n",
        "\n",
        "y_pred = model.predict(X_test)\n",
        "\n",
        "accuracy = accuracy_score(y_test, y_pred)\n",
        "print(f\"Logistic Regression Accuracy: {accuracy * 100:.2f}%\")\n",
        "\n",
        "print(classification_report(y_test, y_pred))\n"
      ],
      "metadata": {
        "colab": {
          "base_uri": "https://localhost:8080/"
        },
        "id": "Dwc8PwAsWRvn",
        "outputId": "7918384f-dbab-4e3b-cfd6-ae7e3dc7747c"
      },
      "execution_count": 27,
      "outputs": [
        {
          "output_type": "stream",
          "name": "stdout",
          "text": [
            "Logistic Regression Accuracy: 95.37%\n",
            "                                precision    recall  f1-score   support\n",
            "\n",
            "business and management skills       0.96      0.94      0.95        52\n",
            "               creative skills       0.98      1.00      0.99        43\n",
            "    data and analytical skills       0.92      0.96      0.94        50\n",
            "                   soft skills       0.95      0.95      0.95        63\n",
            "              technical skills       0.96      0.92      0.94        51\n",
            "\n",
            "                      accuracy                           0.95       259\n",
            "                     macro avg       0.95      0.96      0.95       259\n",
            "                  weighted avg       0.95      0.95      0.95       259\n",
            "\n"
          ]
        }
      ]
    },
    {
      "cell_type": "markdown",
      "source": [
        "### **Random Forest**\n",
        "### **Accuracy: 91.12%**"
      ],
      "metadata": {
        "id": "vtReyBWVWu4K"
      }
    },
    {
      "cell_type": "code",
      "source": [
        "from sklearn.ensemble import RandomForestClassifier\n",
        "from sklearn.metrics import accuracy_score\n",
        "\n",
        "rf_model = RandomForestClassifier(n_estimators=100, random_state=42)\n",
        "rf_model.fit(X_train, y_train)\n",
        "\n",
        "\n",
        "y_pred_rf = rf_model.predict(X_test)\n",
        "\n",
        "\n",
        "accuracy_rf = accuracy_score(y_test, y_pred_rf)\n",
        "print(f\"Random Forest Accuracy: {accuracy_rf * 100:.2f}%\")"
      ],
      "metadata": {
        "colab": {
          "base_uri": "https://localhost:8080/"
        },
        "id": "l9AOaYKnWboL",
        "outputId": "9eca8e3d-48d1-42bb-bf22-8d36b755f44c"
      },
      "execution_count": 28,
      "outputs": [
        {
          "output_type": "stream",
          "name": "stdout",
          "text": [
            "Random Forest Accuracy: 91.12%\n"
          ]
        }
      ]
    },
    {
      "cell_type": "markdown",
      "source": [
        "### **Support Vector Machine (SVM)**\n",
        "### **Accuracy: 96.14%**"
      ],
      "metadata": {
        "id": "OuR_HcukYTYe"
      }
    },
    {
      "cell_type": "code",
      "source": [
        "from sklearn.svm import SVC\n",
        "from sklearn.metrics import accuracy_score\n",
        "\n",
        "svm_model = SVC(kernel='linear', random_state=42)\n",
        "svm_model.fit(X_train, y_train)\n",
        "\n",
        "y_pred_svm = svm_model.predict(X_test)\n",
        "\n",
        "accuracy_svm = accuracy_score(y_test, y_pred_svm)\n",
        "print(f\"SVM Accuracy: {accuracy_svm * 100:.2f}%\")"
      ],
      "metadata": {
        "colab": {
          "base_uri": "https://localhost:8080/"
        },
        "id": "mk9YFeCiXVpM",
        "outputId": "b8e5b1b7-ac8c-4de7-dc56-ae8db9838490"
      },
      "execution_count": 29,
      "outputs": [
        {
          "output_type": "stream",
          "name": "stdout",
          "text": [
            "SVM Accuracy: 96.14%\n"
          ]
        }
      ]
    },
    {
      "cell_type": "markdown",
      "source": [
        "### **Naive Bayes**\n",
        "### **Accuracy: 94.59%**"
      ],
      "metadata": {
        "id": "TX1Cm3LOYpSe"
      }
    },
    {
      "cell_type": "code",
      "source": [
        "from sklearn.naive_bayes import MultinomialNB\n",
        "\n",
        "nb_model = MultinomialNB()\n",
        "nb_model.fit(X_train, y_train)\n",
        "y_pred_nb = nb_model.predict(X_test)\n",
        "\n",
        "accuracy_nb = accuracy_score(y_test, y_pred_nb)\n",
        "print(f\"Naive Bayes Accuracy: {accuracy_nb * 100:.2f}%\")"
      ],
      "metadata": {
        "colab": {
          "base_uri": "https://localhost:8080/"
        },
        "id": "YajqmtXXXazs",
        "outputId": "3fc9d1b8-9604-4dfa-973e-0d24112e7663"
      },
      "execution_count": 30,
      "outputs": [
        {
          "output_type": "stream",
          "name": "stdout",
          "text": [
            "Naive Bayes Accuracy: 94.59%\n"
          ]
        }
      ]
    },
    {
      "cell_type": "markdown",
      "source": [
        "### **KNN**\n",
        "### **Accuracy: 88.03%**"
      ],
      "metadata": {
        "id": "FY4DoJVxZISX"
      }
    },
    {
      "cell_type": "code",
      "source": [
        "from sklearn.neighbors import KNeighborsClassifier\n",
        "\n",
        "knn_model = KNeighborsClassifier(n_neighbors=5)\n",
        "knn_model.fit(X_train, y_train)\n",
        "y_pred_knn = knn_model.predict(X_test)\n",
        "\n",
        "accuracy_knn = accuracy_score(y_test, y_pred_knn)\n",
        "print(f\"k-NN Accuracy: {accuracy_knn * 100:.2f}%\")"
      ],
      "metadata": {
        "colab": {
          "base_uri": "https://localhost:8080/"
        },
        "id": "-cr5dulYY2jc",
        "outputId": "4b7d1920-8a3d-46b8-da59-f3f9d26ca1f7"
      },
      "execution_count": 31,
      "outputs": [
        {
          "output_type": "stream",
          "name": "stdout",
          "text": [
            "k-NN Accuracy: 88.03%\n"
          ]
        }
      ]
    },
    {
      "cell_type": "markdown",
      "source": [
        "### Comparison using **Confusion Matrix**"
      ],
      "metadata": {
        "id": "sfT79KCkZZgO"
      }
    },
    {
      "cell_type": "code",
      "source": [
        "from sklearn.metrics import confusion_matrix, ConfusionMatrixDisplay\n",
        "\n",
        "y_pred_svm = svm_model.predict(X_test)\n",
        "\n",
        "\n",
        "cm = confusion_matrix(y_test, y_pred_svm)\n",
        "\n",
        "\n",
        "disp = ConfusionMatrixDisplay(confusion_matrix=cm, display_labels=svm_model.classes_)\n",
        "disp.plot(cmap=\"Purples\", xticks_rotation=\"vertical\")\n"
      ],
      "metadata": {
        "colab": {
          "base_uri": "https://localhost:8080/",
          "height": 684
        },
        "id": "cN7mreD_ZZSa",
        "outputId": "876ad587-906a-45a6-c082-348be9cf3089"
      },
      "execution_count": 32,
      "outputs": [
        {
          "output_type": "execute_result",
          "data": {
            "text/plain": [
              "<sklearn.metrics._plot.confusion_matrix.ConfusionMatrixDisplay at 0x7cbea60a8d90>"
            ]
          },
          "metadata": {},
          "execution_count": 32
        },
        {
          "output_type": "display_data",
          "data": {
            "text/plain": [
              "<Figure size 640x480 with 2 Axes>"
            ],
            "image/png": "[encoded data removed]"
          },
          "metadata": {}
        }
      ]
    },
    {
      "cell_type": "markdown",
      "source": [
        "### Observing **any misclassifications**"
      ],
      "metadata": {
        "id": "GTr3OajqaA45"
      }
    },
    {
      "cell_type": "code",
      "source": [
        "misclassified_indices = (y_test != y_pred_svm)\n",
        "\n",
        "misclassified_df = pd.DataFrame({\n",
        "    \"Actual\": y_test[misclassified_indices].values,\n",
        "    \"Predicted\": y_pred_svm[misclassified_indices]\n",
        "})\n",
        "\n",
        "misclassified_df.head(10)\n"
      ],
      "metadata": {
        "colab": {
          "base_uri": "https://localhost:8080/",
          "height": 352
        },
        "id": "FTfp_yP6Y86u",
        "outputId": "2de0fb71-d9d7-40d7-d9aa-a8222aaf30fb"
      },
      "execution_count": 33,
      "outputs": [
        {
          "output_type": "execute_result",
          "data": {
            "text/plain": [
              "                           Actual                       Predicted\n",
              "0  business and management skills                     soft skills\n",
              "1  business and management skills                     soft skills\n",
              "2      data and analytical skills                technical skills\n",
              "3      data and analytical skills                technical skills\n",
              "4                     soft skills                 creative skills\n",
              "5                     soft skills  business and management skills\n",
              "6  business and management skills                     soft skills\n",
              "7                technical skills      data and analytical skills\n",
              "8                     soft skills  business and management skills\n",
              "9                technical skills      data and analytical skills"
            ],
            "text/html": [
              "\n",
              "  <div id=\"df-313ff096-ce60-42d8-88af-2160727e0ad4\" class=\"colab-df-container\">\n",
              "    <div>\n",
              "<style scoped>\n",
              "    .dataframe tbody tr th:only-of-type {\n",
              "        vertical-align: middle;\n",
              "    }\n",
              "\n",
              "    .dataframe tbody tr th {\n",
              "        vertical-align: top;\n",
              "    }\n",
              "\n",
              "    .dataframe thead th {\n",
              "        text-align: right;\n",
              "    }\n",
              "</style>\n",
              "<table border=\"1\" class=\"dataframe\">\n",
              "  <thead>\n",
              "    <tr style=\"text-align: right;\">\n",
              "      <th></th>\n",
              "      <th>Actual</th>\n",
              "      <th>Predicted</th>\n",
              "    </tr>\n",
              "  </thead>\n",
              "  <tbody>\n",
              "    <tr>\n",
              "      <th>0</th>\n",
              "      <td>business and management skills</td>\n",
              "      <td>soft skills</td>\n",
              "    </tr>\n",
              "    <tr>\n",
              "      <th>1</th>\n",
              "      <td>business and management skills</td>\n",
              "      <td>soft skills</td>\n",
              "    </tr>\n",
              "    <tr>\n",
              "      <th>2</th>\n",
              "      <td>data and analytical skills</td>\n",
              "      <td>technical skills</td>\n",
              "    </tr>\n",
              "    <tr>\n",
              "      <th>3</th>\n",
              "      <td>data and analytical skills</td>\n",
              "      <td>technical skills</td>\n",
              "    </tr>\n",
              "    <tr>\n",
              "      <th>4</th>\n",
              "      <td>soft skills</td>\n",
              "      <td>creative skills</td>\n",
              "    </tr>\n",
              "    <tr>\n",
              "      <th>5</th>\n",
              "      <td>soft skills</td>\n",
              "      <td>business and management skills</td>\n",
              "    </tr>\n",
              "    <tr>\n",
              "      <th>6</th>\n",
              "      <td>business and management skills</td>\n",
              "      <td>soft skills</td>\n",
              "    </tr>\n",
              "    <tr>\n",
              "      <th>7</th>\n",
              "      <td>technical skills</td>\n",
              "      <td>data and analytical skills</td>\n",
              "    </tr>\n",
              "    <tr>\n",
              "      <th>8</th>\n",
              "      <td>soft skills</td>\n",
              "      <td>business and management skills</td>\n",
              "    </tr>\n",
              "    <tr>\n",
              "      <th>9</th>\n",
              "      <td>technical skills</td>\n",
              "      <td>data and analytical skills</td>\n",
              "    </tr>\n",
              "  </tbody>\n",
              "</table>\n",
              "</div>\n",
              "    <div class=\"colab-df-buttons\">\n",
              "\n",
              "  <div class=\"colab-df-container\">\n",
              "    <button class=\"colab-df-convert\" onclick=\"convertToInteractive('df-313ff096-ce60-42d8-88af-2160727e0ad4')\"\n",
              "            title=\"Convert this dataframe to an interactive table.\"\n",
              "            style=\"display:none;\">\n",
              "\n",
              "  <svg xmlns=\"http://www.w3.org/2000/svg\" height=\"24px\" viewBox=\"0 -960 960 960\">\n",
              "    <path d=\"M120-120v-720h720v720H120Zm60-500h600v-160H180v160Zm220 220h160v-160H400v160Zm0 220h160v-160H400v160ZM180-400h160v-160H180v160Zm440 0h160v-160H620v160ZM180-180h160v-160H180v160Zm440 0h160v-160H620v160Z\"/>\n",
              "  </svg>\n",
              "    </button>\n",
              "\n",
              "  <style>\n",
              "    .colab-df-container {\n",
              "      display:flex;\n",
              "      gap: 12px;\n",
              "    }\n",
              "\n",
              "    .colab-df-convert {\n",
              "      background-color: #E8F0FE;\n",
              "      border: none;\n",
              "      border-radius: 50%;\n",
              "      cursor: pointer;\n",
              "      display: none;\n",
              "      fill: #1967D2;\n",
              "      height: 32px;\n",
              "      padding: 0 0 0 0;\n",
              "      width: 32px;\n",
              "    }\n",
              "\n",
              "    .colab-df-convert:hover {\n",
              "      background-color: #E2EBFA;\n",
              "      box-shadow: 0px 1px 2px rgba(60, 64, 67, 0.3), 0px 1px 3px 1px rgba(60, 64, 67, 0.15);\n",
              "      fill: #174EA6;\n",
              "    }\n",
              "\n",
              "    .colab-df-buttons div {\n",
              "      margin-bottom: 4px;\n",
              "    }\n",
              "\n",
              "    [theme=dark] .colab-df-convert {\n",
              "      background-color: #3B4455;\n",
              "      fill: #D2E3FC;\n",
              "    }\n",
              "\n",
              "    [theme=dark] .colab-df-convert:hover {\n",
              "      background-color: #434B5C;\n",
              "      box-shadow: 0px 1px 3px 1px rgba(0, 0, 0, 0.15);\n",
              "      filter: drop-shadow(0px 1px 2px rgba(0, 0, 0, 0.3));\n",
              "      fill: #FFFFFF;\n",
              "    }\n",
              "  </style>\n",
              "\n",
              "    <script>\n",
              "      const buttonEl =\n",
              "        document.querySelector('#df-313ff096-ce60-42d8-88af-2160727e0ad4 button.colab-df-convert');\n",
              "      buttonEl.style.display =\n",
              "        google.colab.kernel.accessAllowed ? 'block' : 'none';\n",
              "\n",
              "      async function convertToInteractive(key) {\n",
              "        const element = document.querySelector('#df-313ff096-ce60-42d8-88af-2160727e0ad4');\n",
              "        const dataTable =\n",
              "          await google.colab.kernel.invokeFunction('convertToInteractive',\n",
              "                                                    [key], {});\n",
              "        if (!dataTable) return;\n",
              "\n",
              "        const docLinkHtml = 'Like what you see? Visit the ' +\n",
              "          '<a target=\"_blank\" href=https://colab.research.google.com/notebooks/data_table.ipynb>data table notebook</a>'\n",
              "          + ' to learn more about interactive tables.';\n",
              "        element.innerHTML = '';\n",
              "        dataTable['output_type'] = 'display_data';\n",
              "        await google.colab.output.renderOutput(dataTable, element);\n",
              "        const docLink = document.createElement('div');\n",
              "        docLink.innerHTML = docLinkHtml;\n",
              "        element.appendChild(docLink);\n",
              "      }\n",
              "    </script>\n",
              "  </div>\n",
              "\n",
              "\n",
              "<div id=\"df-7a04e971-3584-4741-a50c-2832898f8aa7\">\n",
              "  <button class=\"colab-df-quickchart\" onclick=\"quickchart('df-7a04e971-3584-4741-a50c-2832898f8aa7')\"\n",
              "            title=\"Suggest charts\"\n",
              "            style=\"display:none;\">\n",
              "\n",
              "<svg xmlns=\"http://www.w3.org/2000/svg\" height=\"24px\"viewBox=\"0 0 24 24\"\n",
              "     width=\"24px\">\n",
              "    <g>\n",
              "        <path d=\"M19 3H5c-1.1 0-2 .9-2 2v14c0 1.1.9 2 2 2h14c1.1 0 2-.9 2-2V5c0-1.1-.9-2-2-2zM9 17H7v-7h2v7zm4 0h-2V7h2v10zm4 0h-2v-4h2v4z\"/>\n",
              "    </g>\n",
              "</svg>\n",
              "  </button>\n",
              "\n",
              "<style>\n",
              "  .colab-df-quickchart {\n",
              "      --bg-color: #E8F0FE;\n",
              "      --fill-color: #1967D2;\n",
              "      --hover-bg-color: #E2EBFA;\n",
              "      --hover-fill-color: #174EA6;\n",
              "      --disabled-fill-color: #AAA;\n",
              "      --disabled-bg-color: #DDD;\n",
              "  }\n",
              "\n",
              "  [theme=dark] .colab-df-quickchart {\n",
              "      --bg-color: #3B4455;\n",
              "      --fill-color: #D2E3FC;\n",
              "      --hover-bg-color: #434B5C;\n",
              "      --hover-fill-color: #FFFFFF;\n",
              "      --disabled-bg-color: #3B4455;\n",
              "      --disabled-fill-color: #666;\n",
              "  }\n",
              "\n",
              "  .colab-df-quickchart {\n",
              "    background-color: var(--bg-color);\n",
              "    border: none;\n",
              "    border-radius: 50%;\n",
              "    cursor: pointer;\n",
              "    display: none;\n",
              "    fill: var(--fill-color);\n",
              "    height: 32px;\n",
              "    padding: 0;\n",
              "    width: 32px;\n",
              "  }\n",
              "\n",
              "  .colab-df-quickchart:hover {\n",
              "    background-color: var(--hover-bg-color);\n",
              "    box-shadow: 0 1px 2px rgba(60, 64, 67, 0.3), 0 1px 3px 1px rgba(60, 64, 67, 0.15);\n",
              "    fill: var(--button-hover-fill-color);\n",
              "  }\n",
              "\n",
              "  .colab-df-quickchart-complete:disabled,\n",
              "  .colab-df-quickchart-complete:disabled:hover {\n",
              "    background-color: var(--disabled-bg-color);\n",
              "    fill: var(--disabled-fill-color);\n",
              "    box-shadow: none;\n",
              "  }\n",
              "\n",
              "  .colab-df-spinner {\n",
              "    border: 2px solid var(--fill-color);\n",
              "    border-color: transparent;\n",
              "    border-bottom-color: var(--fill-color);\n",
              "    animation:\n",
              "      spin 1s steps(1) infinite;\n",
              "  }\n",
              "\n",
              "  @keyframes spin {\n",
              "    0% {\n",
              "      border-color: transparent;\n",
              "      border-bottom-color: var(--fill-color);\n",
              "      border-left-color: var(--fill-color);\n",
              "    }\n",
              "    20% {\n",
              "      border-color: transparent;\n",
              "      border-left-color: var(--fill-color);\n",
              "      border-top-color: var(--fill-color);\n",
              "    }\n",
              "    30% {\n",
              "      border-color: transparent;\n",
              "      border-left-color: var(--fill-color);\n",
              "      border-top-color: var(--fill-color);\n",
              "      border-right-color: var(--fill-color);\n",
              "    }\n",
              "    40% {\n",
              "      border-color: transparent;\n",
              "      border-right-color: var(--fill-color);\n",
              "      border-top-color: var(--fill-color);\n",
              "    }\n",
              "    60% {\n",
              "      border-color: transparent;\n",
              "      border-right-color: var(--fill-color);\n",
              "    }\n",
              "    80% {\n",
              "      border-color: transparent;\n",
              "      border-right-color: var(--fill-color);\n",
              "      border-bottom-color: var(--fill-color);\n",
              "    }\n",
              "    90% {\n",
              "      border-color: transparent;\n",
              "      border-bottom-color: var(--fill-color);\n",
              "    }\n",
              "  }\n",
              "</style>\n",
              "\n",
              "  <script>\n",
              "    async function quickchart(key) {\n",
              "      const quickchartButtonEl =\n",
              "        document.querySelector('#' + key + ' button');\n",
              "      quickchartButtonEl.disabled = true;  // To prevent multiple clicks.\n",
              "      quickchartButtonEl.classList.add('colab-df-spinner');\n",
              "      try {\n",
              "        const charts = await google.colab.kernel.invokeFunction(\n",
              "            'suggestCharts', [key], {});\n",
              "      } catch (error) {\n",
              "        console.error('Error during call to suggestCharts:', error);\n",
              "      }\n",
              "      quickchartButtonEl.classList.remove('colab-df-spinner');\n",
              "      quickchartButtonEl.classList.add('colab-df-quickchart-complete');\n",
              "    }\n",
              "    (() => {\n",
              "      let quickchartButtonEl =\n",
              "        document.querySelector('#df-7a04e971-3584-4741-a50c-2832898f8aa7 button');\n",
              "      quickchartButtonEl.style.display =\n",
              "        google.colab.kernel.accessAllowed ? 'block' : 'none';\n",
              "    })();\n",
              "  </script>\n",
              "</div>\n",
              "\n",
              "    </div>\n",
              "  </div>\n"
            ],
            "application/vnd.google.colaboratory.intrinsic+json": {
              "type": "dataframe",
              "variable_name": "misclassified_df",
              "summary": "{\n  \"name\": \"misclassified_df\",\n  \"rows\": 10,\n  \"fields\": [\n    {\n      \"column\": \"Actual\",\n      \"properties\": {\n        \"dtype\": \"category\",\n        \"num_unique_values\": 4,\n        \"samples\": [\n          \"data and analytical skills\",\n          \"technical skills\",\n          \"business and management skills\"\n        ],\n        \"semantic_type\": \"\",\n        \"description\": \"\"\n      }\n    },\n    {\n      \"column\": \"Predicted\",\n      \"properties\": {\n        \"dtype\": \"string\",\n        \"num_unique_values\": 5,\n        \"samples\": [\n          \"technical skills\",\n          \"data and analytical skills\",\n          \"creative skills\"\n        ],\n        \"semantic_type\": \"\",\n        \"description\": \"\"\n      }\n    }\n  ]\n}"
            }
          },
          "metadata": {},
          "execution_count": 33
        }
      ]
    },
    {
      "cell_type": "code",
      "source": [
        "misclassified_counts = misclassified_df.groupby(\"Actual\").size().reset_index(name=\"Misclassified Count\")\n",
        "misclassified_counts"
      ],
      "metadata": {
        "colab": {
          "base_uri": "https://localhost:8080/",
          "height": 170
        },
        "id": "PRf3YQSZaIzu",
        "outputId": "51b85879-61f6-41df-fa3c-09027bb42f07"
      },
      "execution_count": 34,
      "outputs": [
        {
          "output_type": "execute_result",
          "data": {
            "text/plain": [
              "                           Actual  Misclassified Count\n",
              "0  business and management skills                    3\n",
              "1      data and analytical skills                    2\n",
              "2                     soft skills                    3\n",
              "3                technical skills                    2"
            ],
            "text/html": [
              "\n",
              "  <div id=\"df-dad5c1cb-b0a1-4c2e-ba07-39c8a0adc351\" class=\"colab-df-container\">\n",
              "    <div>\n",
              "<style scoped>\n",
              "    .dataframe tbody tr th:only-of-type {\n",
              "        vertical-align: middle;\n",
              "    }\n",
              "\n",
              "    .dataframe tbody tr th {\n",
              "        vertical-align: top;\n",
              "    }\n",
              "\n",
              "    .dataframe thead th {\n",
              "        text-align: right;\n",
              "    }\n",
              "</style>\n",
              "<table border=\"1\" class=\"dataframe\">\n",
              "  <thead>\n",
              "    <tr style=\"text-align: right;\">\n",
              "      <th></th>\n",
              "      <th>Actual</th>\n",
              "      <th>Misclassified Count</th>\n",
              "    </tr>\n",
              "  </thead>\n",
              "  <tbody>\n",
              "    <tr>\n",
              "      <th>0</th>\n",
              "      <td>business and management skills</td>\n",
              "      <td>3</td>\n",
              "    </tr>\n",
              "    <tr>\n",
              "      <th>1</th>\n",
              "      <td>data and analytical skills</td>\n",
              "      <td>2</td>\n",
              "    </tr>\n",
              "    <tr>\n",
              "      <th>2</th>\n",
              "      <td>soft skills</td>\n",
              "      <td>3</td>\n",
              "    </tr>\n",
              "    <tr>\n",
              "      <th>3</th>\n",
              "      <td>technical skills</td>\n",
              "      <td>2</td>\n",
              "    </tr>\n",
              "  </tbody>\n",
              "</table>\n",
              "</div>\n",
              "    <div class=\"colab-df-buttons\">\n",
              "\n",
              "  <div class=\"colab-df-container\">\n",
              "    <button class=\"colab-df-convert\" onclick=\"convertToInteractive('df-dad5c1cb-b0a1-4c2e-ba07-39c8a0adc351')\"\n",
              "            title=\"Convert this dataframe to an interactive table.\"\n",
              "            style=\"display:none;\">\n",
              "\n",
              "  <svg xmlns=\"http://www.w3.org/2000/svg\" height=\"24px\" viewBox=\"0 -960 960 960\">\n",
              "    <path d=\"M120-120v-720h720v720H120Zm60-500h600v-160H180v160Zm220 220h160v-160H400v160Zm0 220h160v-160H400v160ZM180-400h160v-160H180v160Zm440 0h160v-160H620v160ZM180-180h160v-160H180v160Zm440 0h160v-160H620v160Z\"/>\n",
              "  </svg>\n",
              "    </button>\n",
              "\n",
              "  <style>\n",
              "    .colab-df-container {\n",
              "      display:flex;\n",
              "      gap: 12px;\n",
              "    }\n",
              "\n",
              "    .colab-df-convert {\n",
              "      background-color: #E8F0FE;\n",
              "      border: none;\n",
              "      border-radius: 50%;\n",
              "      cursor: pointer;\n",
              "      display: none;\n",
              "      fill: #1967D2;\n",
              "      height: 32px;\n",
              "      padding: 0 0 0 0;\n",
              "      width: 32px;\n",
              "    }\n",
              "\n",
              "    .colab-df-convert:hover {\n",
              "      background-color: #E2EBFA;\n",
              "      box-shadow: 0px 1px 2px rgba(60, 64, 67, 0.3), 0px 1px 3px 1px rgba(60, 64, 67, 0.15);\n",
              "      fill: #174EA6;\n",
              "    }\n",
              "\n",
              "    .colab-df-buttons div {\n",
              "      margin-bottom: 4px;\n",
              "    }\n",
              "\n",
              "    [theme=dark] .colab-df-convert {\n",
              "      background-color: #3B4455;\n",
              "      fill: #D2E3FC;\n",
              "    }\n",
              "\n",
              "    [theme=dark] .colab-df-convert:hover {\n",
              "      background-color: #434B5C;\n",
              "      box-shadow: 0px 1px 3px 1px rgba(0, 0, 0, 0.15);\n",
              "      filter: drop-shadow(0px 1px 2px rgba(0, 0, 0, 0.3));\n",
              "      fill: #FFFFFF;\n",
              "    }\n",
              "  </style>\n",
              "\n",
              "    <script>\n",
              "      const buttonEl =\n",
              "        document.querySelector('#df-dad5c1cb-b0a1-4c2e-ba07-39c8a0adc351 button.colab-df-convert');\n",
              "      buttonEl.style.display =\n",
              "        google.colab.kernel.accessAllowed ? 'block' : 'none';\n",
              "\n",
              "      async function convertToInteractive(key) {\n",
              "        const element = document.querySelector('#df-dad5c1cb-b0a1-4c2e-ba07-39c8a0adc351');\n",
              "        const dataTable =\n",
              "          await google.colab.kernel.invokeFunction('convertToInteractive',\n",
              "                                                    [key], {});\n",
              "        if (!dataTable) return;\n",
              "\n",
              "        const docLinkHtml = 'Like what you see? Visit the ' +\n",
              "          '<a target=\"_blank\" href=https://colab.research.google.com/notebooks/data_table.ipynb>data table notebook</a>'\n",
              "          + ' to learn more about interactive tables.';\n",
              "        element.innerHTML = '';\n",
              "        dataTable['output_type'] = 'display_data';\n",
              "        await google.colab.output.renderOutput(dataTable, element);\n",
              "        const docLink = document.createElement('div');\n",
              "        docLink.innerHTML = docLinkHtml;\n",
              "        element.appendChild(docLink);\n",
              "      }\n",
              "    </script>\n",
              "  </div>\n",
              "\n",
              "\n",
              "<div id=\"df-8cf5d351-376e-4da1-bc5d-0b53b2a6af2c\">\n",
              "  <button class=\"colab-df-quickchart\" onclick=\"quickchart('df-8cf5d351-376e-4da1-bc5d-0b53b2a6af2c')\"\n",
              "            title=\"Suggest charts\"\n",
              "            style=\"display:none;\">\n",
              "\n",
              "<svg xmlns=\"http://www.w3.org/2000/svg\" height=\"24px\"viewBox=\"0 0 24 24\"\n",
              "     width=\"24px\">\n",
              "    <g>\n",
              "        <path d=\"M19 3H5c-1.1 0-2 .9-2 2v14c0 1.1.9 2 2 2h14c1.1 0 2-.9 2-2V5c0-1.1-.9-2-2-2zM9 17H7v-7h2v7zm4 0h-2V7h2v10zm4 0h-2v-4h2v4z\"/>\n",
              "    </g>\n",
              "</svg>\n",
              "  </button>\n",
              "\n",
              "<style>\n",
              "  .colab-df-quickchart {\n",
              "      --bg-color: #E8F0FE;\n",
              "      --fill-color: #1967D2;\n",
              "      --hover-bg-color: #E2EBFA;\n",
              "      --hover-fill-color: #174EA6;\n",
              "      --disabled-fill-color: #AAA;\n",
              "      --disabled-bg-color: #DDD;\n",
              "  }\n",
              "\n",
              "  [theme=dark] .colab-df-quickchart {\n",
              "      --bg-color: #3B4455;\n",
              "      --fill-color: #D2E3FC;\n",
              "      --hover-bg-color: #434B5C;\n",
              "      --hover-fill-color: #FFFFFF;\n",
              "      --disabled-bg-color: #3B4455;\n",
              "      --disabled-fill-color: #666;\n",
              "  }\n",
              "\n",
              "  .colab-df-quickchart {\n",
              "    background-color: var(--bg-color);\n",
              "    border: none;\n",
              "    border-radius: 50%;\n",
              "    cursor: pointer;\n",
              "    display: none;\n",
              "    fill: var(--fill-color);\n",
              "    height: 32px;\n",
              "    padding: 0;\n",
              "    width: 32px;\n",
              "  }\n",
              "\n",
              "  .colab-df-quickchart:hover {\n",
              "    background-color: var(--hover-bg-color);\n",
              "    box-shadow: 0 1px 2px rgba(60, 64, 67, 0.3), 0 1px 3px 1px rgba(60, 64, 67, 0.15);\n",
              "    fill: var(--button-hover-fill-color);\n",
              "  }\n",
              "\n",
              "  .colab-df-quickchart-complete:disabled,\n",
              "  .colab-df-quickchart-complete:disabled:hover {\n",
              "    background-color: var(--disabled-bg-color);\n",
              "    fill: var(--disabled-fill-color);\n",
              "    box-shadow: none;\n",
              "  }\n",
              "\n",
              "  .colab-df-spinner {\n",
              "    border: 2px solid var(--fill-color);\n",
              "    border-color: transparent;\n",
              "    border-bottom-color: var(--fill-color);\n",
              "    animation:\n",
              "      spin 1s steps(1) infinite;\n",
              "  }\n",
              "\n",
              "  @keyframes spin {\n",
              "    0% {\n",
              "      border-color: transparent;\n",
              "      border-bottom-color: var(--fill-color);\n",
              "      border-left-color: var(--fill-color);\n",
              "    }\n",
              "    20% {\n",
              "      border-color: transparent;\n",
              "      border-left-color: var(--fill-color);\n",
              "      border-top-color: var(--fill-color);\n",
              "    }\n",
              "    30% {\n",
              "      border-color: transparent;\n",
              "      border-left-color: var(--fill-color);\n",
              "      border-top-color: var(--fill-color);\n",
              "      border-right-color: var(--fill-color);\n",
              "    }\n",
              "    40% {\n",
              "      border-color: transparent;\n",
              "      border-right-color: var(--fill-color);\n",
              "      border-top-color: var(--fill-color);\n",
              "    }\n",
              "    60% {\n",
              "      border-color: transparent;\n",
              "      border-right-color: var(--fill-color);\n",
              "    }\n",
              "    80% {\n",
              "      border-color: transparent;\n",
              "      border-right-color: var(--fill-color);\n",
              "      border-bottom-color: var(--fill-color);\n",
              "    }\n",
              "    90% {\n",
              "      border-color: transparent;\n",
              "      border-bottom-color: var(--fill-color);\n",
              "    }\n",
              "  }\n",
              "</style>\n",
              "\n",
              "  <script>\n",
              "    async function quickchart(key) {\n",
              "      const quickchartButtonEl =\n",
              "        document.querySelector('#' + key + ' button');\n",
              "      quickchartButtonEl.disabled = true;  // To prevent multiple clicks.\n",
              "      quickchartButtonEl.classList.add('colab-df-spinner');\n",
              "      try {\n",
              "        const charts = await google.colab.kernel.invokeFunction(\n",
              "            'suggestCharts', [key], {});\n",
              "      } catch (error) {\n",
              "        console.error('Error during call to suggestCharts:', error);\n",
              "      }\n",
              "      quickchartButtonEl.classList.remove('colab-df-spinner');\n",
              "      quickchartButtonEl.classList.add('colab-df-quickchart-complete');\n",
              "    }\n",
              "    (() => {\n",
              "      let quickchartButtonEl =\n",
              "        document.querySelector('#df-8cf5d351-376e-4da1-bc5d-0b53b2a6af2c button');\n",
              "      quickchartButtonEl.style.display =\n",
              "        google.colab.kernel.accessAllowed ? 'block' : 'none';\n",
              "    })();\n",
              "  </script>\n",
              "</div>\n",
              "\n",
              "  <div id=\"id_badb35f6-9a01-447b-a39c-8f25c5e4455d\">\n",
              "    <style>\n",
              "      .colab-df-generate {\n",
              "        background-color: #E8F0FE;\n",
              "        border: none;\n",
              "        border-radius: 50%;\n",
              "        cursor: pointer;\n",
              "        display: none;\n",
              "        fill: #1967D2;\n",
              "        height: 32px;\n",
              "        padding: 0 0 0 0;\n",
              "        width: 32px;\n",
              "      }\n",
              "\n",
              "      .colab-df-generate:hover {\n",
              "        background-color: #E2EBFA;\n",
              "        box-shadow: 0px 1px 2px rgba(60, 64, 67, 0.3), 0px 1px 3px 1px rgba(60, 64, 67, 0.15);\n",
              "        fill: #174EA6;\n",
              "      }\n",
              "\n",
              "      [theme=dark] .colab-df-generate {\n",
              "        background-color: #3B4455;\n",
              "        fill: #D2E3FC;\n",
              "      }\n",
              "\n",
              "      [theme=dark] .colab-df-generate:hover {\n",
              "        background-color: #434B5C;\n",
              "        box-shadow: 0px 1px 3px 1px rgba(0, 0, 0, 0.15);\n",
              "        filter: drop-shadow(0px 1px 2px rgba(0, 0, 0, 0.3));\n",
              "        fill: #FFFFFF;\n",
              "      }\n",
              "    </style>\n",
              "    <button class=\"colab-df-generate\" onclick=\"generateWithVariable('misclassified_counts')\"\n",
              "            title=\"Generate code using this dataframe.\"\n",
              "            style=\"display:none;\">\n",
              "\n",
              "  <svg xmlns=\"http://www.w3.org/2000/svg\" height=\"24px\"viewBox=\"0 0 24 24\"\n",
              "       width=\"24px\">\n",
              "    <path d=\"M7,19H8.4L18.45,9,17,7.55,7,17.6ZM5,21V16.75L18.45,3.32a2,2,0,0,1,2.83,0l1.4,1.43a1.91,1.91,0,0,1,.58,1.4,1.91,1.91,0,0,1-.58,1.4L9.25,21ZM18.45,9,17,7.55Zm-12,3A5.31,5.31,0,0,0,4.9,8.1,5.31,5.31,0,0,0,1,6.5,5.31,5.31,0,0,0,4.9,4.9,5.31,5.31,0,0,0,6.5,1,5.31,5.31,0,0,0,8.1,4.9,5.31,5.31,0,0,0,12,6.5,5.46,5.46,0,0,0,6.5,12Z\"/>\n",
              "  </svg>\n",
              "    </button>\n",
              "    <script>\n",
              "      (() => {\n",
              "      const buttonEl =\n",
              "        document.querySelector('#id_badb35f6-9a01-447b-a39c-8f25c5e4455d button.colab-df-generate');\n",
              "      buttonEl.style.display =\n",
              "        google.colab.kernel.accessAllowed ? 'block' : 'none';\n",
              "\n",
              "      buttonEl.onclick = () => {\n",
              "        google.colab.notebook.generateWithVariable('misclassified_counts');\n",
              "      }\n",
              "      })();\n",
              "    </script>\n",
              "  </div>\n",
              "\n",
              "    </div>\n",
              "  </div>\n"
            ],
            "application/vnd.google.colaboratory.intrinsic+json": {
              "type": "dataframe",
              "variable_name": "misclassified_counts",
              "summary": "{\n  \"name\": \"misclassified_counts\",\n  \"rows\": 4,\n  \"fields\": [\n    {\n      \"column\": \"Actual\",\n      \"properties\": {\n        \"dtype\": \"string\",\n        \"num_unique_values\": 4,\n        \"samples\": [\n          \"data and analytical skills\",\n          \"technical skills\",\n          \"business and management skills\"\n        ],\n        \"semantic_type\": \"\",\n        \"description\": \"\"\n      }\n    },\n    {\n      \"column\": \"Misclassified Count\",\n      \"properties\": {\n        \"dtype\": \"number\",\n        \"std\": 0,\n        \"min\": 2,\n        \"max\": 3,\n        \"num_unique_values\": 2,\n        \"samples\": [\n          2,\n          3\n        ],\n        \"semantic_type\": \"\",\n        \"description\": \"\"\n      }\n    }\n  ]\n}"
            }
          },
          "metadata": {},
          "execution_count": 34
        }
      ]
    },
    {
      "cell_type": "code",
      "source": [
        "import seaborn as sns\n",
        "import matplotlib.pyplot as plt\n",
        "\n",
        "plt.figure(figsize=(12, 6))\n",
        "sns.countplot(y=misclassified_df[\"Actual\"], order=misclassified_df[\"Actual\"].value_counts().index, palette=\"coolwarm\")\n",
        "plt.title(\"Misclassifications by Category\")\n",
        "plt.xlabel(\"Count\")\n",
        "plt.ylabel(\"Actual Category\")\n",
        "plt.show()"
      ],
      "metadata": {
        "colab": {
          "base_uri": "https://localhost:8080/",
          "height": 645
        },
        "id": "XAJ3xwGTaPWX",
        "outputId": "41962a6a-1d0f-4254-9fc8-b4b844a20b98"
      },
      "execution_count": 35,
      "outputs": [
        {
          "output_type": "stream",
          "name": "stderr",
          "text": [
            "<ipython-input-35-32c534330455>:5: FutureWarning: \n",
            "\n",
            "Passing `palette` without assigning `hue` is deprecated and will be removed in v0.14.0. Assign the `y` variable to `hue` and set `legend=False` for the same effect.\n",
            "\n",
            "  sns.countplot(y=misclassified_df[\"Actual\"], order=misclassified_df[\"Actual\"].value_counts().index, palette=\"coolwarm\")\n"
          ]
        },
        {
          "output_type": "display_data",
          "data": {
            "text/plain": [
              "<Figure size 1200x600 with 1 Axes>"
            ],
            "image/png": "[encoded data removed]"
          },
          "metadata": {}
        }
      ]
    },
    {
      "cell_type": "markdown",
      "source": [
        "### Trying to Optimize SVM by **Hyperparameter Tuning**"
      ],
      "metadata": {
        "id": "yOp_y5aMcC8M"
      }
    },
    {
      "cell_type": "code",
      "source": [
        "from sklearn.model_selection import GridSearchCV\n",
        "from sklearn.svm import SVC\n",
        "\n",
        "param_grid = {\n",
        "    'C': [0.1, 1, 10, 100],\n",
        "    'kernel': ['linear', 'rbf', 'poly', 'sigmoid'],\n",
        "    'gamma': ['scale', 'auto']\n",
        "}\n",
        "\n",
        "svm_model = SVC()\n",
        "grid_search = GridSearchCV(svm_model, param_grid, cv=5, scoring='accuracy', n_jobs=-1)\n",
        "grid_search.fit(X_train, y_train)\n",
        "\n",
        "print(\"Best Parameters:\", grid_search.best_params_)\n",
        "print(\"Best Accuracy:\", grid_search.best_score_ * 100)\n"
      ],
      "metadata": {
        "colab": {
          "base_uri": "https://localhost:8080/"
        },
        "id": "lCl6JkH5aUxz",
        "outputId": "b5a9d4a7-456e-4323-9b1b-305e67d5249a"
      },
      "execution_count": 36,
      "outputs": [
        {
          "output_type": "stream",
          "name": "stdout",
          "text": [
            "Best Parameters: {'C': 10, 'gamma': 'scale', 'kernel': 'sigmoid'}\n",
            "Best Accuracy: 96.2342066146414\n"
          ]
        }
      ]
    },
    {
      "cell_type": "markdown",
      "source": [
        "### **Classification Report** after Tuning"
      ],
      "metadata": {
        "id": "RL7_I8o-c_CT"
      }
    },
    {
      "cell_type": "code",
      "source": [
        "from sklearn.metrics import classification_report, confusion_matrix\n",
        "import seaborn as sns\n",
        "import matplotlib.pyplot as plt\n",
        "\n",
        "print(classification_report(y_test, y_pred_svm))"
      ],
      "metadata": {
        "colab": {
          "base_uri": "https://localhost:8080/"
        },
        "id": "EDuOcz7Wc-su",
        "outputId": "eba63e1a-6969-40b2-dc2f-886cc6640347"
      },
      "execution_count": 37,
      "outputs": [
        {
          "output_type": "stream",
          "name": "stdout",
          "text": [
            "                                precision    recall  f1-score   support\n",
            "\n",
            "business and management skills       0.96      0.94      0.95        52\n",
            "               creative skills       0.98      1.00      0.99        43\n",
            "    data and analytical skills       0.96      0.96      0.96        50\n",
            "                   soft skills       0.95      0.95      0.95        63\n",
            "              technical skills       0.96      0.96      0.96        51\n",
            "\n",
            "                      accuracy                           0.96       259\n",
            "                     macro avg       0.96      0.96      0.96       259\n",
            "                  weighted avg       0.96      0.96      0.96       259\n",
            "\n"
          ]
        }
      ]
    },
    {
      "cell_type": "markdown",
      "source": [
        "### Generating **confusion matrix**"
      ],
      "metadata": {
        "id": "egjDGyB1dS1I"
      }
    },
    {
      "cell_type": "code",
      "source": [
        "from sklearn.preprocessing import LabelEncoder\n",
        "\n",
        "label_encoder = LabelEncoder()\n",
        "y_train_encoded = label_encoder.fit_transform(y_train)\n",
        "\n",
        "cm = confusion_matrix(y_test, y_pred_svm)\n",
        "\n",
        "\n",
        "plt.figure(figsize=(10, 8))\n",
        "sns.heatmap(cm, annot=True, fmt=\"d\", cmap=\"Purples\", xticklabels=label_encoder.classes_, yticklabels=label_encoder.classes_)\n",
        "plt.xlabel(\"Predicted Label\")\n",
        "plt.ylabel(\"True Label\")\n",
        "plt.title(\"Confusion Matrix\")\n",
        "plt.show()\n"
      ],
      "metadata": {
        "colab": {
          "base_uri": "https://localhost:8080/",
          "height": 930
        },
        "id": "kFhOY8vNcMo8",
        "outputId": "934fbd1f-6539-4a05-eeb3-2d954050c8c5"
      },
      "execution_count": 38,
      "outputs": [
        {
          "output_type": "display_data",
          "data": {
            "text/plain": [
              "<Figure size 1000x800 with 2 Axes>"
            ],
            "image/png": "[encoded data removed]"
          },
          "metadata": {}
        }
      ]
    },
    {
      "cell_type": "markdown",
      "source": [
        "### **Trying to Categorize Skills Dynamically**"
      ],
      "metadata": {
        "id": "cJsaBpHmfc3f"
      }
    },
    {
      "cell_type": "code",
      "source": [
        "predefined_categories = list(df['category'].unique())\n",
        "predefined_categories\n",
        "skills = df['skill'].unique()"
      ],
      "metadata": {
        "id": "Q9RTYRYqdWZf"
      },
      "execution_count": 39,
      "outputs": []
    },
    {
      "cell_type": "code",
      "source": [
        "X_train = df['skill']\n",
        "y_train = df['category']\n",
        "\n",
        "vectorizer = TfidfVectorizer()\n",
        "X_train_vectorized = vectorizer.fit_transform(X_train)\n",
        "\n",
        "svm_model = SVC(probability=True, kernel='linear', random_state=42)\n",
        "svm_model.fit(X_train_vectorized, y_train)"
      ],
      "metadata": {
        "colab": {
          "base_uri": "https://localhost:8080/",
          "height": 78
        },
        "id": "WW7_IA6SQnCy",
        "outputId": "e6009351-c660-413d-b33b-ec439a2a42ac"
      },
      "execution_count": 40,
      "outputs": [
        {
          "output_type": "execute_result",
          "data": {
            "text/plain": [
              "SVC(kernel='linear', probability=True, random_state=42)"
            ],
            "text/html": [
              "<style>#sk-container-id-2 {\n",
              "  /* Definition of color scheme common for light and dark mode */\n",
              "  --sklearn-color-text: #000;\n",
              "  --sklearn-color-text-muted: #666;\n",
              "  --sklearn-color-line: gray;\n",
              "  /* Definition of color scheme for unfitted estimators */\n",
              "  --sklearn-color-unfitted-level-0: #fff5e6;\n",
              "  --sklearn-color-unfitted-level-1: #f6e4d2;\n",
              "  --sklearn-color-unfitted-level-2: #ffe0b3;\n",
              "  --sklearn-color-unfitted-level-3: chocolate;\n",
              "  /* Definition of color scheme for fitted estimators */\n",
              "  --sklearn-color-fitted-level-0: #f0f8ff;\n",
              "  --sklearn-color-fitted-level-1: #d4ebff;\n",
              "  --sklearn-color-fitted-level-2: #b3dbfd;\n",
              "  --sklearn-color-fitted-level-3: cornflowerblue;\n",
              "\n",
              "  /* Specific color for light theme */\n",
              "  --sklearn-color-text-on-default-background: var(--sg-text-color, var(--theme-code-foreground, var(--jp-content-font-color1, black)));\n",
              "  --sklearn-color-background: var(--sg-background-color, var(--theme-background, var(--jp-layout-color0, white)));\n",
              "  --sklearn-color-border-box: var(--sg-text-color, var(--theme-code-foreground, var(--jp-content-font-color1, black)));\n",
              "  --sklearn-color-icon: #696969;\n",
              "\n",
              "  @media (prefers-color-scheme: dark) {\n",
              "    /* Redefinition of color scheme for dark theme */\n",
              "    --sklearn-color-text-on-default-background: var(--sg-text-color, var(--theme-code-foreground, var(--jp-content-font-color1, white)));\n",
              "    --sklearn-color-background: var(--sg-background-color, var(--theme-background, var(--jp-layout-color0, #111)));\n",
              "    --sklearn-color-border-box: var(--sg-text-color, var(--theme-code-foreground, var(--jp-content-font-color1, white)));\n",
              "    --sklearn-color-icon: #878787;\n",
              "  }\n",
              "}\n",
              "\n",
              "#sk-container-id-2 {\n",
              "  color: var(--sklearn-color-text);\n",
              "}\n",
              "\n",
              "#sk-container-id-2 pre {\n",
              "  padding: 0;\n",
              "}\n",
              "\n",
              "#sk-container-id-2 input.sk-hidden--visually {\n",
              "  border: 0;\n",
              "  clip: rect(1px 1px 1px 1px);\n",
              "  clip: rect(1px, 1px, 1px, 1px);\n",
              "  height: 1px;\n",
              "  margin: -1px;\n",
              "  overflow: hidden;\n",
              "  padding: 0;\n",
              "  position: absolute;\n",
              "  width: 1px;\n",
              "}\n",
              "\n",
              "#sk-container-id-2 div.sk-dashed-wrapped {\n",
              "  border: 1px dashed var(--sklearn-color-line);\n",
              "  margin: 0 0.4em 0.5em 0.4em;\n",
              "  box-sizing: border-box;\n",
              "  padding-bottom: 0.4em;\n",
              "  background-color: var(--sklearn-color-background);\n",
              "}\n",
              "\n",
              "#sk-container-id-2 div.sk-container {\n",
              "  /* jupyter's `normalize.less` sets `[hidden] { display: none; }`\n",
              "     but bootstrap.min.css set `[hidden] { display: none !important; }`\n",
              "     so we also need the `!important` here to be able to override the\n",
              "     default hidden behavior on the sphinx rendered scikit-learn.org.\n",
              "     See: https://github.com/scikit-learn/scikit-learn/issues/21755 */\n",
              "  display: inline-block !important;\n",
              "  position: relative;\n",
              "}\n",
              "\n",
              "#sk-container-id-2 div.sk-text-repr-fallback {\n",
              "  display: none;\n",
              "}\n",
              "\n",
              "div.sk-parallel-item,\n",
              "div.sk-serial,\n",
              "div.sk-item {\n",
              "  /* draw centered vertical line to link estimators */\n",
              "  background-image: linear-gradient(var(--sklearn-color-text-on-default-background), var(--sklearn-color-text-on-default-background));\n",
              "  background-size: 2px 100%;\n",
              "  background-repeat: no-repeat;\n",
              "  background-position: center center;\n",
              "}\n",
              "\n",
              "/* Parallel-specific style estimator block */\n",
              "\n",
              "#sk-container-id-2 div.sk-parallel-item::after {\n",
              "  content: \"\";\n",
              "  width: 100%;\n",
              "  border-bottom: 2px solid var(--sklearn-color-text-on-default-background);\n",
              "  flex-grow: 1;\n",
              "}\n",
              "\n",
              "#sk-container-id-2 div.sk-parallel {\n",
              "  display: flex;\n",
              "  align-items: stretch;\n",
              "  justify-content: center;\n",
              "  background-color: var(--sklearn-color-background);\n",
              "  position: relative;\n",
              "}\n",
              "\n",
              "#sk-container-id-2 div.sk-parallel-item {\n",
              "  display: flex;\n",
              "  flex-direction: column;\n",
              "}\n",
              "\n",
              "#sk-container-id-2 div.sk-parallel-item:first-child::after {\n",
              "  align-self: flex-end;\n",
              "  width: 50%;\n",
              "}\n",
              "\n",
              "#sk-container-id-2 div.sk-parallel-item:last-child::after {\n",
              "  align-self: flex-start;\n",
              "  width: 50%;\n",
              "}\n",
              "\n",
              "#sk-container-id-2 div.sk-parallel-item:only-child::after {\n",
              "  width: 0;\n",
              "}\n",
              "\n",
              "/* Serial-specific style estimator block */\n",
              "\n",
              "#sk-container-id-2 div.sk-serial {\n",
              "  display: flex;\n",
              "  flex-direction: column;\n",
              "  align-items: center;\n",
              "  background-color: var(--sklearn-color-background);\n",
              "  padding-right: 1em;\n",
              "  padding-left: 1em;\n",
              "}\n",
              "\n",
              "\n",
              "/* Toggleable style: style used for estimator/Pipeline/ColumnTransformer box that is\n",
              "clickable and can be expanded/collapsed.\n",
              "- Pipeline and ColumnTransformer use this feature and define the default style\n",
              "- Estimators will overwrite some part of the style using the `sk-estimator` class\n",
              "*/\n",
              "\n",
              "/* Pipeline and ColumnTransformer style (default) */\n",
              "\n",
              "#sk-container-id-2 div.sk-toggleable {\n",
              "  /* Default theme specific background. It is overwritten whether we have a\n",
              "  specific estimator or a Pipeline/ColumnTransformer */\n",
              "  background-color: var(--sklearn-color-background);\n",
              "}\n",
              "\n",
              "/* Toggleable label */\n",
              "#sk-container-id-2 label.sk-toggleable__label {\n",
              "  cursor: pointer;\n",
              "  display: flex;\n",
              "  width: 100%;\n",
              "  margin-bottom: 0;\n",
              "  padding: 0.5em;\n",
              "  box-sizing: border-box;\n",
              "  text-align: center;\n",
              "  align-items: start;\n",
              "  justify-content: space-between;\n",
              "  gap: 0.5em;\n",
              "}\n",
              "\n",
              "#sk-container-id-2 label.sk-toggleable__label .caption {\n",
              "  font-size: 0.6rem;\n",
              "  font-weight: lighter;\n",
              "  color: var(--sklearn-color-text-muted);\n",
              "}\n",
              "\n",
              "#sk-container-id-2 label.sk-toggleable__label-arrow:before {\n",
              "  /* Arrow on the left of the label */\n",
              "  content: \"▸\";\n",
              "  float: left;\n",
              "  margin-right: 0.25em;\n",
              "  color: var(--sklearn-color-icon);\n",
              "}\n",
              "\n",
              "#sk-container-id-2 label.sk-toggleable__label-arrow:hover:before {\n",
              "  color: var(--sklearn-color-text);\n",
              "}\n",
              "\n",
              "/* Toggleable content - dropdown */\n",
              "\n",
              "#sk-container-id-2 div.sk-toggleable__content {\n",
              "  max-height: 0;\n",
              "  max-width: 0;\n",
              "  overflow: hidden;\n",
              "  text-align: left;\n",
              "  /* unfitted */\n",
              "  background-color: var(--sklearn-color-unfitted-level-0);\n",
              "}\n",
              "\n",
              "#sk-container-id-2 div.sk-toggleable__content.fitted {\n",
              "  /* fitted */\n",
              "  background-color: var(--sklearn-color-fitted-level-0);\n",
              "}\n",
              "\n",
              "#sk-container-id-2 div.sk-toggleable__content pre {\n",
              "  margin: 0.2em;\n",
              "  border-radius: 0.25em;\n",
              "  color: var(--sklearn-color-text);\n",
              "  /* unfitted */\n",
              "  background-color: var(--sklearn-color-unfitted-level-0);\n",
              "}\n",
              "\n",
              "#sk-container-id-2 div.sk-toggleable__content.fitted pre {\n",
              "  /* unfitted */\n",
              "  background-color: var(--sklearn-color-fitted-level-0);\n",
              "}\n",
              "\n",
              "#sk-container-id-2 input.sk-toggleable__control:checked~div.sk-toggleable__content {\n",
              "  /* Expand drop-down */\n",
              "  max-height: 200px;\n",
              "  max-width: 100%;\n",
              "  overflow: auto;\n",
              "}\n",
              "\n",
              "#sk-container-id-2 input.sk-toggleable__control:checked~label.sk-toggleable__label-arrow:before {\n",
              "  content: \"▾\";\n",
              "}\n",
              "\n",
              "/* Pipeline/ColumnTransformer-specific style */\n",
              "\n",
              "#sk-container-id-2 div.sk-label input.sk-toggleable__control:checked~label.sk-toggleable__label {\n",
              "  color: var(--sklearn-color-text);\n",
              "  background-color: var(--sklearn-color-unfitted-level-2);\n",
              "}\n",
              "\n",
              "#sk-container-id-2 div.sk-label.fitted input.sk-toggleable__control:checked~label.sk-toggleable__label {\n",
              "  background-color: var(--sklearn-color-fitted-level-2);\n",
              "}\n",
              "\n",
              "/* Estimator-specific style */\n",
              "\n",
              "/* Colorize estimator box */\n",
              "#sk-container-id-2 div.sk-estimator input.sk-toggleable__control:checked~label.sk-toggleable__label {\n",
              "  /* unfitted */\n",
              "  background-color: var(--sklearn-color-unfitted-level-2);\n",
              "}\n",
              "\n",
              "#sk-container-id-2 div.sk-estimator.fitted input.sk-toggleable__control:checked~label.sk-toggleable__label {\n",
              "  /* fitted */\n",
              "  background-color: var(--sklearn-color-fitted-level-2);\n",
              "}\n",
              "\n",
              "#sk-container-id-2 div.sk-label label.sk-toggleable__label,\n",
              "#sk-container-id-2 div.sk-label label {\n",
              "  /* The background is the default theme color */\n",
              "  color: var(--sklearn-color-text-on-default-background);\n",
              "}\n",
              "\n",
              "/* On hover, darken the color of the background */\n",
              "#sk-container-id-2 div.sk-label:hover label.sk-toggleable__label {\n",
              "  color: var(--sklearn-color-text);\n",
              "  background-color: var(--sklearn-color-unfitted-level-2);\n",
              "}\n",
              "\n",
              "/* Label box, darken color on hover, fitted */\n",
              "#sk-container-id-2 div.sk-label.fitted:hover label.sk-toggleable__label.fitted {\n",
              "  color: var(--sklearn-color-text);\n",
              "  background-color: var(--sklearn-color-fitted-level-2);\n",
              "}\n",
              "\n",
              "/* Estimator label */\n",
              "\n",
              "#sk-container-id-2 div.sk-label label {\n",
              "  font-family: monospace;\n",
              "  font-weight: bold;\n",
              "  display: inline-block;\n",
              "  line-height: 1.2em;\n",
              "}\n",
              "\n",
              "#sk-container-id-2 div.sk-label-container {\n",
              "  text-align: center;\n",
              "}\n",
              "\n",
              "/* Estimator-specific */\n",
              "#sk-container-id-2 div.sk-estimator {\n",
              "  font-family: monospace;\n",
              "  border: 1px dotted var(--sklearn-color-border-box);\n",
              "  border-radius: 0.25em;\n",
              "  box-sizing: border-box;\n",
              "  margin-bottom: 0.5em;\n",
              "  /* unfitted */\n",
              "  background-color: var(--sklearn-color-unfitted-level-0);\n",
              "}\n",
              "\n",
              "#sk-container-id-2 div.sk-estimator.fitted {\n",
              "  /* fitted */\n",
              "  background-color: var(--sklearn-color-fitted-level-0);\n",
              "}\n",
              "\n",
              "/* on hover */\n",
              "#sk-container-id-2 div.sk-estimator:hover {\n",
              "  /* unfitted */\n",
              "  background-color: var(--sklearn-color-unfitted-level-2);\n",
              "}\n",
              "\n",
              "#sk-container-id-2 div.sk-estimator.fitted:hover {\n",
              "  /* fitted */\n",
              "  background-color: var(--sklearn-color-fitted-level-2);\n",
              "}\n",
              "\n",
              "/* Specification for estimator info (e.g. \"i\" and \"?\") */\n",
              "\n",
              "/* Common style for \"i\" and \"?\" */\n",
              "\n",
              ".sk-estimator-doc-link,\n",
              "a:link.sk-estimator-doc-link,\n",
              "a:visited.sk-estimator-doc-link {\n",
              "  float: right;\n",
              "  font-size: smaller;\n",
              "  line-height: 1em;\n",
              "  font-family: monospace;\n",
              "  background-color: var(--sklearn-color-background);\n",
              "  border-radius: 1em;\n",
              "  height: 1em;\n",
              "  width: 1em;\n",
              "  text-decoration: none !important;\n",
              "  margin-left: 0.5em;\n",
              "  text-align: center;\n",
              "  /* unfitted */\n",
              "  border: var(--sklearn-color-unfitted-level-1) 1pt solid;\n",
              "  color: var(--sklearn-color-unfitted-level-1);\n",
              "}\n",
              "\n",
              ".sk-estimator-doc-link.fitted,\n",
              "a:link.sk-estimator-doc-link.fitted,\n",
              "a:visited.sk-estimator-doc-link.fitted {\n",
              "  /* fitted */\n",
              "  border: var(--sklearn-color-fitted-level-1) 1pt solid;\n",
              "  color: var(--sklearn-color-fitted-level-1);\n",
              "}\n",
              "\n",
              "/* On hover */\n",
              "div.sk-estimator:hover .sk-estimator-doc-link:hover,\n",
              ".sk-estimator-doc-link:hover,\n",
              "div.sk-label-container:hover .sk-estimator-doc-link:hover,\n",
              ".sk-estimator-doc-link:hover {\n",
              "  /* unfitted */\n",
              "  background-color: var(--sklearn-color-unfitted-level-3);\n",
              "  color: var(--sklearn-color-background);\n",
              "  text-decoration: none;\n",
              "}\n",
              "\n",
              "div.sk-estimator.fitted:hover .sk-estimator-doc-link.fitted:hover,\n",
              ".sk-estimator-doc-link.fitted:hover,\n",
              "div.sk-label-container:hover .sk-estimator-doc-link.fitted:hover,\n",
              ".sk-estimator-doc-link.fitted:hover {\n",
              "  /* fitted */\n",
              "  background-color: var(--sklearn-color-fitted-level-3);\n",
              "  color: var(--sklearn-color-background);\n",
              "  text-decoration: none;\n",
              "}\n",
              "\n",
              "/* Span, style for the box shown on hovering the info icon */\n",
              ".sk-estimator-doc-link span {\n",
              "  display: none;\n",
              "  z-index: 9999;\n",
              "  position: relative;\n",
              "  font-weight: normal;\n",
              "  right: .2ex;\n",
              "  padding: .5ex;\n",
              "  margin: .5ex;\n",
              "  width: min-content;\n",
              "  min-width: 20ex;\n",
              "  max-width: 50ex;\n",
              "  color: var(--sklearn-color-text);\n",
              "  box-shadow: 2pt 2pt 4pt #999;\n",
              "  /* unfitted */\n",
              "  background: var(--sklearn-color-unfitted-level-0);\n",
              "  border: .5pt solid var(--sklearn-color-unfitted-level-3);\n",
              "}\n",
              "\n",
              ".sk-estimator-doc-link.fitted span {\n",
              "  /* fitted */\n",
              "  background: var(--sklearn-color-fitted-level-0);\n",
              "  border: var(--sklearn-color-fitted-level-3);\n",
              "}\n",
              "\n",
              ".sk-estimator-doc-link:hover span {\n",
              "  display: block;\n",
              "}\n",
              "\n",
              "/* \"?\"-specific style due to the `<a>` HTML tag */\n",
              "\n",
              "#sk-container-id-2 a.estimator_doc_link {\n",
              "  float: right;\n",
              "  font-size: 1rem;\n",
              "  line-height: 1em;\n",
              "  font-family: monospace;\n",
              "  background-color: var(--sklearn-color-background);\n",
              "  border-radius: 1rem;\n",
              "  height: 1rem;\n",
              "  width: 1rem;\n",
              "  text-decoration: none;\n",
              "  /* unfitted */\n",
              "  color: var(--sklearn-color-unfitted-level-1);\n",
              "  border: var(--sklearn-color-unfitted-level-1) 1pt solid;\n",
              "}\n",
              "\n",
              "#sk-container-id-2 a.estimator_doc_link.fitted {\n",
              "  /* fitted */\n",
              "  border: var(--sklearn-color-fitted-level-1) 1pt solid;\n",
              "  color: var(--sklearn-color-fitted-level-1);\n",
              "}\n",
              "\n",
              "/* On hover */\n",
              "#sk-container-id-2 a.estimator_doc_link:hover {\n",
              "  /* unfitted */\n",
              "  background-color: var(--sklearn-color-unfitted-level-3);\n",
              "  color: var(--sklearn-color-background);\n",
              "  text-decoration: none;\n",
              "}\n",
              "\n",
              "#sk-container-id-2 a.estimator_doc_link.fitted:hover {\n",
              "  /* fitted */\n",
              "  background-color: var(--sklearn-color-fitted-level-3);\n",
              "}\n",
              "</style><div id=\"sk-container-id-2\" class=\"sk-top-container\"><div class=\"sk-text-repr-fallback\"><pre>SVC(kernel=&#x27;linear&#x27;, probability=True, random_state=42)</pre><b>In a Jupyter environment, please rerun this cell to show the HTML representation or trust the notebook. <br />On GitHub, the HTML representation is unable to render, please try loading this page with nbviewer.org.</b></div><div class=\"sk-container\" hidden><div class=\"sk-item\"><div class=\"sk-estimator fitted sk-toggleable\"><input class=\"sk-toggleable__control sk-hidden--visually\" id=\"sk-estimator-id-2\" type=\"checkbox\" checked><label for=\"sk-estimator-id-2\" class=\"sk-toggleable__label fitted sk-toggleable__label-arrow\"><div><div>SVC</div></div><div><a class=\"sk-estimator-doc-link fitted\" rel=\"noreferrer\" target=\"_blank\" href=\"https://scikit-learn.org/1.6/modules/generated/sklearn.svm.SVC.html\">?<span>Documentation for SVC</span></a><span class=\"sk-estimator-doc-link fitted\">i<span>Fitted</span></span></div></label><div class=\"sk-toggleable__content fitted\"><pre>SVC(kernel=&#x27;linear&#x27;, probability=True, random_state=42)</pre></div> </div></div></div></div>"
            ]
          },
          "metadata": {},
          "execution_count": 40
        }
      ]
    },
    {
      "cell_type": "code",
      "source": [
        "def predict_category(skill_name, threshold=0.5):\n",
        "    skill_vector = vectorizer.transform([skill_name])\n",
        "\n",
        "    probabilities = svm_model.predict_proba(skill_vector)[0]\n",
        "    max_prob = max(probabilities)\n",
        "    predicted_label = np.argmax(probabilities)\n",
        "    if max_prob < threshold:\n",
        "        return \"Unknown\"\n",
        "    return label_encoder.inverse_transform([predicted_label])[0]\n"
      ],
      "metadata": {
        "id": "pHCdDTVQQ-P7"
      },
      "execution_count": 41,
      "outputs": []
    },
    {
      "cell_type": "code",
      "source": [
        "def assign_unknown_category_name(skill):\n",
        "    skill = skill.lower()\n",
        "\n",
        "    # Defining some keyword-based mappings\n",
        "    category_mappings = {\n",
        "        \"ai\": \"Data and AI Skills\",\n",
        "        \"ml\": \"Data and AI Skills\",\n",
        "        \"cloud\": \"Technical Skills\",\n",
        "        \"software\": \"Technical Skills\",\n",
        "        \"design\": \"Creative Skills\",\n",
        "        \"marketing\": \"Business & Management Skills\",\n",
        "        \"leadership\": \"Business & Management Skills\",\n",
        "        \"finance\": \"Business & Management Skills\",\n",
        "        \"project\": \"Business & Management Skills\",\n",
        "        \"health\": \"Healthcare & Life Sciences\",\n",
        "        \"biotech\": \"Healthcare & Life Sciences\",\n",
        "        \"law\": \"Legal & Compliance\",\n",
        "        \"risk\": \"Legal & Compliance\",\n",
        "    }\n",
        "\n",
        "    for keyword, category in category_mappings.items():\n",
        "        if keyword in skill:\n",
        "            return category\n",
        "    return f\"New Category: {skill.title()}\""
      ],
      "metadata": {
        "id": "opklNB7ybbV7"
      },
      "execution_count": 42,
      "outputs": []
    },
    {
      "cell_type": "code",
      "source": [
        "import numpy as np\n",
        "\n",
        "def categorize_skills_dynamic(skills, predefined_categories, model):\n",
        "    df = pd.DataFrame(np.zeros((len(skills), len(predefined_categories))), columns=predefined_categories)\n",
        "\n",
        "    dynamic_categories = predefined_categories.copy()\n",
        "\n",
        "    for i, skill in enumerate(skills):\n",
        "        predicted_category = predict_category(skill)\n",
        "\n",
        "        if predicted_category == \"Unknown\":\n",
        "            believable_category = assign_unknown_category_name(skill)\n",
        "\n",
        "            if believable_category not in df.columns:\n",
        "                df[believable_category] = 0\n",
        "                dynamic_categories.append(believable_category)\n",
        "\n",
        "            df.at[i, believable_category] = 1\n",
        "        else:\n",
        "            df.at[i, predicted_category] = 1\n",
        "\n",
        "    df.insert(0, \"Skill\", skills)\n",
        "\n",
        "    return df, dynamic_categories"
      ],
      "metadata": {
        "id": "VjgygnScQ7DQ"
      },
      "execution_count": 43,
      "outputs": []
    },
    {
      "cell_type": "markdown",
      "source": [
        "### **Saving our model**"
      ],
      "metadata": {
        "id": "hDZt_UTBDVQJ"
      }
    },
    {
      "cell_type": "code",
      "source": [
        "import joblib\n",
        "\n",
        "joblib.dump(svm_model, \"skill_categorization_model.pkl\")\n",
        "\n",
        "joblib.dump(vectorizer, \"tfidf_vectorizer.pkl\")\n",
        "\n",
        "joblib.dump(label_encoder, \"label_encoder.pkl\")\n",
        "\n",
        "print(\"Model, Vectorizer, and Label Encoder saved successfully!\")\n"
      ],
      "metadata": {
        "colab": {
          "base_uri": "https://localhost:8080/"
        },
        "id": "LIOODcHEDakh",
        "outputId": "adf97a22-37e1-4647-cfe4-0255eb12de5a"
      },
      "execution_count": 45,
      "outputs": [
        {
          "output_type": "stream",
          "name": "stdout",
          "text": [
            "Model, Vectorizer, and Label Encoder saved successfully!\n"
          ]
        }
      ]
    },
    {
      "cell_type": "code",
      "source": [
        "loaded_model = joblib.load(\"skill_categorization_model.pkl\")\n",
        "loaded_vectorizer = joblib.load(\"tfidf_vectorizer.pkl\")\n",
        "loaded_label_encoder = joblib.load(\"label_encoder.pkl\")\n",
        "\n",
        "print(\"Loaded Model and Components Successfully!\")\n"
      ],
      "metadata": {
        "colab": {
          "base_uri": "https://localhost:8080/"
        },
        "id": "0ZrN59X3FaRG",
        "outputId": "41600633-f55b-4057-de3e-14fa27e0958c"
      },
      "execution_count": 48,
      "outputs": [
        {
          "output_type": "stream",
          "name": "stdout",
          "text": [
            "Loaded Model and Components Successfully!\n"
          ]
        }
      ]
    },
    {
      "cell_type": "code",
      "source": [
        "import pickle\n",
        "\n",
        "with open(\"skill_model.pkl\", \"wb\") as model_file:\n",
        "    pickle.dump(svm_model, model_file)\n",
        "\n",
        "with open(\"vectorizer.pkl\", \"wb\") as vectorizer_file:\n",
        "    pickle.dump(vectorizer, vectorizer_file)\n",
        "\n",
        "from google.colab import files\n",
        "files.download(\"skill_model.pkl\")\n",
        "files.download(\"vectorizer.pkl\")"
      ],
      "metadata": {
        "colab": {
          "base_uri": "https://localhost:8080/",
          "height": 16
        },
        "id": "mzHlnrAlQYkS",
        "outputId": "f3c9f0d4-bf2d-452f-a0a0-d02d4bd32abd"
      },
      "execution_count": 59,
      "outputs": [
        {
          "output_type": "display_data",
          "data": {
            "text/plain": [
              "<IPython.core.display.Javascript object>"
            ],
            "application/javascript": [
              "\n",
              "    async function download(id, filename, size) {\n",
              "      if (!google.colab.kernel.accessAllowed) {\n",
              "        return;\n",
              "      }\n",
              "      const div = document.createElement('div');\n",
              "      const label = document.createElement('label');\n",
              "      label.textContent = `Downloading \"${filename}\": `;\n",
              "      div.appendChild(label);\n",
              "      const progress = document.createElement('progress');\n",
              "      progress.max = size;\n",
              "      div.appendChild(progress);\n",
              "      document.body.appendChild(div);\n",
              "\n",
              "      const buffers = [];\n",
              "      let downloaded = 0;\n",
              "\n",
              "      const channel = await google.colab.kernel.comms.open(id);\n",
              "      // Send a message to notify the kernel that we're ready.\n",
              "      channel.send({})\n",
              "\n",
              "      for await (const message of channel.messages) {\n",
              "        // Send a message to notify the kernel that we're ready.\n",
              "        channel.send({})\n",
              "        if (message.buffers) {\n",
              "          for (const buffer of message.buffers) {\n",
              "            buffers.push(buffer);\n",
              "            downloaded += buffer.byteLength;\n",
              "            progress.value = downloaded;\n",
              "          }\n",
              "        }\n",
              "      }\n",
              "      const blob = new Blob(buffers, {type: 'application/binary'});\n",
              "      const a = document.createElement('a');\n",
              "      a.href = window.URL.createObjectURL(blob);\n",
              "      a.download = filename;\n",
              "      div.appendChild(a);\n",
              "      a.click();\n",
              "      div.remove();\n",
              "    }\n",
              "  "
            ]
          },
          "metadata": {}
        },
        {
          "output_type": "display_data",
          "data": {
            "text/plain": [
              "<IPython.core.display.Javascript object>"
            ],
            "application/javascript": [
              "download(\"download_c37ee808-ae4b-47e7-8ec5-9cbac98e5e77\", \"skill_model.pkl\", 92095)"
            ]
          },
          "metadata": {}
        },
        {
          "output_type": "display_data",
          "data": {
            "text/plain": [
              "<IPython.core.display.Javascript object>"
            ],
            "application/javascript": [
              "\n",
              "    async function download(id, filename, size) {\n",
              "      if (!google.colab.kernel.accessAllowed) {\n",
              "        return;\n",
              "      }\n",
              "      const div = document.createElement('div');\n",
              "      const label = document.createElement('label');\n",
              "      label.textContent = `Downloading \"${filename}\": `;\n",
              "      div.appendChild(label);\n",
              "      const progress = document.createElement('progress');\n",
              "      progress.max = size;\n",
              "      div.appendChild(progress);\n",
              "      document.body.appendChild(div);\n",
              "\n",
              "      const buffers = [];\n",
              "      let downloaded = 0;\n",
              "\n",
              "      const channel = await google.colab.kernel.comms.open(id);\n",
              "      // Send a message to notify the kernel that we're ready.\n",
              "      channel.send({})\n",
              "\n",
              "      for await (const message of channel.messages) {\n",
              "        // Send a message to notify the kernel that we're ready.\n",
              "        channel.send({})\n",
              "        if (message.buffers) {\n",
              "          for (const buffer of message.buffers) {\n",
              "            buffers.push(buffer);\n",
              "            downloaded += buffer.byteLength;\n",
              "            progress.value = downloaded;\n",
              "          }\n",
              "        }\n",
              "      }\n",
              "      const blob = new Blob(buffers, {type: 'application/binary'});\n",
              "      const a = document.createElement('a');\n",
              "      a.href = window.URL.createObjectURL(blob);\n",
              "      a.download = filename;\n",
              "      div.appendChild(a);\n",
              "      a.click();\n",
              "      div.remove();\n",
              "    }\n",
              "  "
            ]
          },
          "metadata": {}
        },
        {
          "output_type": "display_data",
          "data": {
            "text/plain": [
              "<IPython.core.display.Javascript object>"
            ],
            "application/javascript": [
              "download(\"download_f247d822-9d4c-4b57-a800-5b4289af0e75\", \"vectorizer.pkl\", 8621)"
            ]
          },
          "metadata": {}
        }
      ]
    },
    {
      "cell_type": "markdown",
      "source": [
        "### **Testing our model**"
      ],
      "metadata": {
        "id": "jOreUvXUVHqg"
      }
    },
    {
      "cell_type": "code",
      "source": [
        "skills_input = [\"Python\", \"Data Analysis\", \"JavaScript\", \"Machine Learning\", \"Singing\", \"Risk Management\", \"Cloud Computing\", \"Biotech Research\", \"Reading\", \"Human Resource\"]\n",
        "\n",
        "categorized_df, dynamic_categories = categorize_skills_dynamic(skills_input, predefined_categories, predict_category)\n",
        "\n",
        "categorized_df"
      ],
      "metadata": {
        "colab": {
          "base_uri": "https://localhost:8080/",
          "height": 352
        },
        "id": "v_CfNv_HhXFO",
        "outputId": "b94c052f-d51f-4efc-fb6d-21d1486c75cb"
      },
      "execution_count": 63,
      "outputs": [
        {
          "output_type": "execute_result",
          "data": {
            "text/plain": [
              "              Skill  creative skills  data and analytical skills  soft skills  \\\n",
              "0            Python              0.0                         0.0          0.0   \n",
              "1     Data Analysis              0.0                         1.0          0.0   \n",
              "2        JavaScript              0.0                         0.0          0.0   \n",
              "3  Machine Learning              0.0                         1.0          0.0   \n",
              "4           Singing              0.0                         0.0          0.0   \n",
              "5   Risk Management              0.0                         0.0          0.0   \n",
              "6   Cloud Computing              0.0                         0.0          0.0   \n",
              "7  Biotech Research              0.0                         0.0          0.0   \n",
              "8           Reading              0.0                         0.0          0.0   \n",
              "9    Human Resource              0.0                         0.0          0.0   \n",
              "\n",
              "   business and management skills  technical skills  New Category: Singing  New Category: Reading  \n",
              "0                             0.0               1.0                      0                      0  \n",
              "1                             0.0               0.0                      0                      0  \n",
              "2                             0.0               1.0                      0                      0  \n",
              "3                             0.0               0.0                      0                      0  \n",
              "4                             0.0               0.0                      1                      0  \n",
              "5                             1.0               0.0                      0                      0  \n",
              "6                             0.0               1.0                      0                      0  \n",
              "7                             1.0               0.0                      0                      0  \n",
              "8                             0.0               0.0                      0                      1  \n",
              "9                             1.0               0.0                      0                      0  "
            ],
            "text/html": [
              "\n",
              "  <div id=\"df-cbb698ec-40da-4037-a623-b3a05e72c6bc\" class=\"colab-df-container\">\n",
              "    <div>\n",
              "<style scoped>\n",
              "    .dataframe tbody tr th:only-of-type {\n",
              "        vertical-align: middle;\n",
              "    }\n",
              "\n",
              "    .dataframe tbody tr th {\n",
              "        vertical-align: top;\n",
              "    }\n",
              "\n",
              "    .dataframe thead th {\n",
              "        text-align: right;\n",
              "    }\n",
              "</style>\n",
              "<table border=\"1\" class=\"dataframe\">\n",
              "  <thead>\n",
              "    <tr style=\"text-align: right;\">\n",
              "      <th></th>\n",
              "      <th>Skill</th>\n",
              "      <th>creative skills</th>\n",
              "      <th>data and analytical skills</th>\n",
              "      <th>soft skills</th>\n",
              "      <th>business and management skills</th>\n",
              "      <th>technical skills</th>\n",
              "      <th>New Category: Singing</th>\n",
              "      <th>New Category: Reading</th>\n",
              "    </tr>\n",
              "  </thead>\n",
              "  <tbody>\n",
              "    <tr>\n",
              "      <th>0</th>\n",
              "      <td>Python</td>\n",
              "      <td>0.0</td>\n",
              "      <td>0.0</td>\n",
              "      <td>0.0</td>\n",
              "      <td>0.0</td>\n",
              "      <td>1.0</td>\n",
              "      <td>0</td>\n",
              "      <td>0</td>\n",
              "    </tr>\n",
              "    <tr>\n",
              "      <th>1</th>\n",
              "      <td>Data Analysis</td>\n",
              "      <td>0.0</td>\n",
              "      <td>1.0</td>\n",
              "      <td>0.0</td>\n",
              "      <td>0.0</td>\n",
              "      <td>0.0</td>\n",
              "      <td>0</td>\n",
              "      <td>0</td>\n",
              "    </tr>\n",
              "    <tr>\n",
              "      <th>2</th>\n",
              "      <td>JavaScript</td>\n",
              "      <td>0.0</td>\n",
              "      <td>0.0</td>\n",
              "      <td>0.0</td>\n",
              "      <td>0.0</td>\n",
              "      <td>1.0</td>\n",
              "      <td>0</td>\n",
              "      <td>0</td>\n",
              "    </tr>\n",
              "    <tr>\n",
              "      <th>3</th>\n",
              "      <td>Machine Learning</td>\n",
              "      <td>0.0</td>\n",
              "      <td>1.0</td>\n",
              "      <td>0.0</td>\n",
              "      <td>0.0</td>\n",
              "      <td>0.0</td>\n",
              "      <td>0</td>\n",
              "      <td>0</td>\n",
              "    </tr>\n",
              "    <tr>\n",
              "      <th>4</th>\n",
              "      <td>Singing</td>\n",
              "      <td>0.0</td>\n",
              "      <td>0.0</td>\n",
              "      <td>0.0</td>\n",
              "      <td>0.0</td>\n",
              "      <td>0.0</td>\n",
              "      <td>1</td>\n",
              "      <td>0</td>\n",
              "    </tr>\n",
              "    <tr>\n",
              "      <th>5</th>\n",
              "      <td>Risk Management</td>\n",
              "      <td>0.0</td>\n",
              "      <td>0.0</td>\n",
              "      <td>0.0</td>\n",
              "      <td>1.0</td>\n",
              "      <td>0.0</td>\n",
              "      <td>0</td>\n",
              "      <td>0</td>\n",
              "    </tr>\n",
              "    <tr>\n",
              "      <th>6</th>\n",
              "      <td>Cloud Computing</td>\n",
              "      <td>0.0</td>\n",
              "      <td>0.0</td>\n",
              "      <td>0.0</td>\n",
              "      <td>0.0</td>\n",
              "      <td>1.0</td>\n",
              "      <td>0</td>\n",
              "      <td>0</td>\n",
              "    </tr>\n",
              "    <tr>\n",
              "      <th>7</th>\n",
              "      <td>Biotech Research</td>\n",
              "      <td>0.0</td>\n",
              "      <td>0.0</td>\n",
              "      <td>0.0</td>\n",
              "      <td>1.0</td>\n",
              "      <td>0.0</td>\n",
              "      <td>0</td>\n",
              "      <td>0</td>\n",
              "    </tr>\n",
              "    <tr>\n",
              "      <th>8</th>\n",
              "      <td>Reading</td>\n",
              "      <td>0.0</td>\n",
              "      <td>0.0</td>\n",
              "      <td>0.0</td>\n",
              "      <td>0.0</td>\n",
              "      <td>0.0</td>\n",
              "      <td>0</td>\n",
              "      <td>1</td>\n",
              "    </tr>\n",
              "    <tr>\n",
              "      <th>9</th>\n",
              "      <td>Human Resource</td>\n",
              "      <td>0.0</td>\n",
              "      <td>0.0</td>\n",
              "      <td>0.0</td>\n",
              "      <td>1.0</td>\n",
              "      <td>0.0</td>\n",
              "      <td>0</td>\n",
              "      <td>0</td>\n",
              "    </tr>\n",
              "  </tbody>\n",
              "</table>\n",
              "</div>\n",
              "    <div class=\"colab-df-buttons\">\n",
              "\n",
              "  <div class=\"colab-df-container\">\n",
              "    <button class=\"colab-df-convert\" onclick=\"convertToInteractive('df-cbb698ec-40da-4037-a623-b3a05e72c6bc')\"\n",
              "            title=\"Convert this dataframe to an interactive table.\"\n",
              "            style=\"display:none;\">\n",
              "\n",
              "  <svg xmlns=\"http://www.w3.org/2000/svg\" height=\"24px\" viewBox=\"0 -960 960 960\">\n",
              "    <path d=\"M120-120v-720h720v720H120Zm60-500h600v-160H180v160Zm220 220h160v-160H400v160Zm0 220h160v-160H400v160ZM180-400h160v-160H180v160Zm440 0h160v-160H620v160ZM180-180h160v-160H180v160Zm440 0h160v-160H620v160Z\"/>\n",
              "  </svg>\n",
              "    </button>\n",
              "\n",
              "  <style>\n",
              "    .colab-df-container {\n",
              "      display:flex;\n",
              "      gap: 12px;\n",
              "    }\n",
              "\n",
              "    .colab-df-convert {\n",
              "      background-color: #E8F0FE;\n",
              "      border: none;\n",
              "      border-radius: 50%;\n",
              "      cursor: pointer;\n",
              "      display: none;\n",
              "      fill: #1967D2;\n",
              "      height: 32px;\n",
              "      padding: 0 0 0 0;\n",
              "      width: 32px;\n",
              "    }\n",
              "\n",
              "    .colab-df-convert:hover {\n",
              "      background-color: #E2EBFA;\n",
              "      box-shadow: 0px 1px 2px rgba(60, 64, 67, 0.3), 0px 1px 3px 1px rgba(60, 64, 67, 0.15);\n",
              "      fill: #174EA6;\n",
              "    }\n",
              "\n",
              "    .colab-df-buttons div {\n",
              "      margin-bottom: 4px;\n",
              "    }\n",
              "\n",
              "    [theme=dark] .colab-df-convert {\n",
              "      background-color: #3B4455;\n",
              "      fill: #D2E3FC;\n",
              "    }\n",
              "\n",
              "    [theme=dark] .colab-df-convert:hover {\n",
              "      background-color: #434B5C;\n",
              "      box-shadow: 0px 1px 3px 1px rgba(0, 0, 0, 0.15);\n",
              "      filter: drop-shadow(0px 1px 2px rgba(0, 0, 0, 0.3));\n",
              "      fill: #FFFFFF;\n",
              "    }\n",
              "  </style>\n",
              "\n",
              "    <script>\n",
              "      const buttonEl =\n",
              "        document.querySelector('#df-cbb698ec-40da-4037-a623-b3a05e72c6bc button.colab-df-convert');\n",
              "      buttonEl.style.display =\n",
              "        google.colab.kernel.accessAllowed ? 'block' : 'none';\n",
              "\n",
              "      async function convertToInteractive(key) {\n",
              "        const element = document.querySelector('#df-cbb698ec-40da-4037-a623-b3a05e72c6bc');\n",
              "        const dataTable =\n",
              "          await google.colab.kernel.invokeFunction('convertToInteractive',\n",
              "                                                    [key], {});\n",
              "        if (!dataTable) return;\n",
              "\n",
              "        const docLinkHtml = 'Like what you see? Visit the ' +\n",
              "          '<a target=\"_blank\" href=https://colab.research.google.com/notebooks/data_table.ipynb>data table notebook</a>'\n",
              "          + ' to learn more about interactive tables.';\n",
              "        element.innerHTML = '';\n",
              "        dataTable['output_type'] = 'display_data';\n",
              "        await google.colab.output.renderOutput(dataTable, element);\n",
              "        const docLink = document.createElement('div');\n",
              "        docLink.innerHTML = docLinkHtml;\n",
              "        element.appendChild(docLink);\n",
              "      }\n",
              "    </script>\n",
              "  </div>\n",
              "\n",
              "\n",
              "<div id=\"df-32be8b78-d11c-49d5-8c80-a39a712c463a\">\n",
              "  <button class=\"colab-df-quickchart\" onclick=\"quickchart('df-32be8b78-d11c-49d5-8c80-a39a712c463a')\"\n",
              "            title=\"Suggest charts\"\n",
              "            style=\"display:none;\">\n",
              "\n",
              "<svg xmlns=\"http://www.w3.org/2000/svg\" height=\"24px\"viewBox=\"0 0 24 24\"\n",
              "     width=\"24px\">\n",
              "    <g>\n",
              "        <path d=\"M19 3H5c-1.1 0-2 .9-2 2v14c0 1.1.9 2 2 2h14c1.1 0 2-.9 2-2V5c0-1.1-.9-2-2-2zM9 17H7v-7h2v7zm4 0h-2V7h2v10zm4 0h-2v-4h2v4z\"/>\n",
              "    </g>\n",
              "</svg>\n",
              "  </button>\n",
              "\n",
              "<style>\n",
              "  .colab-df-quickchart {\n",
              "      --bg-color: #E8F0FE;\n",
              "      --fill-color: #1967D2;\n",
              "      --hover-bg-color: #E2EBFA;\n",
              "      --hover-fill-color: #174EA6;\n",
              "      --disabled-fill-color: #AAA;\n",
              "      --disabled-bg-color: #DDD;\n",
              "  }\n",
              "\n",
              "  [theme=dark] .colab-df-quickchart {\n",
              "      --bg-color: #3B4455;\n",
              "      --fill-color: #D2E3FC;\n",
              "      --hover-bg-color: #434B5C;\n",
              "      --hover-fill-color: #FFFFFF;\n",
              "      --disabled-bg-color: #3B4455;\n",
              "      --disabled-fill-color: #666;\n",
              "  }\n",
              "\n",
              "  .colab-df-quickchart {\n",
              "    background-color: var(--bg-color);\n",
              "    border: none;\n",
              "    border-radius: 50%;\n",
              "    cursor: pointer;\n",
              "    display: none;\n",
              "    fill: var(--fill-color);\n",
              "    height: 32px;\n",
              "    padding: 0;\n",
              "    width: 32px;\n",
              "  }\n",
              "\n",
              "  .colab-df-quickchart:hover {\n",
              "    background-color: var(--hover-bg-color);\n",
              "    box-shadow: 0 1px 2px rgba(60, 64, 67, 0.3), 0 1px 3px 1px rgba(60, 64, 67, 0.15);\n",
              "    fill: var(--button-hover-fill-color);\n",
              "  }\n",
              "\n",
              "  .colab-df-quickchart-complete:disabled,\n",
              "  .colab-df-quickchart-complete:disabled:hover {\n",
              "    background-color: var(--disabled-bg-color);\n",
              "    fill: var(--disabled-fill-color);\n",
              "    box-shadow: none;\n",
              "  }\n",
              "\n",
              "  .colab-df-spinner {\n",
              "    border: 2px solid var(--fill-color);\n",
              "    border-color: transparent;\n",
              "    border-bottom-color: var(--fill-color);\n",
              "    animation:\n",
              "      spin 1s steps(1) infinite;\n",
              "  }\n",
              "\n",
              "  @keyframes spin {\n",
              "    0% {\n",
              "      border-color: transparent;\n",
              "      border-bottom-color: var(--fill-color);\n",
              "      border-left-color: var(--fill-color);\n",
              "    }\n",
              "    20% {\n",
              "      border-color: transparent;\n",
              "      border-left-color: var(--fill-color);\n",
              "      border-top-color: var(--fill-color);\n",
              "    }\n",
              "    30% {\n",
              "      border-color: transparent;\n",
              "      border-left-color: var(--fill-color);\n",
              "      border-top-color: var(--fill-color);\n",
              "      border-right-color: var(--fill-color);\n",
              "    }\n",
              "    40% {\n",
              "      border-color: transparent;\n",
              "      border-right-color: var(--fill-color);\n",
              "      border-top-color: var(--fill-color);\n",
              "    }\n",
              "    60% {\n",
              "      border-color: transparent;\n",
              "      border-right-color: var(--fill-color);\n",
              "    }\n",
              "    80% {\n",
              "      border-color: transparent;\n",
              "      border-right-color: var(--fill-color);\n",
              "      border-bottom-color: var(--fill-color);\n",
              "    }\n",
              "    90% {\n",
              "      border-color: transparent;\n",
              "      border-bottom-color: var(--fill-color);\n",
              "    }\n",
              "  }\n",
              "</style>\n",
              "\n",
              "  <script>\n",
              "    async function quickchart(key) {\n",
              "      const quickchartButtonEl =\n",
              "        document.querySelector('#' + key + ' button');\n",
              "      quickchartButtonEl.disabled = true;  // To prevent multiple clicks.\n",
              "      quickchartButtonEl.classList.add('colab-df-spinner');\n",
              "      try {\n",
              "        const charts = await google.colab.kernel.invokeFunction(\n",
              "            'suggestCharts', [key], {});\n",
              "      } catch (error) {\n",
              "        console.error('Error during call to suggestCharts:', error);\n",
              "      }\n",
              "      quickchartButtonEl.classList.remove('colab-df-spinner');\n",
              "      quickchartButtonEl.classList.add('colab-df-quickchart-complete');\n",
              "    }\n",
              "    (() => {\n",
              "      let quickchartButtonEl =\n",
              "        document.querySelector('#df-32be8b78-d11c-49d5-8c80-a39a712c463a button');\n",
              "      quickchartButtonEl.style.display =\n",
              "        google.colab.kernel.accessAllowed ? 'block' : 'none';\n",
              "    })();\n",
              "  </script>\n",
              "</div>\n",
              "\n",
              "  <div id=\"id_d5e39eab-fbe0-41be-9dbb-fffedc384938\">\n",
              "    <style>\n",
              "      .colab-df-generate {\n",
              "        background-color: #E8F0FE;\n",
              "        border: none;\n",
              "        border-radius: 50%;\n",
              "        cursor: pointer;\n",
              "        display: none;\n",
              "        fill: #1967D2;\n",
              "        height: 32px;\n",
              "        padding: 0 0 0 0;\n",
              "        width: 32px;\n",
              "      }\n",
              "\n",
              "      .colab-df-generate:hover {\n",
              "        background-color: #E2EBFA;\n",
              "        box-shadow: 0px 1px 2px rgba(60, 64, 67, 0.3), 0px 1px 3px 1px rgba(60, 64, 67, 0.15);\n",
              "        fill: #174EA6;\n",
              "      }\n",
              "\n",
              "      [theme=dark] .colab-df-generate {\n",
              "        background-color: #3B4455;\n",
              "        fill: #D2E3FC;\n",
              "      }\n",
              "\n",
              "      [theme=dark] .colab-df-generate:hover {\n",
              "        background-color: #434B5C;\n",
              "        box-shadow: 0px 1px 3px 1px rgba(0, 0, 0, 0.15);\n",
              "        filter: drop-shadow(0px 1px 2px rgba(0, 0, 0, 0.3));\n",
              "        fill: #FFFFFF;\n",
              "      }\n",
              "    </style>\n",
              "    <button class=\"colab-df-generate\" onclick=\"generateWithVariable('categorized_df')\"\n",
              "            title=\"Generate code using this dataframe.\"\n",
              "            style=\"display:none;\">\n",
              "\n",
              "  <svg xmlns=\"http://www.w3.org/2000/svg\" height=\"24px\"viewBox=\"0 0 24 24\"\n",
              "       width=\"24px\">\n",
              "    <path d=\"M7,19H8.4L18.45,9,17,7.55,7,17.6ZM5,21V16.75L18.45,3.32a2,2,0,0,1,2.83,0l1.4,1.43a1.91,1.91,0,0,1,.58,1.4,1.91,1.91,0,0,1-.58,1.4L9.25,21ZM18.45,9,17,7.55Zm-12,3A5.31,5.31,0,0,0,4.9,8.1,5.31,5.31,0,0,0,1,6.5,5.31,5.31,0,0,0,4.9,4.9,5.31,5.31,0,0,0,6.5,1,5.31,5.31,0,0,0,8.1,4.9,5.31,5.31,0,0,0,12,6.5,5.46,5.46,0,0,0,6.5,12Z\"/>\n",
              "  </svg>\n",
              "    </button>\n",
              "    <script>\n",
              "      (() => {\n",
              "      const buttonEl =\n",
              "        document.querySelector('#id_d5e39eab-fbe0-41be-9dbb-fffedc384938 button.colab-df-generate');\n",
              "      buttonEl.style.display =\n",
              "        google.colab.kernel.accessAllowed ? 'block' : 'none';\n",
              "\n",
              "      buttonEl.onclick = () => {\n",
              "        google.colab.notebook.generateWithVariable('categorized_df');\n",
              "      }\n",
              "      })();\n",
              "    </script>\n",
              "  </div>\n",
              "\n",
              "    </div>\n",
              "  </div>\n"
            ],
            "application/vnd.google.colaboratory.intrinsic+json": {
              "type": "dataframe",
              "variable_name": "categorized_df",
              "summary": "{\n  \"name\": \"categorized_df\",\n  \"rows\": 10,\n  \"fields\": [\n    {\n      \"column\": \"Skill\",\n      \"properties\": {\n        \"dtype\": \"string\",\n        \"num_unique_values\": 10,\n        \"samples\": [\n          \"Reading\",\n          \"Data Analysis\",\n          \"Risk Management\"\n        ],\n        \"semantic_type\": \"\",\n        \"description\": \"\"\n      }\n    },\n    {\n      \"column\": \"creative skills\",\n      \"properties\": {\n        \"dtype\": \"number\",\n        \"std\": 0.0,\n        \"min\": 0.0,\n        \"max\": 0.0,\n        \"num_unique_values\": 1,\n        \"samples\": [\n          0.0\n        ],\n        \"semantic_type\": \"\",\n        \"description\": \"\"\n      }\n    },\n    {\n      \"column\": \"data and analytical skills\",\n      \"properties\": {\n        \"dtype\": \"number\",\n        \"std\": 0.42163702135578396,\n        \"min\": 0.0,\n        \"max\": 1.0,\n        \"num_unique_values\": 2,\n        \"samples\": [\n          1.0\n        ],\n        \"semantic_type\": \"\",\n        \"description\": \"\"\n      }\n    },\n    {\n      \"column\": \"soft skills\",\n      \"properties\": {\n        \"dtype\": \"number\",\n        \"std\": 0.0,\n        \"min\": 0.0,\n        \"max\": 0.0,\n        \"num_unique_values\": 1,\n        \"samples\": [\n          0.0\n        ],\n        \"semantic_type\": \"\",\n        \"description\": \"\"\n      }\n    },\n    {\n      \"column\": \"business and management skills\",\n      \"properties\": {\n        \"dtype\": \"number\",\n        \"std\": 0.48304589153964794,\n        \"min\": 0.0,\n        \"max\": 1.0,\n        \"num_unique_values\": 2,\n        \"samples\": [\n          1.0\n        ],\n        \"semantic_type\": \"\",\n        \"description\": \"\"\n      }\n    },\n    {\n      \"column\": \"technical skills\",\n      \"properties\": {\n        \"dtype\": \"number\",\n        \"std\": 0.48304589153964794,\n        \"min\": 0.0,\n        \"max\": 1.0,\n        \"num_unique_values\": 2,\n        \"samples\": [\n          0.0\n        ],\n        \"semantic_type\": \"\",\n        \"description\": \"\"\n      }\n    },\n    {\n      \"column\": \"New Category: Singing\",\n      \"properties\": {\n        \"dtype\": \"number\",\n        \"std\": 0,\n        \"min\": 0,\n        \"max\": 1,\n        \"num_unique_values\": 2,\n        \"samples\": [\n          1\n        ],\n        \"semantic_type\": \"\",\n        \"description\": \"\"\n      }\n    },\n    {\n      \"column\": \"New Category: Reading\",\n      \"properties\": {\n        \"dtype\": \"number\",\n        \"std\": 0,\n        \"min\": 0,\n        \"max\": 1,\n        \"num_unique_values\": 2,\n        \"samples\": [\n          1\n        ],\n        \"semantic_type\": \"\",\n        \"description\": \"\"\n      }\n    }\n  ]\n}"
            }
          },
          "metadata": {},
          "execution_count": 63
        }
      ]
    },
    {
      "cell_type": "markdown",
      "source": [
        "## **Conclusion: Our model now predicts skill categories and also dynamically classifies skills into seperate columns for those which it does not recognize**"
      ],
      "metadata": {
        "id": "H9ak42vjXSSB"
      }
    },
    {
      "cell_type": "markdown",
      "source": [
        "### ***For some reason the dynamic categorization for unrecognised skills does not work in the API. But it does in the code here..please verify for your surity.***"
      ],
      "metadata": {
        "id": "mtXCBpwVXnFy"
      }
    },
    {
      "cell_type": "markdown",
      "source": [
        "### ***Please Ignore: Debugging Code***"
      ],
      "metadata": {
        "id": "iQ0tMs0kasMh"
      }
    },
    {
      "cell_type": "code",
      "source": [
        "print(svm_model.predict_proba(vectorizer.transform(['Uncommon Skill'])))"
      ],
      "metadata": {
        "colab": {
          "base_uri": "https://localhost:8080/"
        },
        "id": "3QG-XzNqZQx-",
        "outputId": "3d648b30-dd69-4174-f356-b9e3ed0c7f8f"
      },
      "execution_count": 46,
      "outputs": [
        {
          "output_type": "stream",
          "name": "stdout",
          "text": [
            "[[0.11887487 0.1363478  0.09875933 0.30118616 0.34483185]]\n"
          ]
        }
      ]
    },
    {
      "cell_type": "code",
      "source": [
        "print(predict_category(\"Uncommon Skill\"))\n",
        "print(predict_category(\"Python\"))"
      ],
      "metadata": {
        "colab": {
          "base_uri": "https://localhost:8080/"
        },
        "id": "9_OZNnilZ26P",
        "outputId": "8699c2cd-9071-4f95-e33e-ebb8f212bcd9"
      },
      "execution_count": 47,
      "outputs": [
        {
          "output_type": "stream",
          "name": "stdout",
          "text": [
            "Unknown\n",
            "technical skills\n"
          ]
        }
      ]
    },
    {
      "cell_type": "code",
      "source": [],
      "metadata": {
        "id": "BKHXw_76aLsM"
      },
      "execution_count": 47,
      "outputs": []
    }
  ]
}